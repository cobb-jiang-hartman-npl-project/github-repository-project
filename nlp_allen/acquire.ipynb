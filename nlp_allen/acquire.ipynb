{
 "cells": [
  {
   "cell_type": "code",
   "execution_count": 20,
   "metadata": {},
   "outputs": [],
   "source": [
    "import pandas as pd \n",
    "import numpy as np\n",
    "import env \n",
    "import acquire\n",
    "from requests import get\n",
    "from bs4 import BeautifulSoup\n",
    "import re\n",
    "import time\n"
   ]
  },
  {
   "cell_type": "markdown",
   "metadata": {},
   "source": [
    "# Analyze one search page and grab all the repo names into a list"
   ]
  },
  {
   "cell_type": "code",
   "execution_count": 2,
   "metadata": {},
   "outputs": [],
   "source": [
    "url = 'https://github.com/search?o=desc&q=stars:%3E1&s=forks&type=Repositories'\n",
    "headers = {'User-Agent': 'Codeup Data Science'} \n",
    "response = get(url, headers=headers)"
   ]
  },
  {
   "cell_type": "markdown",
   "metadata": {},
   "source": [
    "**This shows how to find url in a soup object**"
   ]
  },
  {
   "cell_type": "code",
   "execution_count": 3,
   "metadata": {},
   "outputs": [
    {
     "data": {
      "text/plain": [
       "'/jtleek/datasharing'"
      ]
     },
     "execution_count": 3,
     "metadata": {},
     "output_type": "execute_result"
    }
   ],
   "source": [
    "soup = BeautifulSoup(response.content, 'html.parser')\n",
    "items = soup.find_all('a', class_='v-align-middle')\n",
    "items[0].get('href')"
   ]
  },
  {
   "cell_type": "code",
   "execution_count": 4,
   "metadata": {},
   "outputs": [],
   "source": [
    "items = soup.find_all('a', class_='v-align-middle')"
   ]
  },
  {
   "cell_type": "code",
   "execution_count": 5,
   "metadata": {
    "scrolled": true
   },
   "outputs": [
    {
     "data": {
      "text/plain": [
       "['/jtleek/datasharing',\n",
       " '/rdpeng/ProgrammingAssignment2',\n",
       " '/octocat/Spoon-Knife',\n",
       " '/tensorflow/tensorflow',\n",
       " '/SmartThingsCommunity/SmartThingsPublic',\n",
       " '/twbs/bootstrap',\n",
       " '/github/gitignore',\n",
       " '/rdpeng/ExData_Plotting1',\n",
       " '/tensorflow/models',\n",
       " '/nightscout/cgm-remote-monitor']"
      ]
     },
     "execution_count": 5,
     "metadata": {},
     "output_type": "execute_result"
    }
   ],
   "source": [
    "repos=[]\n",
    "for item in items:\n",
    "    repos.append(item.get('href'))\n",
    "repos"
   ]
  },
  {
   "cell_type": "code",
   "execution_count": 6,
   "metadata": {},
   "outputs": [],
   "source": [
    "def get_repo_names_from_one_page(url):\n",
    "    headers = {'User-Agent': 'Codeup Data Science'} \n",
    "    response = get(url, headers=headers)\n",
    "    soup = BeautifulSoup(response.content, 'html.parser')\n",
    "    items = soup.find_all('a', class_='v-align-middle')\n",
    "    repos=[]\n",
    "    for item in items:\n",
    "        repos.append(item.get('href'))\n",
    "    return repos"
   ]
  },
  {
   "cell_type": "code",
   "execution_count": 7,
   "metadata": {},
   "outputs": [
    {
     "data": {
      "text/plain": [
       "['/jtleek/datasharing',\n",
       " '/rdpeng/ProgrammingAssignment2',\n",
       " '/octocat/Spoon-Knife',\n",
       " '/tensorflow/tensorflow',\n",
       " '/SmartThingsCommunity/SmartThingsPublic',\n",
       " '/twbs/bootstrap',\n",
       " '/github/gitignore',\n",
       " '/rdpeng/ExData_Plotting1',\n",
       " '/tensorflow/models',\n",
       " '/nightscout/cgm-remote-monitor']"
      ]
     },
     "execution_count": 7,
     "metadata": {},
     "output_type": "execute_result"
    }
   ],
   "source": [
    "get_repo_names_from_one_page(url)"
   ]
  },
  {
   "cell_type": "markdown",
   "metadata": {},
   "source": [
    "# Analyze urls and loop throught multipages"
   ]
  },
  {
   "cell_type": "markdown",
   "metadata": {},
   "source": [
    "https://github.com/search?o=desc&p=1&q=stars%3A%3E1&s=forks&type=Repositories\n",
    "https://github.com/search?o=desc&p=2&q=stars%3A%3E1&s=forks&type=Repositories\n",
    "https://github.com/search?o=desc&p=3&q=stars%3A%3E1&s=forks&type=Repositories\n"
   ]
  },
  {
   "cell_type": "code",
   "execution_count": 8,
   "metadata": {},
   "outputs": [
    {
     "name": "stdout",
     "output_type": "stream",
     "text": [
      "Hello, Eric. You are 74.Hello, Eric. You are 74.\n"
     ]
    }
   ],
   "source": [
    "name = \"Eric\"\n",
    "age = 74\n",
    "print(f\"Hello, {name}. You are {age}.\"\n",
    "'Hello, Eric. You are 74.')"
   ]
  },
  {
   "cell_type": "code",
   "execution_count": 9,
   "metadata": {},
   "outputs": [],
   "source": [
    "page =1\n",
    "url= f'https://github.com/search?o=desc&p={page}&q=stars%3A%3E1&s=forks&type=Repositories'"
   ]
  },
  {
   "cell_type": "code",
   "execution_count": 10,
   "metadata": {
    "scrolled": true
   },
   "outputs": [
    {
     "data": {
      "text/plain": [
       "['/jtleek/datasharing',\n",
       " '/rdpeng/ProgrammingAssignment2',\n",
       " '/octocat/Spoon-Knife',\n",
       " '/tensorflow/tensorflow',\n",
       " '/SmartThingsCommunity/SmartThingsPublic',\n",
       " '/twbs/bootstrap',\n",
       " '/github/gitignore',\n",
       " '/rdpeng/ExData_Plotting1',\n",
       " '/tensorflow/models',\n",
       " '/nightscout/cgm-remote-monitor']"
      ]
     },
     "execution_count": 10,
     "metadata": {},
     "output_type": "execute_result"
    }
   ],
   "source": [
    "repos=[]\n",
    "for page in range(0,1):\n",
    "    url= f'https://github.com/search?o=desc&p={page}&q=stars%3A%3E1&s=forks&type=Repositories'\n",
    "    repos += get_repo_names_from_one_page(url)\n",
    "    \n",
    "repos  "
   ]
  },
  {
   "cell_type": "code",
   "execution_count": 11,
   "metadata": {},
   "outputs": [
    {
     "data": {
      "text/plain": [
       "['jtleek/datasharing',\n",
       " 'rdpeng/ProgrammingAssignment2',\n",
       " 'octocat/Spoon-Knife',\n",
       " 'tensorflow/tensorflow',\n",
       " 'SmartThingsCommunity/SmartThingsPublic',\n",
       " 'twbs/bootstrap',\n",
       " 'github/gitignore',\n",
       " 'rdpeng/ExData_Plotting1',\n",
       " 'tensorflow/models',\n",
       " 'nightscout/cgm-remote-monitor']"
      ]
     },
     "execution_count": 11,
     "metadata": {},
     "output_type": "execute_result"
    }
   ],
   "source": [
    "for i,repo in enumerate(repos):\n",
    "    repos[i]=re.sub(r'^/', '', repo)\n",
    "repos"
   ]
  },
  {
   "cell_type": "code",
   "execution_count": 21,
   "metadata": {},
   "outputs": [],
   "source": [
    "def get_repos(number_of_pages:int):\n",
    "    repos=[]\n",
    "    for page in range(0,number_of_pages):\n",
    "        url= f'https://github.com/search?o=desc&p={page}&q=stars%3A%3E1&s=forks&type=Repositories'\n",
    "        repos += get_repo_names_from_one_page(url)\n",
    "        print(len(repos))\n",
    "        # adding delay time to avoid rate of access limitation on github\n",
    "        time.sleep(5)\n",
    "    return repos\n",
    "    "
   ]
  },
  {
   "cell_type": "code",
   "execution_count": 23,
   "metadata": {},
   "outputs": [
    {
     "name": "stdout",
     "output_type": "stream",
     "text": [
      "200\n",
      "10\n",
      "200\n",
      "20\n",
      "200\n",
      "30\n",
      "200\n",
      "40\n",
      "200\n",
      "50\n",
      "200\n",
      "60\n",
      "200\n",
      "70\n",
      "200\n",
      "80\n",
      "200\n",
      "90\n",
      "200\n",
      "100\n"
     ]
    },
    {
     "data": {
      "text/plain": [
       "['/jtleek/datasharing',\n",
       " '/rdpeng/ProgrammingAssignment2',\n",
       " '/octocat/Spoon-Knife',\n",
       " '/tensorflow/tensorflow',\n",
       " '/SmartThingsCommunity/SmartThingsPublic',\n",
       " '/twbs/bootstrap',\n",
       " '/github/gitignore',\n",
       " '/rdpeng/ExData_Plotting1',\n",
       " '/tensorflow/models',\n",
       " '/nightscout/cgm-remote-monitor',\n",
       " '/jtleek/datasharing',\n",
       " '/rdpeng/ProgrammingAssignment2',\n",
       " '/octocat/Spoon-Knife',\n",
       " '/tensorflow/tensorflow',\n",
       " '/SmartThingsCommunity/SmartThingsPublic',\n",
       " '/twbs/bootstrap',\n",
       " '/github/gitignore',\n",
       " '/rdpeng/ExData_Plotting1',\n",
       " '/tensorflow/models',\n",
       " '/nightscout/cgm-remote-monitor',\n",
       " '/Pierian-Data/Complete-Python-3-Bootcamp',\n",
       " '/opencv/opencv',\n",
       " '/EbookFoundation/free-programming-books',\n",
       " '/jackfrued/Python-100-Days',\n",
       " '/jwasham/coding-interview-university',\n",
       " '/eugenp/tutorials',\n",
       " '/CyC2018/CS-Notes',\n",
       " '/rdpeng/RepData_PeerAssessment1',\n",
       " '/torvalds/linux',\n",
       " '/spring-projects/spring-boot',\n",
       " '/facebook/react',\n",
       " '/DataScienceSpecialization/courses',\n",
       " '/angular/angular.js',\n",
       " '/jlord/patchwork',\n",
       " '/barryclark/jekyll-now',\n",
       " '/Snailclimb/JavaGuide',\n",
       " '/firstcontributions/first-contributions',\n",
       " '/bitcoin/bitcoin',\n",
       " '/spring-projects/spring-framework',\n",
       " '/vuejs/vue',\n",
       " '/getify/You-Dont-Know-JS',\n",
       " '/freeCodeCamp/freeCodeCamp',\n",
       " '/kubernetes/kubernetes',\n",
       " '/udacity/frontend-nanodegree-resume',\n",
       " '/mrdoob/three.js',\n",
       " '/TheAlgorithms/Python',\n",
       " '/LarryMad/recipes',\n",
       " '/ant-design/ant-design',\n",
       " '/d3/d3',\n",
       " '/apache/spark',\n",
       " '/DefinitelyTyped/DefinitelyTyped',\n",
       " '/django/django',\n",
       " '/apache/dubbo',\n",
       " '/996icu/996.ICU',\n",
       " '/justjavac/free-programming-books-zh_CN',\n",
       " '/ohmyzsh/ohmyzsh',\n",
       " '/scikit-learn/scikit-learn',\n",
       " '/shadowsocks/shadowsocks',\n",
       " '/facebook/react-native',\n",
       " '/jquery/jquery',\n",
       " '/git/git',\n",
       " '/ansible/ansible',\n",
       " '/PanJiaChen/vue-element-admin',\n",
       " '/facebook/create-react-app',\n",
       " '/slatedocs/slate',\n",
       " '/airbnb/javascript',\n",
       " '/dotnet/AspNetCore.Docs',\n",
       " '/iluwatar/java-design-patterns',\n",
       " '/laravel/laravel',\n",
       " '/rails/rails',\n",
       " '/BVLC/caffe',\n",
       " '/keras-team/keras',\n",
       " '/sindresorhus/awesome',\n",
       " '/kamranahmedse/developer-roadmap',\n",
       " '/donnemartin/system-design-primer',\n",
       " '/nodejs/node',\n",
       " '/antirez/redis',\n",
       " '/elastic/elasticsearch',\n",
       " '/angular/angular',\n",
       " '/moby/moby',\n",
       " '/wakaleo/game-of-life',\n",
       " '/macrozheng/mall',\n",
       " '/wesbos/JavaScript30',\n",
       " '/python/cpython',\n",
       " '/hakimel/reveal.js',\n",
       " '/helm/charts',\n",
       " '/atom/atom',\n",
       " '/ColorlibHQ/AdminLTE',\n",
       " '/animate-css/animate.css',\n",
       " '/apache/incubator-echarts',\n",
       " '/helm/charts',\n",
       " '/atom/atom',\n",
       " '/ColorlibHQ/AdminLTE',\n",
       " '/animate-css/animate.css',\n",
       " '/apache/incubator-echarts',\n",
       " '/xingshaocheng/architect-awesome',\n",
       " '/udacity/course-collaboration-travel-plans',\n",
       " '/aymericdamien/TensorFlow-Examples',\n",
       " '/reduxjs/redux',\n",
       " '/tastejs/todomvc']"
      ]
     },
     "execution_count": 23,
     "metadata": {},
     "output_type": "execute_result"
    }
   ],
   "source": [
    "REPOS = get_repos(10)\n",
    "REPOS"
   ]
  },
  {
   "cell_type": "code",
   "execution_count": 14,
   "metadata": {},
   "outputs": [],
   "source": [
    "def remove_first_slash(repos):\n",
    "    for i,repo in enumerate(repos):\n",
    "        repos[i]=re.sub(r'^/', '', repo)\n",
    "    return repos"
   ]
  },
  {
   "cell_type": "code",
   "execution_count": 15,
   "metadata": {},
   "outputs": [
    {
     "data": {
      "text/plain": [
       "['jtleek/datasharing',\n",
       " 'rdpeng/ProgrammingAssignment2',\n",
       " 'octocat/Spoon-Knife',\n",
       " 'tensorflow/tensorflow',\n",
       " 'SmartThingsCommunity/SmartThingsPublic',\n",
       " 'twbs/bootstrap',\n",
       " 'github/gitignore',\n",
       " 'rdpeng/ExData_Plotting1',\n",
       " 'tensorflow/models',\n",
       " 'nightscout/cgm-remote-monitor',\n",
       " 'jtleek/datasharing',\n",
       " 'rdpeng/ProgrammingAssignment2',\n",
       " 'octocat/Spoon-Knife',\n",
       " 'tensorflow/tensorflow',\n",
       " 'SmartThingsCommunity/SmartThingsPublic',\n",
       " 'twbs/bootstrap',\n",
       " 'github/gitignore',\n",
       " 'rdpeng/ExData_Plotting1',\n",
       " 'tensorflow/models',\n",
       " 'nightscout/cgm-remote-monitor',\n",
       " 'Pierian-Data/Complete-Python-3-Bootcamp',\n",
       " 'opencv/opencv',\n",
       " 'EbookFoundation/free-programming-books',\n",
       " 'jackfrued/Python-100-Days',\n",
       " 'jwasham/coding-interview-university',\n",
       " 'eugenp/tutorials',\n",
       " 'CyC2018/CS-Notes',\n",
       " 'rdpeng/RepData_PeerAssessment1',\n",
       " 'torvalds/linux',\n",
       " 'spring-projects/spring-boot']"
      ]
     },
     "execution_count": 15,
     "metadata": {},
     "output_type": "execute_result"
    }
   ],
   "source": [
    "remove_first_slash(REPOS)"
   ]
  },
  {
   "cell_type": "code",
   "execution_count": 16,
   "metadata": {},
   "outputs": [],
   "source": [
    "def get_repo_names_from_one_page(url):\n",
    "    headers = {'User-Agent': 'Codeup Data Science'} \n",
    "    response = get(url, headers=headers)\n",
    "    print(response.status_code)\n",
    "    soup = BeautifulSoup(response.content, 'html.parser')\n",
    "    items = soup.find_all('a', class_='v-align-middle')\n",
    "    repos=[]\n",
    "    for item in items:\n",
    "        repos.append(item.get('href'))\n",
    "    return repos\n",
    "\n",
    "def get_repos(number_of_pages:int):\n",
    "    repos=[]\n",
    "    for page in range(0,number_of_pages):\n",
    "        url= f'https://github.com/search?o=desc&p={page}&q=stars%3A%3E1&s=forks&type=Repositories'\n",
    "        repos += get_repo_names_from_one_page(url)\n",
    "    return repos\n",
    "\n",
    "def remove_first_slash(repos):\n",
    "    for i,repo in enumerate(repos):\n",
    "        repos[i]=re.sub(r'^/', '', repo)\n",
    "    return repos"
   ]
  },
  {
   "cell_type": "code",
   "execution_count": 17,
   "metadata": {},
   "outputs": [],
   "source": [
    "def create_list_of_repos(number_of_pages:int):\n",
    "    repos = get_repos(number_of_pages)\n",
    "    repos = remove_first_slash(repos)\n",
    "    return repos   "
   ]
  },
  {
   "cell_type": "code",
   "execution_count": 18,
   "metadata": {},
   "outputs": [
    {
     "data": {
      "text/html": [
       "<div>\n",
       "<style scoped>\n",
       "    .dataframe tbody tr th:only-of-type {\n",
       "        vertical-align: middle;\n",
       "    }\n",
       "\n",
       "    .dataframe tbody tr th {\n",
       "        vertical-align: top;\n",
       "    }\n",
       "\n",
       "    .dataframe thead th {\n",
       "        text-align: right;\n",
       "    }\n",
       "</style>\n",
       "<table border=\"1\" class=\"dataframe\">\n",
       "  <thead>\n",
       "    <tr style=\"text-align: right;\">\n",
       "      <th></th>\n",
       "      <th>repo</th>\n",
       "      <th>language</th>\n",
       "      <th>readme_contents</th>\n",
       "    </tr>\n",
       "  </thead>\n",
       "  <tbody>\n",
       "    <tr>\n",
       "      <td>0</td>\n",
       "      <td>jtleek/datasharing</td>\n",
       "      <td>None</td>\n",
       "      <td>How to share data with a statistician\\n=======...</td>\n",
       "    </tr>\n",
       "    <tr>\n",
       "      <td>1</td>\n",
       "      <td>rdpeng/ProgrammingAssignment2</td>\n",
       "      <td>R</td>\n",
       "      <td>### Introduction\\n\\nThis second programming as...</td>\n",
       "    </tr>\n",
       "    <tr>\n",
       "      <td>2</td>\n",
       "      <td>octocat/Spoon-Knife</td>\n",
       "      <td>HTML</td>\n",
       "      <td>### Well hello there!\\n\\nThis repository is me...</td>\n",
       "    </tr>\n",
       "    <tr>\n",
       "      <td>3</td>\n",
       "      <td>tensorflow/tensorflow</td>\n",
       "      <td>C++</td>\n",
       "      <td>&lt;div align=\"center\"&gt;\\n  &lt;img src=\"https://www....</td>\n",
       "    </tr>\n",
       "    <tr>\n",
       "      <td>4</td>\n",
       "      <td>SmartThingsCommunity/SmartThingsPublic</td>\n",
       "      <td>Groovy</td>\n",
       "      <td># SmartThings Public GitHub Repo\\n\\nAn officia...</td>\n",
       "    </tr>\n",
       "    <tr>\n",
       "      <td>...</td>\n",
       "      <td>...</td>\n",
       "      <td>...</td>\n",
       "      <td>...</td>\n",
       "    </tr>\n",
       "    <tr>\n",
       "      <td>85</td>\n",
       "      <td>wakaleo/game-of-life</td>\n",
       "      <td>HTML</td>\n",
       "      <td>This is a simple demonstration application use...</td>\n",
       "    </tr>\n",
       "    <tr>\n",
       "      <td>86</td>\n",
       "      <td>macrozheng/mall</td>\n",
       "      <td>Java</td>\n",
       "      <td># mall\\n\\n&lt;p&gt;\\n  &lt;a href=\"#公众号\"&gt;&lt;img src=\"http...</td>\n",
       "    </tr>\n",
       "    <tr>\n",
       "      <td>87</td>\n",
       "      <td>wesbos/JavaScript30</td>\n",
       "      <td>HTML</td>\n",
       "      <td>﻿![](https://javascript30.com/images/JS3-socia...</td>\n",
       "    </tr>\n",
       "    <tr>\n",
       "      <td>88</td>\n",
       "      <td>python/cpython</td>\n",
       "      <td>Python</td>\n",
       "      <td>This is Python version 3.10.0 alpha 0\\n=======...</td>\n",
       "    </tr>\n",
       "    <tr>\n",
       "      <td>89</td>\n",
       "      <td>hakimel/reveal.js</td>\n",
       "      <td>JavaScript</td>\n",
       "      <td>&lt;p align=\"center\"&gt;\\n  &lt;a href=\"https://revealj...</td>\n",
       "    </tr>\n",
       "  </tbody>\n",
       "</table>\n",
       "<p>90 rows × 3 columns</p>\n",
       "</div>"
      ],
      "text/plain": [
       "                                      repo    language  \\\n",
       "0                       jtleek/datasharing        None   \n",
       "1            rdpeng/ProgrammingAssignment2           R   \n",
       "2                      octocat/Spoon-Knife        HTML   \n",
       "3                    tensorflow/tensorflow         C++   \n",
       "4   SmartThingsCommunity/SmartThingsPublic      Groovy   \n",
       "..                                     ...         ...   \n",
       "85                    wakaleo/game-of-life        HTML   \n",
       "86                         macrozheng/mall        Java   \n",
       "87                     wesbos/JavaScript30        HTML   \n",
       "88                          python/cpython      Python   \n",
       "89                       hakimel/reveal.js  JavaScript   \n",
       "\n",
       "                                      readme_contents  \n",
       "0   How to share data with a statistician\\n=======...  \n",
       "1   ### Introduction\\n\\nThis second programming as...  \n",
       "2   ### Well hello there!\\n\\nThis repository is me...  \n",
       "3   <div align=\"center\">\\n  <img src=\"https://www....  \n",
       "4   # SmartThings Public GitHub Repo\\n\\nAn officia...  \n",
       "..                                                ...  \n",
       "85  This is a simple demonstration application use...  \n",
       "86  # mall\\n\\n<p>\\n  <a href=\"#公众号\"><img src=\"http...  \n",
       "87  ﻿![](https://javascript30.com/images/JS3-socia...  \n",
       "88  This is Python version 3.10.0 alpha 0\\n=======...  \n",
       "89  <p align=\"center\">\\n  <a href=\"https://revealj...  \n",
       "\n",
       "[90 rows x 3 columns]"
      ]
     },
     "execution_count": 18,
     "metadata": {},
     "output_type": "execute_result"
    }
   ],
   "source": [
    "df = pd.read_json('data.json')\n",
    "df"
   ]
  },
  {
   "cell_type": "code",
   "execution_count": 19,
   "metadata": {},
   "outputs": [
    {
     "data": {
      "text/plain": [
       "0"
      ]
     },
     "execution_count": 19,
     "metadata": {},
     "output_type": "execute_result"
    }
   ],
   "source": [
    "df.repo.isnull().sum()"
   ]
  },
  {
   "cell_type": "code",
   "execution_count": null,
   "metadata": {},
   "outputs": [],
   "source": []
  }
 ],
 "metadata": {
  "kernelspec": {
   "display_name": "Python 3",
   "language": "python",
   "name": "python3"
  },
  "language_info": {
   "codemirror_mode": {
    "name": "ipython",
    "version": 3
   },
   "file_extension": ".py",
   "mimetype": "text/x-python",
   "name": "python",
   "nbconvert_exporter": "python",
   "pygments_lexer": "ipython3",
   "version": "3.7.4"
  },
  "toc": {
   "base_numbering": 1,
   "nav_menu": {},
   "number_sections": true,
   "sideBar": true,
   "skip_h1_title": false,
   "title_cell": "Table of Contents",
   "title_sidebar": "Contents",
   "toc_cell": false,
   "toc_position": {},
   "toc_section_display": true,
   "toc_window_display": false
  }
 },
 "nbformat": 4,
 "nbformat_minor": 2
}
