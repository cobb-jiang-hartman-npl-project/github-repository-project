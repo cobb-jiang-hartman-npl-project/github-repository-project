{
 "cells": [
  {
   "cell_type": "code",
   "execution_count": 1,
   "metadata": {},
   "outputs": [],
   "source": [
    "import pandas as pd \n",
    "import numpy as np\n",
    "import env \n",
    "import acquire\n",
    "from requests import get\n",
    "from bs4 import BeautifulSoup\n",
    "import re"
   ]
  },
  {
   "cell_type": "markdown",
   "metadata": {},
   "source": [
    "# Analyze one search page and grab all the repo names into a list"
   ]
  },
  {
   "cell_type": "code",
   "execution_count": 8,
   "metadata": {},
   "outputs": [],
   "source": [
    "url = 'https://github.com/search?o=desc&q=stars:%3E1&s=forks&type=Repositories'\n",
    "headers = {'User-Agent': 'Codeup Data Science'} \n",
    "response = get(url, headers=headers)"
   ]
  },
  {
   "cell_type": "markdown",
   "metadata": {},
   "source": [
    "**This shows how to find url in a soup object**"
   ]
  },
  {
   "cell_type": "code",
   "execution_count": 21,
   "metadata": {},
   "outputs": [
    {
     "data": {
      "text/plain": [
       "'/jtleek/datasharing'"
      ]
     },
     "execution_count": 21,
     "metadata": {},
     "output_type": "execute_result"
    }
   ],
   "source": [
    "soup = BeautifulSoup(response.content, 'html.parser')\n",
    "\n",
    "items[0].get('href')"
   ]
  },
  {
   "cell_type": "code",
   "execution_count": 10,
   "metadata": {},
   "outputs": [],
   "source": [
    "items = soup.find_all('a', class_='v-align-middle')"
   ]
  },
  {
   "cell_type": "code",
   "execution_count": 29,
   "metadata": {
    "scrolled": true
   },
   "outputs": [
    {
     "data": {
      "text/plain": [
       "['/jtleek/datasharing',\n",
       " '/rdpeng/ProgrammingAssignment2',\n",
       " '/octocat/Spoon-Knife',\n",
       " '/tensorflow/tensorflow',\n",
       " '/SmartThingsCommunity/SmartThingsPublic',\n",
       " '/twbs/bootstrap',\n",
       " '/github/gitignore',\n",
       " '/rdpeng/ExData_Plotting1',\n",
       " '/nightscout/cgm-remote-monitor',\n",
       " '/opencv/opencv']"
      ]
     },
     "execution_count": 29,
     "metadata": {},
     "output_type": "execute_result"
    }
   ],
   "source": [
    "repos=[]\n",
    "for item in items:\n",
    "    repos.append(item.get('href'))\n",
    "repos"
   ]
  },
  {
   "cell_type": "code",
   "execution_count": 2,
   "metadata": {},
   "outputs": [],
   "source": [
    "def get_repo_names_from_one_page(url):\n",
    "    headers = {'User-Agent': 'Codeup Data Science'} \n",
    "    response = get(url, headers=headers)\n",
    "    soup = BeautifulSoup(response.content, 'html.parser')\n",
    "    items = soup.find_all('a', class_='v-align-middle')\n",
    "    repos=[]\n",
    "    for item in items:\n",
    "        repos.append(item.get('href'))\n",
    "    return repos"
   ]
  },
  {
   "cell_type": "code",
   "execution_count": 33,
   "metadata": {},
   "outputs": [
    {
     "data": {
      "text/plain": [
       "['/jtleek/datasharing',\n",
       " '/rdpeng/ProgrammingAssignment2',\n",
       " '/octocat/Spoon-Knife',\n",
       " '/tensorflow/tensorflow',\n",
       " '/SmartThingsCommunity/SmartThingsPublic',\n",
       " '/twbs/bootstrap',\n",
       " '/github/gitignore',\n",
       " '/rdpeng/ExData_Plotting1',\n",
       " '/tensorflow/models',\n",
       " '/nightscout/cgm-remote-monitor']"
      ]
     },
     "execution_count": 33,
     "metadata": {},
     "output_type": "execute_result"
    }
   ],
   "source": [
    "get_repo_names_from_one_page(url)"
   ]
  },
  {
   "cell_type": "markdown",
   "metadata": {},
   "source": [
    "# Analyze urls and loop throught multipages"
   ]
  },
  {
   "cell_type": "markdown",
   "metadata": {},
   "source": [
    "https://github.com/search?o=desc&p=1&q=stars%3A%3E1&s=forks&type=Repositories\n",
    "https://github.com/search?o=desc&p=2&q=stars%3A%3E1&s=forks&type=Repositories\n",
    "https://github.com/search?o=desc&p=3&q=stars%3A%3E1&s=forks&type=Repositories"
   ]
  },
  {
   "cell_type": "code",
   "execution_count": 35,
   "metadata": {},
   "outputs": [
    {
     "name": "stdout",
     "output_type": "stream",
     "text": [
      "Hello, Eric. You are 74.Hello, Eric. You are 74.\n"
     ]
    }
   ],
   "source": [
    "name = \"Eric\"\n",
    "age = 74\n",
    "print(f\"Hello, {name}. You are {age}.\"\n",
    "'Hello, Eric. You are 74.')"
   ]
  },
  {
   "cell_type": "code",
   "execution_count": 36,
   "metadata": {},
   "outputs": [],
   "source": [
    "page =1\n",
    "url= f'https://github.com/search?o=desc&p={page}&q=stars%3A%3E1&s=forks&type=Repositories'"
   ]
  },
  {
   "cell_type": "code",
   "execution_count": 39,
   "metadata": {
    "scrolled": true
   },
   "outputs": [
    {
     "data": {
      "text/plain": [
       "['/jtleek/datasharing',\n",
       " '/rdpeng/ProgrammingAssignment2',\n",
       " '/octocat/Spoon-Knife',\n",
       " '/tensorflow/tensorflow',\n",
       " '/SmartThingsCommunity/SmartThingsPublic',\n",
       " '/twbs/bootstrap',\n",
       " '/github/gitignore',\n",
       " '/rdpeng/ExData_Plotting1',\n",
       " '/tensorflow/models',\n",
       " '/nightscout/cgm-remote-monitor',\n",
       " '/jtleek/datasharing',\n",
       " '/rdpeng/ProgrammingAssignment2',\n",
       " '/octocat/Spoon-Knife',\n",
       " '/tensorflow/tensorflow',\n",
       " '/SmartThingsCommunity/SmartThingsPublic',\n",
       " '/twbs/bootstrap',\n",
       " '/github/gitignore',\n",
       " '/rdpeng/ExData_Plotting1',\n",
       " '/tensorflow/models',\n",
       " '/nightscout/cgm-remote-monitor']"
      ]
     },
     "execution_count": 39,
     "metadata": {},
     "output_type": "execute_result"
    }
   ],
   "source": [
    "repos=[]\n",
    "for page in range(0,2):\n",
    "    url= f'https://github.com/search?o=desc&p={page}&q=stars%3A%3E1&s=forks&type=Repositories'\n",
    "    repos += get_repo_names_from_one_page(url)\n",
    "    \n",
    "repos  "
   ]
  },
  {
   "cell_type": "code",
   "execution_count": 46,
   "metadata": {},
   "outputs": [
    {
     "data": {
      "text/plain": [
       "['jtleek/datasharing',\n",
       " 'rdpeng/ProgrammingAssignment2',\n",
       " 'octocat/Spoon-Knife',\n",
       " 'tensorflow/tensorflow',\n",
       " 'SmartThingsCommunity/SmartThingsPublic',\n",
       " 'twbs/bootstrap',\n",
       " 'github/gitignore',\n",
       " 'rdpeng/ExData_Plotting1',\n",
       " 'tensorflow/models',\n",
       " 'nightscout/cgm-remote-monitor',\n",
       " 'jtleek/datasharing',\n",
       " 'rdpeng/ProgrammingAssignment2',\n",
       " 'octocat/Spoon-Knife',\n",
       " 'tensorflow/tensorflow',\n",
       " 'SmartThingsCommunity/SmartThingsPublic',\n",
       " 'twbs/bootstrap',\n",
       " 'github/gitignore',\n",
       " 'rdpeng/ExData_Plotting1',\n",
       " 'tensorflow/models',\n",
       " 'nightscout/cgm-remote-monitor']"
      ]
     },
     "execution_count": 46,
     "metadata": {},
     "output_type": "execute_result"
    }
   ],
   "source": [
    "for i,repo in enumerate(repos):\n",
    "    repos[i]=re.sub(r'^/', '', repo)\n",
    "repos"
   ]
  },
  {
   "cell_type": "code",
   "execution_count": 3,
   "metadata": {},
   "outputs": [],
   "source": [
    "def get_repos(number_of_pages:int):\n",
    "    repos=[]\n",
    "    for page in range(0,number_of_pages):\n",
    "        url= f'https://github.com/search?o=desc&p={page}&q=stars%3A%3E1&s=forks&type=Repositories'\n",
    "        repos += get_repo_names_from_one_page(url)\n",
    "    return repos\n",
    "    "
   ]
  },
  {
   "cell_type": "code",
   "execution_count": 4,
   "metadata": {},
   "outputs": [
    {
     "data": {
      "text/plain": [
       "['/jtleek/datasharing',\n",
       " '/rdpeng/ProgrammingAssignment2',\n",
       " '/octocat/Spoon-Knife',\n",
       " '/tensorflow/tensorflow',\n",
       " '/SmartThingsCommunity/SmartThingsPublic',\n",
       " '/twbs/bootstrap',\n",
       " '/github/gitignore',\n",
       " '/rdpeng/ExData_Plotting1',\n",
       " '/tensorflow/models',\n",
       " '/nightscout/cgm-remote-monitor',\n",
       " '/jtleek/datasharing',\n",
       " '/rdpeng/ProgrammingAssignment2',\n",
       " '/octocat/Spoon-Knife',\n",
       " '/tensorflow/tensorflow',\n",
       " '/SmartThingsCommunity/SmartThingsPublic',\n",
       " '/twbs/bootstrap',\n",
       " '/github/gitignore',\n",
       " '/rdpeng/ExData_Plotting1',\n",
       " '/tensorflow/models',\n",
       " '/nightscout/cgm-remote-monitor',\n",
       " '/Pierian-Data/Complete-Python-3-Bootcamp',\n",
       " '/opencv/opencv',\n",
       " '/EbookFoundation/free-programming-books',\n",
       " '/jackfrued/Python-100-Days',\n",
       " '/jwasham/coding-interview-university',\n",
       " '/eugenp/tutorials',\n",
       " '/CyC2018/CS-Notes',\n",
       " '/rdpeng/RepData_PeerAssessment1',\n",
       " '/torvalds/linux',\n",
       " '/spring-projects/spring-boot']"
      ]
     },
     "execution_count": 4,
     "metadata": {},
     "output_type": "execute_result"
    }
   ],
   "source": [
    "REPOS = get_repos(3)\n",
    "REPOS"
   ]
  },
  {
   "cell_type": "code",
   "execution_count": 5,
   "metadata": {},
   "outputs": [],
   "source": [
    "def remove_first_slash(repos):\n",
    "    for i,repo in enumerate(repos):\n",
    "        repos[i]=re.sub(r'^/', '', repo)\n",
    "    return repos"
   ]
  },
  {
   "cell_type": "code",
   "execution_count": 6,
   "metadata": {},
   "outputs": [
    {
     "data": {
      "text/plain": [
       "['jtleek/datasharing',\n",
       " 'rdpeng/ProgrammingAssignment2',\n",
       " 'octocat/Spoon-Knife',\n",
       " 'tensorflow/tensorflow',\n",
       " 'SmartThingsCommunity/SmartThingsPublic',\n",
       " 'twbs/bootstrap',\n",
       " 'github/gitignore',\n",
       " 'rdpeng/ExData_Plotting1',\n",
       " 'tensorflow/models',\n",
       " 'nightscout/cgm-remote-monitor',\n",
       " 'jtleek/datasharing',\n",
       " 'rdpeng/ProgrammingAssignment2',\n",
       " 'octocat/Spoon-Knife',\n",
       " 'tensorflow/tensorflow',\n",
       " 'SmartThingsCommunity/SmartThingsPublic',\n",
       " 'twbs/bootstrap',\n",
       " 'github/gitignore',\n",
       " 'rdpeng/ExData_Plotting1',\n",
       " 'tensorflow/models',\n",
       " 'nightscout/cgm-remote-monitor',\n",
       " 'Pierian-Data/Complete-Python-3-Bootcamp',\n",
       " 'opencv/opencv',\n",
       " 'EbookFoundation/free-programming-books',\n",
       " 'jackfrued/Python-100-Days',\n",
       " 'jwasham/coding-interview-university',\n",
       " 'eugenp/tutorials',\n",
       " 'CyC2018/CS-Notes',\n",
       " 'rdpeng/RepData_PeerAssessment1',\n",
       " 'torvalds/linux',\n",
       " 'spring-projects/spring-boot']"
      ]
     },
     "execution_count": 6,
     "metadata": {},
     "output_type": "execute_result"
    }
   ],
   "source": [
    "remove_first_slash(REPOS)"
   ]
  },
  {
   "cell_type": "code",
   "execution_count": 10,
   "metadata": {},
   "outputs": [],
   "source": [
    "def get_repo_names_from_one_page(url):\n",
    "    headers = {'User-Agent': 'Codeup Data Science'} \n",
    "    response = get(url, headers=headers)\n",
    "    soup = BeautifulSoup(response.content, 'html.parser')\n",
    "    items = soup.find_all('a', class_='v-align-middle')\n",
    "    repos=[]\n",
    "    for item in items:\n",
    "        repos.append(item.get('href'))\n",
    "    return repos\n",
    "\n",
    "def get_repos(number_of_pages:int):\n",
    "    repos=[]\n",
    "    for page in range(0,number_of_pages):\n",
    "        url= f'https://github.com/search?o=desc&p={page}&q=stars%3A%3E1&s=forks&type=Repositories'\n",
    "        repos += get_repo_names_from_one_page(url)\n",
    "    return repos\n",
    "\n",
    "def remove_first_slash(repos):\n",
    "    for i,repo in enumerate(repos):\n",
    "        repos[i]=re.sub(r'^/', '', repo)\n",
    "    return repos"
   ]
  },
  {
   "cell_type": "code",
   "execution_count": 11,
   "metadata": {},
   "outputs": [],
   "source": [
    "def create_list_of_repos(number_of_pages:int):\n",
    "    repos = get_repos(number_of_pages)\n",
    "    repos = remove_first_slash(repos)\n",
    "    return repos   "
   ]
  },
  {
   "cell_type": "code",
   "execution_count": 12,
   "metadata": {},
   "outputs": [
    {
     "data": {
      "text/plain": [
       "['jtleek/datasharing',\n",
       " 'rdpeng/ProgrammingAssignment2',\n",
       " 'octocat/Spoon-Knife',\n",
       " 'tensorflow/tensorflow',\n",
       " 'SmartThingsCommunity/SmartThingsPublic',\n",
       " 'twbs/bootstrap',\n",
       " 'github/gitignore',\n",
       " 'rdpeng/ExData_Plotting1',\n",
       " 'tensorflow/models',\n",
       " 'nightscout/cgm-remote-monitor',\n",
       " 'jtleek/datasharing',\n",
       " 'rdpeng/ProgrammingAssignment2',\n",
       " 'octocat/Spoon-Knife',\n",
       " 'tensorflow/tensorflow',\n",
       " 'SmartThingsCommunity/SmartThingsPublic',\n",
       " 'twbs/bootstrap',\n",
       " 'github/gitignore',\n",
       " 'rdpeng/ExData_Plotting1',\n",
       " 'tensorflow/models',\n",
       " 'nightscout/cgm-remote-monitor',\n",
       " 'Pierian-Data/Complete-Python-3-Bootcamp',\n",
       " 'opencv/opencv',\n",
       " 'EbookFoundation/free-programming-books',\n",
       " 'jackfrued/Python-100-Days',\n",
       " 'jwasham/coding-interview-university',\n",
       " 'eugenp/tutorials',\n",
       " 'CyC2018/CS-Notes',\n",
       " 'rdpeng/RepData_PeerAssessment1',\n",
       " 'torvalds/linux',\n",
       " 'spring-projects/spring-boot']"
      ]
     },
     "execution_count": 12,
     "metadata": {},
     "output_type": "execute_result"
    }
   ],
   "source": [
    "create_list_of_repos(3)"
   ]
  },
  {
   "cell_type": "code",
   "execution_count": 14,
   "metadata": {},
   "outputs": [
    {
     "data": {
      "text/html": [
       "<div>\n",
       "<style scoped>\n",
       "    .dataframe tbody tr th:only-of-type {\n",
       "        vertical-align: middle;\n",
       "    }\n",
       "\n",
       "    .dataframe tbody tr th {\n",
       "        vertical-align: top;\n",
       "    }\n",
       "\n",
       "    .dataframe thead th {\n",
       "        text-align: right;\n",
       "    }\n",
       "</style>\n",
       "<table border=\"1\" class=\"dataframe\">\n",
       "  <thead>\n",
       "    <tr style=\"text-align: right;\">\n",
       "      <th></th>\n",
       "      <th>repo</th>\n",
       "      <th>language</th>\n",
       "      <th>readme_contents</th>\n",
       "    </tr>\n",
       "  </thead>\n",
       "  <tbody>\n",
       "    <tr>\n",
       "      <td>0</td>\n",
       "      <td>jtleek/datasharing</td>\n",
       "      <td>None</td>\n",
       "      <td>How to share data with a statistician\\n=======...</td>\n",
       "    </tr>\n",
       "    <tr>\n",
       "      <td>1</td>\n",
       "      <td>rdpeng/ProgrammingAssignment2</td>\n",
       "      <td>R</td>\n",
       "      <td>### Introduction\\n\\nThis second programming as...</td>\n",
       "    </tr>\n",
       "    <tr>\n",
       "      <td>2</td>\n",
       "      <td>octocat/Spoon-Knife</td>\n",
       "      <td>HTML</td>\n",
       "      <td>### Well hello there!\\n\\nThis repository is me...</td>\n",
       "    </tr>\n",
       "    <tr>\n",
       "      <td>3</td>\n",
       "      <td>tensorflow/tensorflow</td>\n",
       "      <td>C++</td>\n",
       "      <td>&lt;div align=\"center\"&gt;\\n  &lt;img src=\"https://www....</td>\n",
       "    </tr>\n",
       "    <tr>\n",
       "      <td>4</td>\n",
       "      <td>SmartThingsCommunity/SmartThingsPublic</td>\n",
       "      <td>Groovy</td>\n",
       "      <td># SmartThings Public GitHub Repo\\n\\nAn officia...</td>\n",
       "    </tr>\n",
       "    <tr>\n",
       "      <td>5</td>\n",
       "      <td>twbs/bootstrap</td>\n",
       "      <td>JavaScript</td>\n",
       "      <td>&lt;p align=\"center\"&gt;\\n  &lt;a href=\"https://getboot...</td>\n",
       "    </tr>\n",
       "    <tr>\n",
       "      <td>6</td>\n",
       "      <td>github/gitignore</td>\n",
       "      <td>None</td>\n",
       "      <td># A collection of `.gitignore` templates\\n\\nTh...</td>\n",
       "    </tr>\n",
       "    <tr>\n",
       "      <td>7</td>\n",
       "      <td>rdpeng/ExData_Plotting1</td>\n",
       "      <td>None</td>\n",
       "      <td>## Introduction\\n\\nThis assignment uses data f...</td>\n",
       "    </tr>\n",
       "    <tr>\n",
       "      <td>8</td>\n",
       "      <td>tensorflow/models</td>\n",
       "      <td>Python</td>\n",
       "      <td>![Logo](https://storage.googleapis.com/model_g...</td>\n",
       "    </tr>\n",
       "    <tr>\n",
       "      <td>9</td>\n",
       "      <td>nightscout/cgm-remote-monitor</td>\n",
       "      <td>JavaScript</td>\n",
       "      <td>Nightscout Web Monitor (a.k.a. cgm-remote-moni...</td>\n",
       "    </tr>\n",
       "    <tr>\n",
       "      <td>10</td>\n",
       "      <td>jtleek/datasharing</td>\n",
       "      <td>None</td>\n",
       "      <td>How to share data with a statistician\\n=======...</td>\n",
       "    </tr>\n",
       "    <tr>\n",
       "      <td>11</td>\n",
       "      <td>rdpeng/ProgrammingAssignment2</td>\n",
       "      <td>R</td>\n",
       "      <td>### Introduction\\n\\nThis second programming as...</td>\n",
       "    </tr>\n",
       "    <tr>\n",
       "      <td>12</td>\n",
       "      <td>octocat/Spoon-Knife</td>\n",
       "      <td>HTML</td>\n",
       "      <td>### Well hello there!\\n\\nThis repository is me...</td>\n",
       "    </tr>\n",
       "    <tr>\n",
       "      <td>13</td>\n",
       "      <td>tensorflow/tensorflow</td>\n",
       "      <td>C++</td>\n",
       "      <td>&lt;div align=\"center\"&gt;\\n  &lt;img src=\"https://www....</td>\n",
       "    </tr>\n",
       "    <tr>\n",
       "      <td>14</td>\n",
       "      <td>SmartThingsCommunity/SmartThingsPublic</td>\n",
       "      <td>Groovy</td>\n",
       "      <td># SmartThings Public GitHub Repo\\n\\nAn officia...</td>\n",
       "    </tr>\n",
       "    <tr>\n",
       "      <td>15</td>\n",
       "      <td>twbs/bootstrap</td>\n",
       "      <td>JavaScript</td>\n",
       "      <td>&lt;p align=\"center\"&gt;\\n  &lt;a href=\"https://getboot...</td>\n",
       "    </tr>\n",
       "    <tr>\n",
       "      <td>16</td>\n",
       "      <td>github/gitignore</td>\n",
       "      <td>None</td>\n",
       "      <td># A collection of `.gitignore` templates\\n\\nTh...</td>\n",
       "    </tr>\n",
       "    <tr>\n",
       "      <td>17</td>\n",
       "      <td>rdpeng/ExData_Plotting1</td>\n",
       "      <td>None</td>\n",
       "      <td>## Introduction\\n\\nThis assignment uses data f...</td>\n",
       "    </tr>\n",
       "    <tr>\n",
       "      <td>18</td>\n",
       "      <td>tensorflow/models</td>\n",
       "      <td>Python</td>\n",
       "      <td>![Logo](https://storage.googleapis.com/model_g...</td>\n",
       "    </tr>\n",
       "    <tr>\n",
       "      <td>19</td>\n",
       "      <td>nightscout/cgm-remote-monitor</td>\n",
       "      <td>JavaScript</td>\n",
       "      <td>Nightscout Web Monitor (a.k.a. cgm-remote-moni...</td>\n",
       "    </tr>\n",
       "    <tr>\n",
       "      <td>20</td>\n",
       "      <td>Pierian-Data/Complete-Python-3-Bootcamp</td>\n",
       "      <td>Jupyter Notebook</td>\n",
       "      <td># Complete-Python-3-Bootcamp\\nCourse Files for...</td>\n",
       "    </tr>\n",
       "    <tr>\n",
       "      <td>21</td>\n",
       "      <td>opencv/opencv</td>\n",
       "      <td>C++</td>\n",
       "      <td>## OpenCV: Open Source Computer Vision Library...</td>\n",
       "    </tr>\n",
       "    <tr>\n",
       "      <td>22</td>\n",
       "      <td>EbookFoundation/free-programming-books</td>\n",
       "      <td>None</td>\n",
       "      <td>This page is available as an easy-to-read webs...</td>\n",
       "    </tr>\n",
       "    <tr>\n",
       "      <td>23</td>\n",
       "      <td>jackfrued/Python-100-Days</td>\n",
       "      <td>Jupyter Notebook</td>\n",
       "      <td>## Python - 100天从新手到大师\\n\\n&gt; **作者**：骆昊\\n&gt;\\n&gt; **...</td>\n",
       "    </tr>\n",
       "    <tr>\n",
       "      <td>24</td>\n",
       "      <td>jwasham/coding-interview-university</td>\n",
       "      <td>None</td>\n",
       "      <td># Coding Interview University\\n\\n&gt; I originall...</td>\n",
       "    </tr>\n",
       "    <tr>\n",
       "      <td>25</td>\n",
       "      <td>eugenp/tutorials</td>\n",
       "      <td>Java</td>\n",
       "      <td>**UPDATE**: The price of \"Learn Spring Securit...</td>\n",
       "    </tr>\n",
       "    <tr>\n",
       "      <td>26</td>\n",
       "      <td>CyC2018/CS-Notes</td>\n",
       "      <td>Java</td>\n",
       "      <td>&lt;div align=\"center\"&gt;\\r\\n    &lt;a href=\"https://g...</td>\n",
       "    </tr>\n",
       "    <tr>\n",
       "      <td>27</td>\n",
       "      <td>rdpeng/RepData_PeerAssessment1</td>\n",
       "      <td>None</td>\n",
       "      <td>## Introduction\\n\\nIt is now possible to colle...</td>\n",
       "    </tr>\n",
       "    <tr>\n",
       "      <td>28</td>\n",
       "      <td>torvalds/linux</td>\n",
       "      <td>C</td>\n",
       "      <td>Linux kernel\\n============\\n\\nThere are severa...</td>\n",
       "    </tr>\n",
       "    <tr>\n",
       "      <td>29</td>\n",
       "      <td>spring-projects/spring-boot</td>\n",
       "      <td>Java</td>\n",
       "      <td>= Spring Boot image:https://ci.spring.io/api/v...</td>\n",
       "    </tr>\n",
       "  </tbody>\n",
       "</table>\n",
       "</div>"
      ],
      "text/plain": [
       "                                       repo          language  \\\n",
       "0                        jtleek/datasharing              None   \n",
       "1             rdpeng/ProgrammingAssignment2                 R   \n",
       "2                       octocat/Spoon-Knife              HTML   \n",
       "3                     tensorflow/tensorflow               C++   \n",
       "4    SmartThingsCommunity/SmartThingsPublic            Groovy   \n",
       "5                            twbs/bootstrap        JavaScript   \n",
       "6                          github/gitignore              None   \n",
       "7                   rdpeng/ExData_Plotting1              None   \n",
       "8                         tensorflow/models            Python   \n",
       "9             nightscout/cgm-remote-monitor        JavaScript   \n",
       "10                       jtleek/datasharing              None   \n",
       "11            rdpeng/ProgrammingAssignment2                 R   \n",
       "12                      octocat/Spoon-Knife              HTML   \n",
       "13                    tensorflow/tensorflow               C++   \n",
       "14   SmartThingsCommunity/SmartThingsPublic            Groovy   \n",
       "15                           twbs/bootstrap        JavaScript   \n",
       "16                         github/gitignore              None   \n",
       "17                  rdpeng/ExData_Plotting1              None   \n",
       "18                        tensorflow/models            Python   \n",
       "19            nightscout/cgm-remote-monitor        JavaScript   \n",
       "20  Pierian-Data/Complete-Python-3-Bootcamp  Jupyter Notebook   \n",
       "21                            opencv/opencv               C++   \n",
       "22   EbookFoundation/free-programming-books              None   \n",
       "23                jackfrued/Python-100-Days  Jupyter Notebook   \n",
       "24      jwasham/coding-interview-university              None   \n",
       "25                         eugenp/tutorials              Java   \n",
       "26                         CyC2018/CS-Notes              Java   \n",
       "27           rdpeng/RepData_PeerAssessment1              None   \n",
       "28                           torvalds/linux                 C   \n",
       "29              spring-projects/spring-boot              Java   \n",
       "\n",
       "                                      readme_contents  \n",
       "0   How to share data with a statistician\\n=======...  \n",
       "1   ### Introduction\\n\\nThis second programming as...  \n",
       "2   ### Well hello there!\\n\\nThis repository is me...  \n",
       "3   <div align=\"center\">\\n  <img src=\"https://www....  \n",
       "4   # SmartThings Public GitHub Repo\\n\\nAn officia...  \n",
       "5   <p align=\"center\">\\n  <a href=\"https://getboot...  \n",
       "6   # A collection of `.gitignore` templates\\n\\nTh...  \n",
       "7   ## Introduction\\n\\nThis assignment uses data f...  \n",
       "8   ![Logo](https://storage.googleapis.com/model_g...  \n",
       "9   Nightscout Web Monitor (a.k.a. cgm-remote-moni...  \n",
       "10  How to share data with a statistician\\n=======...  \n",
       "11  ### Introduction\\n\\nThis second programming as...  \n",
       "12  ### Well hello there!\\n\\nThis repository is me...  \n",
       "13  <div align=\"center\">\\n  <img src=\"https://www....  \n",
       "14  # SmartThings Public GitHub Repo\\n\\nAn officia...  \n",
       "15  <p align=\"center\">\\n  <a href=\"https://getboot...  \n",
       "16  # A collection of `.gitignore` templates\\n\\nTh...  \n",
       "17  ## Introduction\\n\\nThis assignment uses data f...  \n",
       "18  ![Logo](https://storage.googleapis.com/model_g...  \n",
       "19  Nightscout Web Monitor (a.k.a. cgm-remote-moni...  \n",
       "20  # Complete-Python-3-Bootcamp\\nCourse Files for...  \n",
       "21  ## OpenCV: Open Source Computer Vision Library...  \n",
       "22  This page is available as an easy-to-read webs...  \n",
       "23  ## Python - 100天从新手到大师\\n\\n> **作者**：骆昊\\n>\\n> **...  \n",
       "24  # Coding Interview University\\n\\n> I originall...  \n",
       "25  **UPDATE**: The price of \"Learn Spring Securit...  \n",
       "26  <div align=\"center\">\\r\\n    <a href=\"https://g...  \n",
       "27  ## Introduction\\n\\nIt is now possible to colle...  \n",
       "28  Linux kernel\\n============\\n\\nThere are severa...  \n",
       "29  = Spring Boot image:https://ci.spring.io/api/v...  "
      ]
     },
     "execution_count": 14,
     "metadata": {},
     "output_type": "execute_result"
    }
   ],
   "source": [
    "pd.read_json('data.json')"
   ]
  },
  {
   "cell_type": "code",
   "execution_count": null,
   "metadata": {},
   "outputs": [],
   "source": []
  }
 ],
 "metadata": {
  "kernelspec": {
   "display_name": "Python 3",
   "language": "python",
   "name": "python3"
  },
  "language_info": {
   "codemirror_mode": {
    "name": "ipython",
    "version": 3
   },
   "file_extension": ".py",
   "mimetype": "text/x-python",
   "name": "python",
   "nbconvert_exporter": "python",
   "pygments_lexer": "ipython3",
   "version": "3.7.4"
  },
  "toc": {
   "base_numbering": 1,
   "nav_menu": {},
   "number_sections": true,
   "sideBar": true,
   "skip_h1_title": false,
   "title_cell": "Table of Contents",
   "title_sidebar": "Contents",
   "toc_cell": false,
   "toc_position": {},
   "toc_section_display": true,
   "toc_window_display": false
  }
 },
 "nbformat": 4,
 "nbformat_minor": 2
}
