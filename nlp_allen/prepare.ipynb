{
 "cells": [
  {
   "cell_type": "code",
   "execution_count": 3,
   "metadata": {},
   "outputs": [],
   "source": [
    "import pandas as pd \n",
    "import numpy as np\n",
    "import acquire\n",
    "import prepare"
   ]
  },
  {
   "cell_type": "markdown",
   "metadata": {},
   "source": [
    "# Read json file"
   ]
  },
  {
   "cell_type": "code",
   "execution_count": 2,
   "metadata": {},
   "outputs": [],
   "source": [
    "df = pd.read_json('data.json')"
   ]
  },
  {
   "cell_type": "code",
   "execution_count": 5,
   "metadata": {},
   "outputs": [],
   "source": [
    "df['readme_contents']= df.readme_contents.apply(prepare.prepare_text)"
   ]
  },
  {
   "cell_type": "code",
   "execution_count": 6,
   "metadata": {},
   "outputs": [
    {
     "data": {
      "text/html": [
       "<div>\n",
       "<style scoped>\n",
       "    .dataframe tbody tr th:only-of-type {\n",
       "        vertical-align: middle;\n",
       "    }\n",
       "\n",
       "    .dataframe tbody tr th {\n",
       "        vertical-align: top;\n",
       "    }\n",
       "\n",
       "    .dataframe thead th {\n",
       "        text-align: right;\n",
       "    }\n",
       "</style>\n",
       "<table border=\"1\" class=\"dataframe\">\n",
       "  <thead>\n",
       "    <tr style=\"text-align: right;\">\n",
       "      <th></th>\n",
       "      <th>repo</th>\n",
       "      <th>language</th>\n",
       "      <th>readme_contents</th>\n",
       "    </tr>\n",
       "  </thead>\n",
       "  <tbody>\n",
       "    <tr>\n",
       "      <td>0</td>\n",
       "      <td>jtleek/datasharing</td>\n",
       "      <td>None</td>\n",
       "      <td>share data statistician guide anyone need shar...</td>\n",
       "    </tr>\n",
       "    <tr>\n",
       "      <td>1</td>\n",
       "      <td>rdpeng/ProgrammingAssignment2</td>\n",
       "      <td>R</td>\n",
       "      <td>introduction second programming assignment req...</td>\n",
       "    </tr>\n",
       "    <tr>\n",
       "      <td>2</td>\n",
       "      <td>octocat/Spoon-Knife</td>\n",
       "      <td>HTML</td>\n",
       "      <td>well hello repository meant provide example fo...</td>\n",
       "    </tr>\n",
       "    <tr>\n",
       "      <td>3</td>\n",
       "      <td>tensorflow/tensorflow</td>\n",
       "      <td>C++</td>\n",
       "      <td>div aligncenter img srchttpswwwtensorfloworgim...</td>\n",
       "    </tr>\n",
       "    <tr>\n",
       "      <td>4</td>\n",
       "      <td>SmartThingsCommunity/SmartThingsPublic</td>\n",
       "      <td>Groovy</td>\n",
       "      <td>smartthings public github repo official list s...</td>\n",
       "    </tr>\n",
       "  </tbody>\n",
       "</table>\n",
       "</div>"
      ],
      "text/plain": [
       "                                     repo language  \\\n",
       "0                      jtleek/datasharing     None   \n",
       "1           rdpeng/ProgrammingAssignment2        R   \n",
       "2                     octocat/Spoon-Knife     HTML   \n",
       "3                   tensorflow/tensorflow      C++   \n",
       "4  SmartThingsCommunity/SmartThingsPublic   Groovy   \n",
       "\n",
       "                                     readme_contents  \n",
       "0  share data statistician guide anyone need shar...  \n",
       "1  introduction second programming assignment req...  \n",
       "2  well hello repository meant provide example fo...  \n",
       "3  div aligncenter img srchttpswwwtensorfloworgim...  \n",
       "4  smartthings public github repo official list s...  "
      ]
     },
     "execution_count": 6,
     "metadata": {},
     "output_type": "execute_result"
    }
   ],
   "source": [
    "df.head()"
   ]
  },
  {
   "cell_type": "code",
   "execution_count": 7,
   "metadata": {},
   "outputs": [
    {
     "name": "stdout",
     "output_type": "stream",
     "text": [
      "<class 'pandas.core.frame.DataFrame'>\n",
      "RangeIndex: 260 entries, 0 to 259\n",
      "Data columns (total 3 columns):\n",
      "repo               260 non-null object\n",
      "language           225 non-null object\n",
      "readme_contents    260 non-null object\n",
      "dtypes: object(3)\n",
      "memory usage: 6.2+ KB\n"
     ]
    }
   ],
   "source": [
    "df.info()"
   ]
  },
  {
   "cell_type": "markdown",
   "metadata": {},
   "source": [
    "There are couple of null in language"
   ]
  },
  {
   "cell_type": "code",
   "execution_count": 8,
   "metadata": {},
   "outputs": [
    {
     "data": {
      "text/html": [
       "<div>\n",
       "<style scoped>\n",
       "    .dataframe tbody tr th:only-of-type {\n",
       "        vertical-align: middle;\n",
       "    }\n",
       "\n",
       "    .dataframe tbody tr th {\n",
       "        vertical-align: top;\n",
       "    }\n",
       "\n",
       "    .dataframe thead th {\n",
       "        text-align: right;\n",
       "    }\n",
       "</style>\n",
       "<table border=\"1\" class=\"dataframe\">\n",
       "  <thead>\n",
       "    <tr style=\"text-align: right;\">\n",
       "      <th></th>\n",
       "      <th>repo</th>\n",
       "      <th>language</th>\n",
       "      <th>readme_contents</th>\n",
       "    </tr>\n",
       "  </thead>\n",
       "  <tbody>\n",
       "    <tr>\n",
       "      <td>0</td>\n",
       "      <td>jtleek/datasharing</td>\n",
       "      <td>None</td>\n",
       "      <td>share data statistician guide anyone need shar...</td>\n",
       "    </tr>\n",
       "    <tr>\n",
       "      <td>6</td>\n",
       "      <td>github/gitignore</td>\n",
       "      <td>None</td>\n",
       "      <td>collection gitignore template githubs collecti...</td>\n",
       "    </tr>\n",
       "    <tr>\n",
       "      <td>7</td>\n",
       "      <td>rdpeng/ExData_Plotting1</td>\n",
       "      <td>None</td>\n",
       "      <td>introduction assignment us data hrefhttparchiv...</td>\n",
       "    </tr>\n",
       "    <tr>\n",
       "      <td>10</td>\n",
       "      <td>jtleek/datasharing</td>\n",
       "      <td>None</td>\n",
       "      <td>share data statistician guide anyone need shar...</td>\n",
       "    </tr>\n",
       "    <tr>\n",
       "      <td>16</td>\n",
       "      <td>github/gitignore</td>\n",
       "      <td>None</td>\n",
       "      <td>collection gitignore template githubs collecti...</td>\n",
       "    </tr>\n",
       "    <tr>\n",
       "      <td>17</td>\n",
       "      <td>rdpeng/ExData_Plotting1</td>\n",
       "      <td>None</td>\n",
       "      <td>introduction assignment us data hrefhttparchiv...</td>\n",
       "    </tr>\n",
       "    <tr>\n",
       "      <td>22</td>\n",
       "      <td>EbookFoundation/free-programming-books</td>\n",
       "      <td>None</td>\n",
       "      <td>page available easytoread website httpsebookfo...</td>\n",
       "    </tr>\n",
       "    <tr>\n",
       "      <td>24</td>\n",
       "      <td>jwasham/coding-interview-university</td>\n",
       "      <td>None</td>\n",
       "      <td>coding interview university originally created...</td>\n",
       "    </tr>\n",
       "    <tr>\n",
       "      <td>27</td>\n",
       "      <td>rdpeng/RepData_PeerAssessment1</td>\n",
       "      <td>None</td>\n",
       "      <td>introduction possible collect large amount dat...</td>\n",
       "    </tr>\n",
       "    <tr>\n",
       "      <td>36</td>\n",
       "      <td>firstcontributions/first-contributions</td>\n",
       "      <td>None</td>\n",
       "      <td>open source lovehttpsbadgesfrapsoftcomosv1open...</td>\n",
       "    </tr>\n",
       "    <tr>\n",
       "      <td>40</td>\n",
       "      <td>getify/You-Dont-Know-JS</td>\n",
       "      <td>None</td>\n",
       "      <td>' know j yet book series 2nd edition series bo...</td>\n",
       "    </tr>\n",
       "    <tr>\n",
       "      <td>46</td>\n",
       "      <td>LarryMad/recipes</td>\n",
       "      <td>None</td>\n",
       "      <td>recipe repository contains recipe food like re...</td>\n",
       "    </tr>\n",
       "    <tr>\n",
       "      <td>54</td>\n",
       "      <td>justjavac/free-programming-books-zh_CN</td>\n",
       "      <td>None</td>\n",
       "      <td>httpsimgshieldsiogithubissuesjustjavacfreeprog...</td>\n",
       "    </tr>\n",
       "    <tr>\n",
       "      <td>72</td>\n",
       "      <td>sindresorhus/awesome</td>\n",
       "      <td>None</td>\n",
       "      <td>div aligncenter &amp;#9; img width500 height350 sr...</td>\n",
       "    </tr>\n",
       "    <tr>\n",
       "      <td>73</td>\n",
       "      <td>kamranahmedse/developer-roadmap</td>\n",
       "      <td>None</td>\n",
       "      <td>web developer roadmap 2020httpsiimgurcomnnyc9q...</td>\n",
       "    </tr>\n",
       "    <tr>\n",
       "      <td>95</td>\n",
       "      <td>xingshaocheng/architect-awesome</td>\n",
       "      <td>None</td>\n",
       "      <td>h1h1 thumbsup thumbsup thumbsup httpswwwkcsouc...</td>\n",
       "    </tr>\n",
       "    <tr>\n",
       "      <td>100</td>\n",
       "      <td>CSSEGISandData/COVID-19</td>\n",
       "      <td>None</td>\n",
       "      <td>covid19 data repository center system science ...</td>\n",
       "    </tr>\n",
       "    <tr>\n",
       "      <td>108</td>\n",
       "      <td>Homebrew/legacy-homebrew</td>\n",
       "      <td>None</td>\n",
       "      <td>homebrew legacy repository wa deprecated split...</td>\n",
       "    </tr>\n",
       "    <tr>\n",
       "      <td>111</td>\n",
       "      <td>Trinea/android-open-project</td>\n",
       "      <td>None</td>\n",
       "      <td>android codekkcomhttpspcodekkcom english versi...</td>\n",
       "    </tr>\n",
       "    <tr>\n",
       "      <td>114</td>\n",
       "      <td>scutan90/DeepLearning-500-questions</td>\n",
       "      <td>None</td>\n",
       "      <td>github center img srcqunpng width300 br divdiv...</td>\n",
       "    </tr>\n",
       "    <tr>\n",
       "      <td>134</td>\n",
       "      <td>wasabeef/awesome-android-ui</td>\n",
       "      <td>None</td>\n",
       "      <td>list android uiux library awesomehttpscdnrawgi...</td>\n",
       "    </tr>\n",
       "    <tr>\n",
       "      <td>135</td>\n",
       "      <td>karan/Projects</td>\n",
       "      <td>None</td>\n",
       "      <td>mega project list list practical project anyon...</td>\n",
       "    </tr>\n",
       "    <tr>\n",
       "      <td>139</td>\n",
       "      <td>googlehosts/hosts</td>\n",
       "      <td>None</td>\n",
       "      <td>googlehosts doodledoodlestory doodle httpswwwg...</td>\n",
       "    </tr>\n",
       "    <tr>\n",
       "      <td>153</td>\n",
       "      <td>ossu/computer-science</td>\n",
       "      <td>None</td>\n",
       "      <td>open source society university ossuhttpiimgurc...</td>\n",
       "    </tr>\n",
       "    <tr>\n",
       "      <td>158</td>\n",
       "      <td>jlevy/the-art-of-command-line</td>\n",
       "      <td>None</td>\n",
       "      <td>cestinareadmecsmd deutschreadmedemd readmeelmd...</td>\n",
       "    </tr>\n",
       "    <tr>\n",
       "      <td>162</td>\n",
       "      <td>CocoaPods/Specs</td>\n",
       "      <td>None</td>\n",
       "      <td>cocoapods master repo repository contains publ...</td>\n",
       "    </tr>\n",
       "    <tr>\n",
       "      <td>167</td>\n",
       "      <td>vivienzou1/DL-Notes-for-Interview</td>\n",
       "      <td>None</td>\n",
       "      <td>httpsgithubcomelviswfdeeplearningbookqacn pdf ...</td>\n",
       "    </tr>\n",
       "    <tr>\n",
       "      <td>176</td>\n",
       "      <td>georgearun/Data-Science--Cheat-Sheet</td>\n",
       "      <td>None</td>\n",
       "      <td>data science cheat sheet</td>\n",
       "    </tr>\n",
       "    <tr>\n",
       "      <td>179</td>\n",
       "      <td>ServiceNow/devtraining-needit-madrid</td>\n",
       "      <td>None</td>\n",
       "      <td>generated file repository contains generated f...</td>\n",
       "    </tr>\n",
       "    <tr>\n",
       "      <td>197</td>\n",
       "      <td>labuladong/fucking-algorithm</td>\n",
       "      <td>None</td>\n",
       "      <td>english version repo gitbook english branchhtt...</td>\n",
       "    </tr>\n",
       "    <tr>\n",
       "      <td>213</td>\n",
       "      <td>ServiceNow/devtraining-needit-kingston</td>\n",
       "      <td>None</td>\n",
       "      <td>generated file repository contains generated f...</td>\n",
       "    </tr>\n",
       "    <tr>\n",
       "      <td>230</td>\n",
       "      <td>awesomedata/awesome-public-datasets</td>\n",
       "      <td>None</td>\n",
       "      <td>awesome public datasets image httpscdnrawgitco...</td>\n",
       "    </tr>\n",
       "    <tr>\n",
       "      <td>235</td>\n",
       "      <td>prakhar1989/awesome-courses</td>\n",
       "      <td>None</td>\n",
       "      <td>awesome c course awesomehttpscdnrawgitcomsindr...</td>\n",
       "    </tr>\n",
       "    <tr>\n",
       "      <td>237</td>\n",
       "      <td>justjavac/awesome-wechat-weapp</td>\n",
       "      <td>None</td>\n",
       "      <td>h1 aligncenterh1 httpsgithubcomjustjavacawesom...</td>\n",
       "    </tr>\n",
       "    <tr>\n",
       "      <td>252</td>\n",
       "      <td>judasn/IntelliJ-IDEA-Tutorial</td>\n",
       "      <td>None</td>\n",
       "      <td>devops targetblank hrefhttpscodingnetutmsource...</td>\n",
       "    </tr>\n",
       "  </tbody>\n",
       "</table>\n",
       "</div>"
      ],
      "text/plain": [
       "                                       repo language  \\\n",
       "0                        jtleek/datasharing     None   \n",
       "6                          github/gitignore     None   \n",
       "7                   rdpeng/ExData_Plotting1     None   \n",
       "10                       jtleek/datasharing     None   \n",
       "16                         github/gitignore     None   \n",
       "17                  rdpeng/ExData_Plotting1     None   \n",
       "22   EbookFoundation/free-programming-books     None   \n",
       "24      jwasham/coding-interview-university     None   \n",
       "27           rdpeng/RepData_PeerAssessment1     None   \n",
       "36   firstcontributions/first-contributions     None   \n",
       "40                  getify/You-Dont-Know-JS     None   \n",
       "46                         LarryMad/recipes     None   \n",
       "54   justjavac/free-programming-books-zh_CN     None   \n",
       "72                     sindresorhus/awesome     None   \n",
       "73          kamranahmedse/developer-roadmap     None   \n",
       "95          xingshaocheng/architect-awesome     None   \n",
       "100                 CSSEGISandData/COVID-19     None   \n",
       "108                Homebrew/legacy-homebrew     None   \n",
       "111             Trinea/android-open-project     None   \n",
       "114     scutan90/DeepLearning-500-questions     None   \n",
       "134             wasabeef/awesome-android-ui     None   \n",
       "135                          karan/Projects     None   \n",
       "139                       googlehosts/hosts     None   \n",
       "153                   ossu/computer-science     None   \n",
       "158           jlevy/the-art-of-command-line     None   \n",
       "162                         CocoaPods/Specs     None   \n",
       "167       vivienzou1/DL-Notes-for-Interview     None   \n",
       "176    georgearun/Data-Science--Cheat-Sheet     None   \n",
       "179    ServiceNow/devtraining-needit-madrid     None   \n",
       "197            labuladong/fucking-algorithm     None   \n",
       "213  ServiceNow/devtraining-needit-kingston     None   \n",
       "230     awesomedata/awesome-public-datasets     None   \n",
       "235             prakhar1989/awesome-courses     None   \n",
       "237          justjavac/awesome-wechat-weapp     None   \n",
       "252           judasn/IntelliJ-IDEA-Tutorial     None   \n",
       "\n",
       "                                       readme_contents  \n",
       "0    share data statistician guide anyone need shar...  \n",
       "6    collection gitignore template githubs collecti...  \n",
       "7    introduction assignment us data hrefhttparchiv...  \n",
       "10   share data statistician guide anyone need shar...  \n",
       "16   collection gitignore template githubs collecti...  \n",
       "17   introduction assignment us data hrefhttparchiv...  \n",
       "22   page available easytoread website httpsebookfo...  \n",
       "24   coding interview university originally created...  \n",
       "27   introduction possible collect large amount dat...  \n",
       "36   open source lovehttpsbadgesfrapsoftcomosv1open...  \n",
       "40   ' know j yet book series 2nd edition series bo...  \n",
       "46   recipe repository contains recipe food like re...  \n",
       "54   httpsimgshieldsiogithubissuesjustjavacfreeprog...  \n",
       "72   div aligncenter &#9; img width500 height350 sr...  \n",
       "73   web developer roadmap 2020httpsiimgurcomnnyc9q...  \n",
       "95   h1h1 thumbsup thumbsup thumbsup httpswwwkcsouc...  \n",
       "100  covid19 data repository center system science ...  \n",
       "108  homebrew legacy repository wa deprecated split...  \n",
       "111  android codekkcomhttpspcodekkcom english versi...  \n",
       "114  github center img srcqunpng width300 br divdiv...  \n",
       "134  list android uiux library awesomehttpscdnrawgi...  \n",
       "135  mega project list list practical project anyon...  \n",
       "139  googlehosts doodledoodlestory doodle httpswwwg...  \n",
       "153  open source society university ossuhttpiimgurc...  \n",
       "158  cestinareadmecsmd deutschreadmedemd readmeelmd...  \n",
       "162  cocoapods master repo repository contains publ...  \n",
       "167  httpsgithubcomelviswfdeeplearningbookqacn pdf ...  \n",
       "176                           data science cheat sheet  \n",
       "179  generated file repository contains generated f...  \n",
       "197  english version repo gitbook english branchhtt...  \n",
       "213  generated file repository contains generated f...  \n",
       "230  awesome public datasets image httpscdnrawgitco...  \n",
       "235  awesome c course awesomehttpscdnrawgitcomsindr...  \n",
       "237  h1 aligncenterh1 httpsgithubcomjustjavacawesom...  \n",
       "252  devops targetblank hrefhttpscodingnetutmsource...  "
      ]
     },
     "execution_count": 8,
     "metadata": {},
     "output_type": "execute_result"
    }
   ],
   "source": [
    "df[df.language.isnull()]"
   ]
  },
  {
   "cell_type": "markdown",
   "metadata": {},
   "source": [
    "After check null, look some rows are just random noise like food recipe."
   ]
  },
  {
   "cell_type": "code",
   "execution_count": 23,
   "metadata": {},
   "outputs": [
    {
     "data": {
      "text/plain": [
       "'introduction second programming assignment require write r function able cache potentially timeconsuming computation example taking mean numeric vector typically fast operation however long vector may take long compute mean especially ha computed repeatedly eg loop content vector changing may make sense cache value mean need looked cache rather recomputed programming assignment take advantage scoping rule r language manipulated preserve state inside r object example caching mean vector example introduce operator used assign value object environment different current environment two function used create special object store numeric vector cache mean first function makevector creates special vector really list containing function 1 set value vector 2 get value vector 3 set value mean 4 get value mean makevector functionx numeric null set functiony x null get function x setmean functionmean mean getmean function listset set get get setmean setmean getmean getmean following function calculates mean special vector created function however first check see mean ha already calculated get mean cache skip computation otherwise calculates mean data set value mean cache via setmean function cachemean functionx xgetmean ifisnullm messagegetting cached data returnm data xget meandata xsetmeanm assignment caching inverse matrix matrix inversion usually costly computation may benefit caching inverse matrix rather computing repeatedly also alternative matrix inversion discus assignment write pair function cache inverse matrix write following function 1 makecachematrix function creates special matrix object cache inverse 2 cachesolve function computes inverse special matrix returned makecachematrix inverse ha already calculated matrix ha changed cachesolve retrieve inverse cache computing inverse square matrix done solve function r example x square invertible matrix solvex return inverse assignment assume matrix supplied always invertible order complete assignment must following 1 fork github repository containing stub r file httpsgithubcomrdpengprogrammingassignment2httpsgithubcomrdpengprogrammingassignment2 create copy account 2 clone forked github repository computer edit file locally machine 3 edit r file contained git repository place solution file please rename file 4 commit completed r file git repository push git branch github repository account 5 submit coursera url github repository contains completed r code assignment grading assignment graded via peer assessment'"
      ]
     },
     "execution_count": 23,
     "metadata": {},
     "output_type": "execute_result"
    }
   ],
   "source": [
    "df.iloc[0,2]"
   ]
  },
  {
   "cell_type": "code",
   "execution_count": 10,
   "metadata": {},
   "outputs": [
    {
     "name": "stdout",
     "output_type": "stream",
     "text": [
      "<class 'pandas.core.frame.DataFrame'>\n",
      "Int64Index: 225 entries, 1 to 259\n",
      "Data columns (total 3 columns):\n",
      "repo               225 non-null object\n",
      "language           225 non-null object\n",
      "readme_contents    225 non-null object\n",
      "dtypes: object(3)\n",
      "memory usage: 7.0+ KB\n"
     ]
    }
   ],
   "source": [
    "df = df.dropna()\n",
    "df.info()"
   ]
  },
  {
   "cell_type": "code",
   "execution_count": 22,
   "metadata": {},
   "outputs": [
    {
     "data": {
      "text/plain": [
       "<matplotlib.axes._subplots.AxesSubplot at 0x1a29c83310>"
      ]
     },
     "execution_count": 22,
     "metadata": {},
     "output_type": "execute_result"
    },
    {
     "data": {
      "image/png": "[encoded data removed]",
      "text/plain": [
       "<Figure size 864x576 with 1 Axes>"
      ]
     },
     "metadata": {
      "needs_background": "light"
     },
     "output_type": "display_data"
    }
   ],
   "source": [
    "df.language.value_counts(ascending=True).plot.barh(figsize = (12,8))"
   ]
  },
  {
   "cell_type": "markdown",
   "metadata": {},
   "source": [
    "## Define a prepare_data function"
   ]
  },
  {
   "cell_type": "code",
   "execution_count": 1,
   "metadata": {},
   "outputs": [],
   "source": [
    "def prepare_data():\n",
    "    df = pd.read_json('data.json')\n",
    "    df['readme_contents']= df.readme_contents.apply(prepare.prepare_text)\n",
    "    return df.dropna()"
   ]
  },
  {
   "cell_type": "code",
   "execution_count": 4,
   "metadata": {},
   "outputs": [
    {
     "name": "stdout",
     "output_type": "stream",
     "text": [
      "<class 'pandas.core.frame.DataFrame'>\n",
      "Int64Index: 225 entries, 1 to 259\n",
      "Data columns (total 3 columns):\n",
      "repo               225 non-null object\n",
      "language           225 non-null object\n",
      "readme_contents    225 non-null object\n",
      "dtypes: object(3)\n",
      "memory usage: 7.0+ KB\n"
     ]
    }
   ],
   "source": [
    "prepare_data().info()"
   ]
  },
  {
   "cell_type": "code",
   "execution_count": null,
   "metadata": {},
   "outputs": [],
   "source": []
  }
 ],
 "metadata": {
  "kernelspec": {
   "display_name": "Python 3",
   "language": "python",
   "name": "python3"
  },
  "language_info": {
   "codemirror_mode": {
    "name": "ipython",
    "version": 3
   },
   "file_extension": ".py",
   "mimetype": "text/x-python",
   "name": "python",
   "nbconvert_exporter": "python",
   "pygments_lexer": "ipython3",
   "version": "3.7.4"
  },
  "toc": {
   "base_numbering": 1,
   "nav_menu": {},
   "number_sections": true,
   "sideBar": true,
   "skip_h1_title": false,
   "title_cell": "Table of Contents",
   "title_sidebar": "Contents",
   "toc_cell": false,
   "toc_position": {},
   "toc_section_display": true,
   "toc_window_display": false
  }
 },
 "nbformat": 4,
 "nbformat_minor": 2
}
