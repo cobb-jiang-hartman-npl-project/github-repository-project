{
 "cells": [
  {
   "cell_type": "markdown",
   "metadata": {},
   "source": [
    "# GitHub Repository Natural Language Processing\n",
    "- [GitHub Repository Natural Language Processing](#GitHub-Repository-Natural-Language-Processing)\n",
    "    - [Executive Summary](#Executive-Summary)\n",
    "    - [Data Acquisition](#Data-Acquisition)\n",
    "    - [Wrangling](#Wrangling)\n",
    "    - [Exploration](#Exploration)\n",
    "        - [Distribution of languages used](#Distribution-of-languages-used)\n",
    "            - [Hypothesis Testing](#Hypothesis-Testing)\n",
    "        - [Does the length of the README Vary by Programming Language?](#Does-the-length-of-the-README-Vary-by-Programming-Language?)\n",
    "            - [Which Languages have the longest readme's?](#Which-Languages-have-the-longest-readme's?)\n",
    "            - [Median longest readme's](#Median-longest-readme's)\n",
    "            - [Longest readme by Language](#Longest-readme-by-Language)\n",
    "            - [Are There any Words that Uniquely Identify what Language a Readme is in?](#Are-There-any-Words-that-Uniquely-Identify-what-Language-a-Readme-is-in?)\n",
    "        - [Most used words visualized](#Most-used-words-visualized)\n",
    "    - [Modeling](#Modeling)\n",
    "        - [Model #1: TF-IDF Bigrams Decision Tree](#Model-#1:-TF-IDF-Bigrams-Decision-Tree)\n",
    "        - [Model #2: TF-IDF Logistic Regression](#Model-#2:-TF-IDF-Logistic-Regression)\n",
    "        - [Model #3: TF-IDF Naïve Bayes](#Model-#3:-TF-IDF-Naïve-Bayes)\n",
    "    - [Conclusions](#Conclusions)"
   ]
  },
  {
   "cell_type": "code",
   "execution_count": 1,
   "metadata": {},
   "outputs": [],
   "source": [
    "%matplotlib inline\n",
    "%load_ext autoreload\n",
    "%autoreload 2\n",
    "import pandas as pd \n",
    "import numpy as np\n",
    "import matplotlib.pyplot as plt\n",
    "import seaborn as sns\n",
    "\n",
    "from math import sqrt\n",
    "from scipy import stats\n",
    "\n",
    "import re\n",
    "from pprint import pprint\n",
    "\n",
    "# scraping modules\n",
    "from requests import get\n",
    "from bs4 import BeautifulSoup\n",
    "\n",
    "import unicodedata\n",
    "import re\n",
    "import json\n",
    "\n",
    "from wordcloud import WordCloud\n",
    "\n",
    "import nltk\n",
    "from nltk.tokenize.toktok import ToktokTokenizer\n",
    "from nltk.corpus import stopwords\n",
    "from sklearn.feature_extraction.text import CountVectorizer\n",
    "from sklearn.feature_extraction.text import TfidfVectorizer\n",
    "\n",
    "from sklearn.model_selection import train_test_split\n",
    "from sklearn.tree import DecisionTreeClassifier\n",
    "from sklearn.linear_model import LogisticRegression\n",
    "from sklearn.naive_bayes import MultinomialNB\n",
    "from sklearn.metrics import accuracy_score, classification_report\n",
    "\n",
    "import acquire as ac\n",
    "import prepare as pr\n",
    "import preprocessing as pp\n",
    "import explore as ex\n",
    "import evaluate as ev\n",
    "import model as mo\n",
    "\n",
    "\n",
    "import warnings\n",
    "warnings.filterwarnings(\"ignore\")"
   ]
  },
  {
   "cell_type": "code",
   "execution_count": 2,
   "metadata": {},
   "outputs": [],
   "source": [
    "plt.rc('figure', figsize=(16,8))\n",
    "plt.rc('font', size=14)\n",
    "sns.set_palette('pastel')"
   ]
  },
  {
   "cell_type": "markdown",
   "metadata": {},
   "source": [
    "---\n",
    "## Executive Summary\n",
    "1. Go's community values thorough documentation seemingly more than other programming language communities.\n",
    "2. Some words are highly specific to a programming language (e.g. \"webpack\" for JavaScript).\n",
    "3. Words are hard."
   ]
  },
  {
   "cell_type": "markdown",
   "metadata": {},
   "source": [
    "---\n",
    "## Data Acquisition\n",
    "1. First, we built a function to inspect and search a singular page of GitHub's most forked repositores and return the names of all repositores on that page.\n",
    "2. Then we built a function loop through several search pages and return the repository names. This function has an added sleep timer to slow down the access rate otherwise, GitHub access rate limit would hinder the acquisition of repository names.\n",
    "3. After doing some text cleaning of the repository names, all repositories were added to a list to be used in the `scrape_github_data` mother function."
   ]
  },
  {
   "cell_type": "markdown",
   "metadata": {},
   "source": [
    "---\n",
    "## Wrangling"
   ]
  },
  {
   "cell_type": "markdown",
   "metadata": {},
   "source": [
    "The function below does the following to each observation returned from the `scrape_github_data` mother function:\n",
    "1. Reads `data.json` into a pandas DataFrame\n",
    "1. Converts the DataFrame to a list of dictionaries\n",
    "1. Applies some basic cleaning to the readme_contents key\n",
    "1. Tokenizes each word of the clean readme contents\n",
    "1. Lemmatizes each readme token\n",
    "1. Removes stopwords and single character lemmas from lemmas\n",
    "1. Creates a `clean_readme_contents` key (string)\n",
    "1. Creates a `len_of_clean_readme_contents` key by quantifying the list of lemmas sans stopwords\n",
    "1. Converts the list of dictionaries to a pandas DataFrame\n",
    "1. Masks DataFrame to only include observations where the language is not null\n",
    "1. Masks DataFrame to exclude lower outliers\n",
    "1. Uses lambda function to exclude languages with only one observation\n",
    "1. Resets DataFrame index\n",
    "1. Drops original index column\n",
    "1. Returns the resultant DataFrame\n",
    "\n",
    "If you would like more information, please reference the documentation of the functions contained in the `prepare.py` library."
   ]
  },
  {
   "cell_type": "code",
   "execution_count": 3,
   "metadata": {},
   "outputs": [
    {
     "name": "stdout",
     "output_type": "stream",
     "text": [
      "Our DataFrame contains 226 observations and 5 variables.\n"
     ]
    },
    {
     "data": {
      "text/html": [
       "<div>\n",
       "<style scoped>\n",
       "    .dataframe tbody tr th:only-of-type {\n",
       "        vertical-align: middle;\n",
       "    }\n",
       "\n",
       "    .dataframe tbody tr th {\n",
       "        vertical-align: top;\n",
       "    }\n",
       "\n",
       "    .dataframe thead th {\n",
       "        text-align: right;\n",
       "    }\n",
       "</style>\n",
       "<table border=\"1\" class=\"dataframe\">\n",
       "  <thead>\n",
       "    <tr style=\"text-align: right;\">\n",
       "      <th></th>\n",
       "      <th>repo</th>\n",
       "      <th>language</th>\n",
       "      <th>readme_contents</th>\n",
       "      <th>clean_readme_contents</th>\n",
       "      <th>len_of_clean_readme_contents</th>\n",
       "    </tr>\n",
       "  </thead>\n",
       "  <tbody>\n",
       "    <tr>\n",
       "      <th>0</th>\n",
       "      <td>rdpeng/ProgrammingAssignment2</td>\n",
       "      <td>R</td>\n",
       "      <td>### Introduction\\n\\nThis second programming as...</td>\n",
       "      <td>introduction second programming assignment req...</td>\n",
       "      <td>316</td>\n",
       "    </tr>\n",
       "    <tr>\n",
       "      <th>1</th>\n",
       "      <td>octocat/Spoon-Knife</td>\n",
       "      <td>HTML</td>\n",
       "      <td>### Well hello there!\\n\\nThis repository is me...</td>\n",
       "      <td>well hello repository meant provide example fo...</td>\n",
       "      <td>66</td>\n",
       "    </tr>\n",
       "    <tr>\n",
       "      <th>2</th>\n",
       "      <td>tensorflow/tensorflow</td>\n",
       "      <td>C++</td>\n",
       "      <td>&lt;div align=\"center\"&gt;\\n  &lt;img src=\"https://www....</td>\n",
       "      <td>div align center tensorflow image tf logo soci...</td>\n",
       "      <td>1138</td>\n",
       "    </tr>\n",
       "    <tr>\n",
       "      <th>3</th>\n",
       "      <td>SmartThingsCommunity/SmartThingsPublic</td>\n",
       "      <td>Groovy</td>\n",
       "      <td># SmartThings Public GitHub Repo\\n\\nAn officia...</td>\n",
       "      <td>smartthings public repo official list smartapp...</td>\n",
       "      <td>44</td>\n",
       "    </tr>\n",
       "    <tr>\n",
       "      <th>4</th>\n",
       "      <td>twbs/bootstrap</td>\n",
       "      <td>JavaScript</td>\n",
       "      <td>&lt;p align=\"center\"&gt;\\n  &lt;a href=\"https://getboot...</td>\n",
       "      <td>align center href getbootstrap getbootstrap as...</td>\n",
       "      <td>1048</td>\n",
       "    </tr>\n",
       "  </tbody>\n",
       "</table>\n",
       "</div>"
      ],
      "text/plain": [
       "                                     repo    language  \\\n",
       "0           rdpeng/ProgrammingAssignment2           R   \n",
       "1                     octocat/Spoon-Knife        HTML   \n",
       "2                   tensorflow/tensorflow         C++   \n",
       "3  SmartThingsCommunity/SmartThingsPublic      Groovy   \n",
       "4                          twbs/bootstrap  JavaScript   \n",
       "\n",
       "                                     readme_contents  \\\n",
       "0  ### Introduction\\n\\nThis second programming as...   \n",
       "1  ### Well hello there!\\n\\nThis repository is me...   \n",
       "2  <div align=\"center\">\\n  <img src=\"https://www....   \n",
       "3  # SmartThings Public GitHub Repo\\n\\nAn officia...   \n",
       "4  <p align=\"center\">\\n  <a href=\"https://getboot...   \n",
       "\n",
       "                               clean_readme_contents  \\\n",
       "0  introduction second programming assignment req...   \n",
       "1  well hello repository meant provide example fo...   \n",
       "2  div align center tensorflow image tf logo soci...   \n",
       "3  smartthings public repo official list smartapp...   \n",
       "4  align center href getbootstrap getbootstrap as...   \n",
       "\n",
       "   len_of_clean_readme_contents  \n",
       "0                           316  \n",
       "1                            66  \n",
       "2                          1138  \n",
       "3                            44  \n",
       "4                          1048  "
      ]
     },
     "execution_count": 3,
     "metadata": {},
     "output_type": "execute_result"
    }
   ],
   "source": [
    "df = pr.wrangle_readme_data()\n",
    "print(f\"Our DataFrame contains {df.shape[0]} observations and {df.shape[1]} variables.\")\n",
    "df.head()"
   ]
  },
  {
   "cell_type": "markdown",
   "metadata": {},
   "source": [
    "---\n",
    "## Exploration"
   ]
  },
  {
   "cell_type": "markdown",
   "metadata": {},
   "source": [
    "### Distribution of languages used"
   ]
  },
  {
   "cell_type": "markdown",
   "metadata": {},
   "source": [
    "- Using Value counts to group df by languages used"
   ]
  },
  {
   "cell_type": "code",
   "execution_count": 4,
   "metadata": {},
   "outputs": [],
   "source": [
    "df_lang_count = pd.DataFrame(df.language.value_counts())"
   ]
  },
  {
   "cell_type": "code",
   "execution_count": 5,
   "metadata": {},
   "outputs": [
    {
     "data": {
      "text/plain": [
       "language    226\n",
       "dtype: int64"
      ]
     },
     "execution_count": 5,
     "metadata": {},
     "output_type": "execute_result"
    }
   ],
   "source": [
    "# 231 total observation\n",
    "df_lang_count.sum()"
   ]
  },
  {
   "cell_type": "markdown",
   "metadata": {},
   "source": [
    "**Seems a bit sparse on some of the languages with less than 5 projects done in that language, deciding to lop all of the languages less than 5 into a bin labeled 'other'**"
   ]
  },
  {
   "cell_type": "code",
   "execution_count": 6,
   "metadata": {},
   "outputs": [
    {
     "data": {
      "text/html": [
       "<div>\n",
       "<style scoped>\n",
       "    .dataframe tbody tr th:only-of-type {\n",
       "        vertical-align: middle;\n",
       "    }\n",
       "\n",
       "    .dataframe tbody tr th {\n",
       "        vertical-align: top;\n",
       "    }\n",
       "\n",
       "    .dataframe thead th {\n",
       "        text-align: right;\n",
       "    }\n",
       "</style>\n",
       "<table border=\"1\" class=\"dataframe\">\n",
       "  <thead>\n",
       "    <tr style=\"text-align: right;\">\n",
       "      <th></th>\n",
       "      <th>language</th>\n",
       "    </tr>\n",
       "  </thead>\n",
       "  <tbody>\n",
       "    <tr>\n",
       "      <th>JavaScript</th>\n",
       "      <td>51</td>\n",
       "    </tr>\n",
       "    <tr>\n",
       "      <th>Java</th>\n",
       "      <td>36</td>\n",
       "    </tr>\n",
       "    <tr>\n",
       "      <th>Python</th>\n",
       "      <td>27</td>\n",
       "    </tr>\n",
       "    <tr>\n",
       "      <th>C++</th>\n",
       "      <td>16</td>\n",
       "    </tr>\n",
       "    <tr>\n",
       "      <th>HTML</th>\n",
       "      <td>14</td>\n",
       "    </tr>\n",
       "    <tr>\n",
       "      <th>Jupyter Notebook</th>\n",
       "      <td>12</td>\n",
       "    </tr>\n",
       "    <tr>\n",
       "      <th>Go</th>\n",
       "      <td>10</td>\n",
       "    </tr>\n",
       "    <tr>\n",
       "      <th>C</th>\n",
       "      <td>10</td>\n",
       "    </tr>\n",
       "    <tr>\n",
       "      <th>PHP</th>\n",
       "      <td>9</td>\n",
       "    </tr>\n",
       "    <tr>\n",
       "      <th>TypeScript</th>\n",
       "      <td>9</td>\n",
       "    </tr>\n",
       "    <tr>\n",
       "      <th>Ruby</th>\n",
       "      <td>7</td>\n",
       "    </tr>\n",
       "    <tr>\n",
       "      <th>CSS</th>\n",
       "      <td>5</td>\n",
       "    </tr>\n",
       "    <tr>\n",
       "      <th>Shell</th>\n",
       "      <td>4</td>\n",
       "    </tr>\n",
       "    <tr>\n",
       "      <th>Vue</th>\n",
       "      <td>3</td>\n",
       "    </tr>\n",
       "    <tr>\n",
       "      <th>R</th>\n",
       "      <td>3</td>\n",
       "    </tr>\n",
       "    <tr>\n",
       "      <th>C#</th>\n",
       "      <td>2</td>\n",
       "    </tr>\n",
       "    <tr>\n",
       "      <th>Rust</th>\n",
       "      <td>2</td>\n",
       "    </tr>\n",
       "    <tr>\n",
       "      <th>Groovy</th>\n",
       "      <td>2</td>\n",
       "    </tr>\n",
       "    <tr>\n",
       "      <th>PowerShell</th>\n",
       "      <td>2</td>\n",
       "    </tr>\n",
       "    <tr>\n",
       "      <th>Kotlin</th>\n",
       "      <td>2</td>\n",
       "    </tr>\n",
       "  </tbody>\n",
       "</table>\n",
       "</div>"
      ],
      "text/plain": [
       "                  language\n",
       "JavaScript              51\n",
       "Java                    36\n",
       "Python                  27\n",
       "C++                     16\n",
       "HTML                    14\n",
       "Jupyter Notebook        12\n",
       "Go                      10\n",
       "C                       10\n",
       "PHP                      9\n",
       "TypeScript               9\n",
       "Ruby                     7\n",
       "CSS                      5\n",
       "Shell                    4\n",
       "Vue                      3\n",
       "R                        3\n",
       "C#                       2\n",
       "Rust                     2\n",
       "Groovy                   2\n",
       "PowerShell               2\n",
       "Kotlin                   2"
      ]
     },
     "execution_count": 6,
     "metadata": {},
     "output_type": "execute_result"
    }
   ],
   "source": [
    "df_lang_count"
   ]
  },
  {
   "cell_type": "markdown",
   "metadata": {},
   "source": [
    "We're creating this function that will remove all languages with less than 5 readme's and convert those into a observation titled 'others'.\n",
    "\n",
    "> **the languages included in 'others':\n",
    "Shell, R, Vue, Groovy, Kotlin, Powershell, Rust, & C#**"
   ]
  },
  {
   "cell_type": "code",
   "execution_count": 7,
   "metadata": {},
   "outputs": [],
   "source": [
    "df_lang_count = ex.get_others(df_lang_count)"
   ]
  },
  {
   "cell_type": "code",
   "execution_count": 8,
   "metadata": {},
   "outputs": [
    {
     "data": {
      "text/plain": [
       "language    226\n",
       "dtype: int64"
      ]
     },
     "execution_count": 8,
     "metadata": {},
     "output_type": "execute_result"
    }
   ],
   "source": [
    "df_lang_count.sum()"
   ]
  },
  {
   "cell_type": "code",
   "execution_count": 9,
   "metadata": {},
   "outputs": [
    {
     "data": {
      "image/png": "[encoded data removed]",
      "text/plain": [
       "<Figure size 1224x576 with 1 Axes>"
      ]
     },
     "metadata": {
      "needs_background": "light"
     },
     "output_type": "display_data"
    }
   ],
   "source": [
    "plt.figure(figsize=(17,8))\n",
    "x = df_lang_count.index\n",
    "y = df_lang_count.language\n",
    "sns.barplot(data=df_lang_count, x=x, y=y)\n",
    "\n",
    "plt.title(\"Distribution of Languages Used on Github\")\n",
    "plt.ylabel('# of Repo\\'s')\n",
    "plt.xlabel('Languages Used')\n",
    "\n",
    "plt.xticks(rotation=70)\n",
    "plt.show()"
   ]
  },
  {
   "cell_type": "markdown",
   "metadata": {},
   "source": [
    "the languages included in 'others':\n",
    "Shell, R, Vue, Groovy, Kotlin, Powershell, Rust, C#, ApacheConf, Objective-C, Scala, TeX, Dart, & Rascal"
   ]
  },
  {
   "cell_type": "markdown",
   "metadata": {},
   "source": [
    "#### Hypothesis Testing\n",
    "- t-test:\n",
    "    - $H_0$: The average amount of words used in a repo written in go is no different than the population average of words written in a readme.\n",
    "    - $H_a$: The average amount of words used in a repo written in go is different than the population average of words written in a readme."
   ]
  },
  {
   "cell_type": "code",
   "execution_count": 10,
   "metadata": {},
   "outputs": [
    {
     "data": {
      "text/plain": [
       "language\n",
       "C                    521.100000\n",
       "C#                   280.500000\n",
       "C++                  719.937500\n",
       "CSS                  542.800000\n",
       "Go                  2912.400000\n",
       "Groovy                44.000000\n",
       "HTML                 428.285714\n",
       "Java                 597.416667\n",
       "JavaScript          1422.294118\n",
       "Jupyter Notebook     644.083333\n",
       "Kotlin               446.000000\n",
       "PHP                  564.555556\n",
       "PowerShell           171.000000\n",
       "Python              2246.814815\n",
       "R                    350.666667\n",
       "Ruby                 361.714286\n",
       "Rust                 757.500000\n",
       "Shell                490.250000\n",
       "TypeScript           658.444444\n",
       "Vue                 1176.333333\n",
       "Name: len_of_clean_readme_contents, dtype: float64"
      ]
     },
     "execution_count": 10,
     "metadata": {},
     "output_type": "execute_result"
    }
   ],
   "source": [
    "df.groupby('language')['len_of_clean_readme_contents'].mean()"
   ]
  },
  {
   "cell_type": "code",
   "execution_count": 11,
   "metadata": {},
   "outputs": [],
   "source": [
    "go = df[df.language == 'Go']"
   ]
  },
  {
   "cell_type": "code",
   "execution_count": 12,
   "metadata": {},
   "outputs": [
    {
     "name": "stdout",
     "output_type": "stream",
     "text": [
      "t = 0.84\n",
      "p = 0.42\n",
      "Conclusion:\n",
      "We Fail to reject the null hypothesis\n"
     ]
    }
   ],
   "source": [
    "t, p = stats.ttest_1samp(go.len_of_clean_readme_contents, df.len_of_clean_readme_contents.mean())\n",
    "\n",
    "print(f't = {t:.2f}')\n",
    "print(f'p = {p:.2f}')\n",
    "print(\"Conclusion:\")\n",
    "a = 1 - .99\n",
    "if p < a:\n",
    "    print('We reject the null hypothesis')\n",
    "else:\n",
    "    print('We Fail to reject the null hypothesis')\n"
   ]
  },
  {
   "cell_type": "markdown",
   "metadata": {},
   "source": [
    "### Does the length of the README Vary by Programming Language?"
   ]
  },
  {
   "cell_type": "code",
   "execution_count": 13,
   "metadata": {},
   "outputs": [],
   "source": [
    "df2 = df[['language', 'clean_readme_contents']]"
   ]
  },
  {
   "cell_type": "code",
   "execution_count": 14,
   "metadata": {},
   "outputs": [
    {
     "data": {
      "text/html": [
       "<div>\n",
       "<style scoped>\n",
       "    .dataframe tbody tr th:only-of-type {\n",
       "        vertical-align: middle;\n",
       "    }\n",
       "\n",
       "    .dataframe tbody tr th {\n",
       "        vertical-align: top;\n",
       "    }\n",
       "\n",
       "    .dataframe thead th {\n",
       "        text-align: right;\n",
       "    }\n",
       "</style>\n",
       "<table border=\"1\" class=\"dataframe\">\n",
       "  <thead>\n",
       "    <tr style=\"text-align: right;\">\n",
       "      <th></th>\n",
       "      <th>language</th>\n",
       "      <th>clean_readme_contents</th>\n",
       "    </tr>\n",
       "  </thead>\n",
       "  <tbody>\n",
       "    <tr>\n",
       "      <th>0</th>\n",
       "      <td>R</td>\n",
       "      <td>introduction second programming assignment req...</td>\n",
       "    </tr>\n",
       "    <tr>\n",
       "      <th>1</th>\n",
       "      <td>HTML</td>\n",
       "      <td>well hello repository meant provide example fo...</td>\n",
       "    </tr>\n",
       "    <tr>\n",
       "      <th>2</th>\n",
       "      <td>C++</td>\n",
       "      <td>div align center tensorflow image tf logo soci...</td>\n",
       "    </tr>\n",
       "    <tr>\n",
       "      <th>3</th>\n",
       "      <td>Groovy</td>\n",
       "      <td>smartthings public repo official list smartapp...</td>\n",
       "    </tr>\n",
       "    <tr>\n",
       "      <th>4</th>\n",
       "      <td>JavaScript</td>\n",
       "      <td>align center href getbootstrap getbootstrap as...</td>\n",
       "    </tr>\n",
       "    <tr>\n",
       "      <th>...</th>\n",
       "      <td>...</td>\n",
       "      <td>...</td>\n",
       "    </tr>\n",
       "    <tr>\n",
       "      <th>221</th>\n",
       "      <td>TypeScript</td>\n",
       "      <td>ngx admin imgur omcxwz png alt eva design syst...</td>\n",
       "    </tr>\n",
       "    <tr>\n",
       "      <th>222</th>\n",
       "      <td>R</td>\n",
       "      <td>swirl course collection interactive course use...</td>\n",
       "    </tr>\n",
       "    <tr>\n",
       "      <th>223</th>\n",
       "      <td>C++</td>\n",
       "      <td>jennic platform added note detail project plea...</td>\n",
       "    </tr>\n",
       "    <tr>\n",
       "      <th>224</th>\n",
       "      <td>Go</td>\n",
       "      <td>etcd go report card goreportcard badge etcd io...</td>\n",
       "    </tr>\n",
       "    <tr>\n",
       "      <th>225</th>\n",
       "      <td>JavaScript</td>\n",
       "      <td>lh googleusercontent pvw zum vv uuweh aaaaaaaa...</td>\n",
       "    </tr>\n",
       "  </tbody>\n",
       "</table>\n",
       "<p>226 rows × 2 columns</p>\n",
       "</div>"
      ],
      "text/plain": [
       "       language                              clean_readme_contents\n",
       "0             R  introduction second programming assignment req...\n",
       "1          HTML  well hello repository meant provide example fo...\n",
       "2           C++  div align center tensorflow image tf logo soci...\n",
       "3        Groovy  smartthings public repo official list smartapp...\n",
       "4    JavaScript  align center href getbootstrap getbootstrap as...\n",
       "..          ...                                                ...\n",
       "221  TypeScript  ngx admin imgur omcxwz png alt eva design syst...\n",
       "222           R  swirl course collection interactive course use...\n",
       "223         C++  jennic platform added note detail project plea...\n",
       "224          Go  etcd go report card goreportcard badge etcd io...\n",
       "225  JavaScript  lh googleusercontent pvw zum vv uuweh aaaaaaaa...\n",
       "\n",
       "[226 rows x 2 columns]"
      ]
     },
     "execution_count": 14,
     "metadata": {},
     "output_type": "execute_result"
    }
   ],
   "source": [
    "df2"
   ]
  },
  {
   "cell_type": "code",
   "execution_count": 15,
   "metadata": {},
   "outputs": [],
   "source": [
    "df2['cleaned_readme'] = df2.clean_readme_contents.apply(ex.clean)\n",
    "df2['length_of_readme'] = df2.cleaned_readme.apply(len)"
   ]
  },
  {
   "cell_type": "markdown",
   "metadata": {},
   "source": [
    "> Scatter plot where length of readme is y-axis, x-axis is how many programming languages and hue is label of programming language"
   ]
  },
  {
   "cell_type": "code",
   "execution_count": 16,
   "metadata": {},
   "outputs": [
    {
     "data": {
      "image/png": "[encoded data removed]",
      "text/plain": [
       "<Figure size 1224x576 with 1 Axes>"
      ]
     },
     "metadata": {
      "needs_background": "light"
     },
     "output_type": "display_data"
    }
   ],
   "source": [
    "plt.figure(figsize=(17,8))\n",
    "plt.title('Length of README files for each programming language')\n",
    "x\n",
    "x = df2.index\n",
    "y = df2.length_of_readme\n",
    "hue = df2.language\n",
    "sns.scatterplot(data=df_lang_count, x=x, y=y, hue=hue)\n",
    "plt.ylabel('Length of Readme')\n",
    "plt.xlabel('Number of Readme\\'s')\n",
    "\n",
    "# Put the legend out of the figure\n",
    "plt.legend(bbox_to_anchor=(0.2, -0.12), loc=2, borderaxespad=0., ncol=4)\n",
    "\n",
    "plt.show()"
   ]
  },
  {
   "cell_type": "markdown",
   "metadata": {},
   "source": [
    "> Length of readme's except for a few specific programming languages are below 2,000 characters. Outliers above that, include Go, python and a few others."
   ]
  },
  {
   "cell_type": "markdown",
   "metadata": {},
   "source": [
    "#### Which Languages have the longest readme's?"
   ]
  },
  {
   "cell_type": "code",
   "execution_count": 17,
   "metadata": {},
   "outputs": [
    {
     "data": {
      "text/plain": [
       "language\n",
       "C                    521.100000\n",
       "C#                   280.500000\n",
       "C++                  719.937500\n",
       "CSS                  542.800000\n",
       "Go                  2912.400000\n",
       "Groovy                44.000000\n",
       "HTML                 428.285714\n",
       "Java                 597.416667\n",
       "JavaScript          1422.294118\n",
       "Jupyter Notebook     644.083333\n",
       "Kotlin               446.000000\n",
       "PHP                  564.555556\n",
       "PowerShell           171.000000\n",
       "Python              2246.814815\n",
       "R                    350.666667\n",
       "Ruby                 361.714286\n",
       "Rust                 757.500000\n",
       "Shell                490.250000\n",
       "TypeScript           658.444444\n",
       "Vue                 1176.333333\n",
       "Name: length_of_readme, dtype: float64"
      ]
     },
     "execution_count": 17,
     "metadata": {},
     "output_type": "execute_result"
    }
   ],
   "source": [
    "df2 = df2.sort_values(by='length_of_readme', ascending=False)\n",
    "df_len = df2.groupby('language').mean()\n",
    "df_len.length_of_readme"
   ]
  },
  {
   "cell_type": "code",
   "execution_count": 18,
   "metadata": {},
   "outputs": [
    {
     "data": {
      "image/png": "[encoded data removed]",
      "text/plain": [
       "<Figure size 1224x576 with 1 Axes>"
      ]
     },
     "metadata": {
      "needs_background": "light"
     },
     "output_type": "display_data"
    }
   ],
   "source": [
    "plt.figure(figsize=(17,8))\n",
    "x = df_len.index\n",
    "y = df_len.length_of_readme\n",
    "sns.barplot(data=df_len, x=x, y=y)\n",
    "\n",
    "plt.title(\"Languages With the Longest Readmes on Average\")\n",
    "plt.ylabel('AVG. Length of Readme\\'s')\n",
    "plt.xlabel('Languages')\n",
    "\n",
    "plt.xticks(rotation=70)\n",
    "plt.show()"
   ]
  },
  {
   "cell_type": "markdown",
   "metadata": {},
   "source": [
    "**Takeaways:** Average amount of words in a go readme, is greater than in any other programming language"
   ]
  },
  {
   "cell_type": "markdown",
   "metadata": {},
   "source": [
    "#### Median longest readme's"
   ]
  },
  {
   "cell_type": "code",
   "execution_count": 19,
   "metadata": {},
   "outputs": [
    {
     "data": {
      "image/png": "[encoded data removed]",
      "text/plain": [
       "<Figure size 1224x576 with 1 Axes>"
      ]
     },
     "metadata": {
      "needs_background": "light"
     },
     "output_type": "display_data"
    }
   ],
   "source": [
    "df_len_med = df2.groupby('language').median()\n",
    "\n",
    "plt.figure(figsize=(17,8))\n",
    "x = df_len_med.index\n",
    "y = df_len_med.length_of_readme\n",
    "sns.barplot(data=df_len_med, x=x, y=y)\n",
    "\n",
    "plt.title(\"Languages With the Longest Readmes Using Median\")\n",
    "plt.ylabel('Median. Length of Readme\\'s')\n",
    "plt.xlabel('Languages')\n",
    "\n",
    "plt.xticks(rotation=70)\n",
    "plt.show()"
   ]
  },
  {
   "cell_type": "markdown",
   "metadata": {},
   "source": [
    "**Takeaways**: Vue has 2 repo's, one of them with over 1,000 words which makes up for its position in this graph."
   ]
  },
  {
   "cell_type": "markdown",
   "metadata": {},
   "source": [
    "#### Longest readme by Language"
   ]
  },
  {
   "cell_type": "code",
   "execution_count": 20,
   "metadata": {},
   "outputs": [
    {
     "data": {
      "text/plain": [
       "language\n",
       "Go                  22628\n",
       "Python              14505\n",
       "JavaScript          10071\n",
       "HTML                 3033\n",
       "Java                 2710\n",
       "Jupyter Notebook     2690\n",
       "C                    1909\n",
       "C++                  1894\n",
       "CSS                  1507\n",
       "PHP                  1475\n",
       "TypeScript           1374\n",
       "Vue                  1302\n",
       "Shell                1102\n",
       "Rust                  934\n",
       "Ruby                  613\n",
       "C#                    512\n",
       "Kotlin                488\n",
       "R                     420\n",
       "PowerShell            193\n",
       "Groovy                 44\n",
       "Name: length_of_readme, dtype: int64"
      ]
     },
     "execution_count": 20,
     "metadata": {},
     "output_type": "execute_result"
    }
   ],
   "source": [
    "words_by_lang = df2.groupby('language').max()\n",
    "words_by_lang = words_by_lang.sort_values(by='length_of_readme', ascending=False)\n",
    "words_by_lang.length_of_readme"
   ]
  },
  {
   "cell_type": "code",
   "execution_count": 21,
   "metadata": {},
   "outputs": [
    {
     "data": {
      "image/png": "[encoded data removed]",
      "text/plain": [
       "<Figure size 1224x576 with 1 Axes>"
      ]
     },
     "metadata": {
      "needs_background": "light"
     },
     "output_type": "display_data"
    }
   ],
   "source": [
    "plt.figure(figsize=(17,8))\n",
    "x = words_by_lang.index\n",
    "y = words_by_lang.length_of_readme\n",
    "sns.barplot(data=words_by_lang, x=x, y=y)\n",
    "\n",
    "plt.title(\"Max Longest README\\'s Per Language\")\n",
    "plt.ylabel('Length of Readme\\'s')\n",
    "plt.xlabel('Programming Languages')\n",
    "\n",
    "plt.xticks(rotation=70)\n",
    "plt.show()"
   ]
  },
  {
   "cell_type": "markdown",
   "metadata": {},
   "source": [
    "**Takeaways**: Go, python & javascript seem to have the most documented README's in our observations"
   ]
  },
  {
   "cell_type": "markdown",
   "metadata": {},
   "source": [
    "#### Are There any Words that Uniquely Identify what Language a Readme is in?\n",
    "- We chose the top 3 most popular languages based on length of README's \n",
    "    - Go, Python & JavaScript \n",
    "- and we ran those against all words used    "
   ]
  },
  {
   "cell_type": "code",
   "execution_count": 22,
   "metadata": {},
   "outputs": [],
   "source": [
    "go_words = ex.clean(' '.join(df2[df2.language == 'Go'].clean_readme_contents))\n",
    "python_words = ex.clean(' '.join(df2[df2.language == 'Python'].clean_readme_contents))\n",
    "javascript_words = ex.clean(' '.join(df2[df2.language == 'JavaScript'].clean_readme_contents))\n",
    "all_words = ex.clean(' '.join(df2.clean_readme_contents))"
   ]
  },
  {
   "cell_type": "code",
   "execution_count": 23,
   "metadata": {},
   "outputs": [],
   "source": [
    "go_freq = pd.Series(go_words).value_counts()\n",
    "python_freq = pd.Series(python_words).value_counts()\n",
    "javascript_freq = pd.Series(javascript_words).value_counts()\n",
    "all_freq = pd.Series(all_words).value_counts()"
   ]
  },
  {
   "cell_type": "code",
   "execution_count": 24,
   "metadata": {},
   "outputs": [],
   "source": [
    "word_counts = (pd.concat([all_freq, go_freq, python_freq, javascript_freq], axis=1, sort=True)\n",
    "              .set_axis(['all', 'go', 'python', 'javascript'], axis=1, inplace=False)\n",
    "              .fillna(0)\n",
    "              .apply(lambda s: s.astype(int)))"
   ]
  },
  {
   "cell_type": "code",
   "execution_count": 25,
   "metadata": {},
   "outputs": [
    {
     "data": {
      "text/html": [
       "<div>\n",
       "<style scoped>\n",
       "    .dataframe tbody tr th:only-of-type {\n",
       "        vertical-align: middle;\n",
       "    }\n",
       "\n",
       "    .dataframe tbody tr th {\n",
       "        vertical-align: top;\n",
       "    }\n",
       "\n",
       "    .dataframe thead th {\n",
       "        text-align: right;\n",
       "    }\n",
       "</style>\n",
       "<table border=\"1\" class=\"dataframe\">\n",
       "  <thead>\n",
       "    <tr style=\"text-align: right;\">\n",
       "      <th></th>\n",
       "      <th>all</th>\n",
       "      <th>go</th>\n",
       "      <th>python</th>\n",
       "      <th>javascript</th>\n",
       "    </tr>\n",
       "  </thead>\n",
       "  <tbody>\n",
       "    <tr>\n",
       "      <th>go</th>\n",
       "      <td>1890</td>\n",
       "      <td>1701</td>\n",
       "      <td>90</td>\n",
       "      <td>47</td>\n",
       "    </tr>\n",
       "    <tr>\n",
       "      <th>io</th>\n",
       "      <td>1588</td>\n",
       "      <td>145</td>\n",
       "      <td>304</td>\n",
       "      <td>440</td>\n",
       "    </tr>\n",
       "    <tr>\n",
       "      <th>href</th>\n",
       "      <td>1377</td>\n",
       "      <td>0</td>\n",
       "      <td>108</td>\n",
       "      <td>780</td>\n",
       "    </tr>\n",
       "    <tr>\n",
       "      <th>python</th>\n",
       "      <td>1299</td>\n",
       "      <td>16</td>\n",
       "      <td>917</td>\n",
       "      <td>2</td>\n",
       "    </tr>\n",
       "    <tr>\n",
       "      <th>data</th>\n",
       "      <td>1109</td>\n",
       "      <td>95</td>\n",
       "      <td>594</td>\n",
       "      <td>239</td>\n",
       "    </tr>\n",
       "    <tr>\n",
       "      <th>library</th>\n",
       "      <td>1103</td>\n",
       "      <td>390</td>\n",
       "      <td>485</td>\n",
       "      <td>103</td>\n",
       "    </tr>\n",
       "    <tr>\n",
       "      <th>master</th>\n",
       "      <td>1070</td>\n",
       "      <td>60</td>\n",
       "      <td>168</td>\n",
       "      <td>203</td>\n",
       "    </tr>\n",
       "    <tr>\n",
       "      <th>code</th>\n",
       "      <td>1055</td>\n",
       "      <td>92</td>\n",
       "      <td>280</td>\n",
       "      <td>238</td>\n",
       "    </tr>\n",
       "    <tr>\n",
       "      <th>api</th>\n",
       "      <td>1035</td>\n",
       "      <td>155</td>\n",
       "      <td>443</td>\n",
       "      <td>255</td>\n",
       "    </tr>\n",
       "    <tr>\n",
       "      <th>html</th>\n",
       "      <td>1029</td>\n",
       "      <td>51</td>\n",
       "      <td>343</td>\n",
       "      <td>315</td>\n",
       "    </tr>\n",
       "  </tbody>\n",
       "</table>\n",
       "</div>"
      ],
      "text/plain": [
       "          all    go  python  javascript\n",
       "go       1890  1701      90          47\n",
       "io       1588   145     304         440\n",
       "href     1377     0     108         780\n",
       "python   1299    16     917           2\n",
       "data     1109    95     594         239\n",
       "library  1103   390     485         103\n",
       "master   1070    60     168         203\n",
       "code     1055    92     280         238\n",
       "api      1035   155     443         255\n",
       "html     1029    51     343         315"
      ]
     },
     "execution_count": 25,
     "metadata": {},
     "output_type": "execute_result"
    }
   ],
   "source": [
    "word_counts.sort_values(by='all', ascending=False).head(10)"
   ]
  },
  {
   "cell_type": "code",
   "execution_count": 26,
   "metadata": {},
   "outputs": [
    {
     "data": {
      "text/html": [
       "<div>\n",
       "<style scoped>\n",
       "    .dataframe tbody tr th:only-of-type {\n",
       "        vertical-align: middle;\n",
       "    }\n",
       "\n",
       "    .dataframe tbody tr th {\n",
       "        vertical-align: top;\n",
       "    }\n",
       "\n",
       "    .dataframe thead th {\n",
       "        text-align: right;\n",
       "    }\n",
       "</style>\n",
       "<table border=\"1\" class=\"dataframe\">\n",
       "  <thead>\n",
       "    <tr style=\"text-align: right;\">\n",
       "      <th></th>\n",
       "      <th>all</th>\n",
       "      <th>go</th>\n",
       "      <th>python</th>\n",
       "      <th>javascript</th>\n",
       "    </tr>\n",
       "  </thead>\n",
       "  <tbody>\n",
       "    <tr>\n",
       "      <th>npm</th>\n",
       "      <td>471</td>\n",
       "      <td>0</td>\n",
       "      <td>0</td>\n",
       "      <td>365</td>\n",
       "    </tr>\n",
       "    <tr>\n",
       "      <th>sponsor</th>\n",
       "      <td>546</td>\n",
       "      <td>0</td>\n",
       "      <td>0</td>\n",
       "      <td>400</td>\n",
       "    </tr>\n",
       "    <tr>\n",
       "      <th>requireactive</th>\n",
       "      <td>524</td>\n",
       "      <td>0</td>\n",
       "      <td>0</td>\n",
       "      <td>524</td>\n",
       "    </tr>\n",
       "    <tr>\n",
       "      <th>webpack</th>\n",
       "      <td>735</td>\n",
       "      <td>0</td>\n",
       "      <td>0</td>\n",
       "      <td>720</td>\n",
       "    </tr>\n",
       "    <tr>\n",
       "      <th>opencollective</th>\n",
       "      <td>946</td>\n",
       "      <td>0</td>\n",
       "      <td>1</td>\n",
       "      <td>740</td>\n",
       "    </tr>\n",
       "    <tr>\n",
       "      <th>href</th>\n",
       "      <td>1377</td>\n",
       "      <td>0</td>\n",
       "      <td>108</td>\n",
       "      <td>780</td>\n",
       "    </tr>\n",
       "    <tr>\n",
       "      <th>title</th>\n",
       "      <td>287</td>\n",
       "      <td>0</td>\n",
       "      <td>112</td>\n",
       "      <td>21</td>\n",
       "    </tr>\n",
       "    <tr>\n",
       "      <th>py</th>\n",
       "      <td>206</td>\n",
       "      <td>0</td>\n",
       "      <td>138</td>\n",
       "      <td>0</td>\n",
       "    </tr>\n",
       "    <tr>\n",
       "      <th>transformer</th>\n",
       "      <td>140</td>\n",
       "      <td>0</td>\n",
       "      <td>140</td>\n",
       "      <td>0</td>\n",
       "    </tr>\n",
       "    <tr>\n",
       "      <th>ml</th>\n",
       "      <td>211</td>\n",
       "      <td>0</td>\n",
       "      <td>147</td>\n",
       "      <td>0</td>\n",
       "    </tr>\n",
       "    <tr>\n",
       "      <th>deprecated</th>\n",
       "      <td>180</td>\n",
       "      <td>0</td>\n",
       "      <td>166</td>\n",
       "      <td>11</td>\n",
       "    </tr>\n",
       "    <tr>\n",
       "      <th>apikey</th>\n",
       "      <td>251</td>\n",
       "      <td>0</td>\n",
       "      <td>248</td>\n",
       "      <td>3</td>\n",
       "    </tr>\n",
       "    <tr>\n",
       "      <th>ethereum</th>\n",
       "      <td>82</td>\n",
       "      <td>77</td>\n",
       "      <td>3</td>\n",
       "      <td>0</td>\n",
       "    </tr>\n",
       "    <tr>\n",
       "      <th>frps</th>\n",
       "      <td>78</td>\n",
       "      <td>78</td>\n",
       "      <td>0</td>\n",
       "      <td>0</td>\n",
       "    </tr>\n",
       "    <tr>\n",
       "      <th>frpc</th>\n",
       "      <td>90</td>\n",
       "      <td>90</td>\n",
       "      <td>0</td>\n",
       "      <td>0</td>\n",
       "    </tr>\n",
       "    <tr>\n",
       "      <th>etcd</th>\n",
       "      <td>103</td>\n",
       "      <td>100</td>\n",
       "      <td>3</td>\n",
       "      <td>0</td>\n",
       "    </tr>\n",
       "    <tr>\n",
       "      <th>ini</th>\n",
       "      <td>138</td>\n",
       "      <td>136</td>\n",
       "      <td>2</td>\n",
       "      <td>0</td>\n",
       "    </tr>\n",
       "    <tr>\n",
       "      <th>golang</th>\n",
       "      <td>332</td>\n",
       "      <td>319</td>\n",
       "      <td>9</td>\n",
       "      <td>0</td>\n",
       "    </tr>\n",
       "    <tr>\n",
       "      <th>kera</th>\n",
       "      <td>124</td>\n",
       "      <td>0</td>\n",
       "      <td>108</td>\n",
       "      <td>0</td>\n",
       "    </tr>\n",
       "    <tr>\n",
       "      <th>py</th>\n",
       "      <td>206</td>\n",
       "      <td>0</td>\n",
       "      <td>138</td>\n",
       "      <td>0</td>\n",
       "    </tr>\n",
       "    <tr>\n",
       "      <th>transformer</th>\n",
       "      <td>140</td>\n",
       "      <td>0</td>\n",
       "      <td>140</td>\n",
       "      <td>0</td>\n",
       "    </tr>\n",
       "    <tr>\n",
       "      <th>neural</th>\n",
       "      <td>183</td>\n",
       "      <td>12</td>\n",
       "      <td>141</td>\n",
       "      <td>0</td>\n",
       "    </tr>\n",
       "    <tr>\n",
       "      <th>tensorflow</th>\n",
       "      <td>448</td>\n",
       "      <td>2</td>\n",
       "      <td>146</td>\n",
       "      <td>0</td>\n",
       "    </tr>\n",
       "    <tr>\n",
       "      <th>ml</th>\n",
       "      <td>211</td>\n",
       "      <td>0</td>\n",
       "      <td>147</td>\n",
       "      <td>0</td>\n",
       "    </tr>\n",
       "    <tr>\n",
       "      <th>backer</th>\n",
       "      <td>399</td>\n",
       "      <td>0</td>\n",
       "      <td>0</td>\n",
       "      <td>306</td>\n",
       "    </tr>\n",
       "    <tr>\n",
       "      <th>const</th>\n",
       "      <td>325</td>\n",
       "      <td>0</td>\n",
       "      <td>0</td>\n",
       "      <td>318</td>\n",
       "    </tr>\n",
       "    <tr>\n",
       "      <th>npm</th>\n",
       "      <td>471</td>\n",
       "      <td>0</td>\n",
       "      <td>0</td>\n",
       "      <td>365</td>\n",
       "    </tr>\n",
       "    <tr>\n",
       "      <th>sponsor</th>\n",
       "      <td>546</td>\n",
       "      <td>0</td>\n",
       "      <td>0</td>\n",
       "      <td>400</td>\n",
       "    </tr>\n",
       "    <tr>\n",
       "      <th>requireactive</th>\n",
       "      <td>524</td>\n",
       "      <td>0</td>\n",
       "      <td>0</td>\n",
       "      <td>524</td>\n",
       "    </tr>\n",
       "    <tr>\n",
       "      <th>webpack</th>\n",
       "      <td>735</td>\n",
       "      <td>0</td>\n",
       "      <td>0</td>\n",
       "      <td>720</td>\n",
       "    </tr>\n",
       "    <tr>\n",
       "      <th>struct</th>\n",
       "      <td>42</td>\n",
       "      <td>39</td>\n",
       "      <td>0</td>\n",
       "      <td>0</td>\n",
       "    </tr>\n",
       "    <tr>\n",
       "      <th>geth</th>\n",
       "      <td>43</td>\n",
       "      <td>43</td>\n",
       "      <td>0</td>\n",
       "      <td>0</td>\n",
       "    </tr>\n",
       "    <tr>\n",
       "      <th>gopher</th>\n",
       "      <td>45</td>\n",
       "      <td>45</td>\n",
       "      <td>0</td>\n",
       "      <td>0</td>\n",
       "    </tr>\n",
       "    <tr>\n",
       "      <th>lantern</th>\n",
       "      <td>46</td>\n",
       "      <td>46</td>\n",
       "      <td>0</td>\n",
       "      <td>0</td>\n",
       "    </tr>\n",
       "    <tr>\n",
       "      <th>frps</th>\n",
       "      <td>78</td>\n",
       "      <td>78</td>\n",
       "      <td>0</td>\n",
       "      <td>0</td>\n",
       "    </tr>\n",
       "    <tr>\n",
       "      <th>frpc</th>\n",
       "      <td>90</td>\n",
       "      <td>90</td>\n",
       "      <td>0</td>\n",
       "      <td>0</td>\n",
       "    </tr>\n",
       "  </tbody>\n",
       "</table>\n",
       "</div>"
      ],
      "text/plain": [
       "                 all   go  python  javascript\n",
       "npm              471    0       0         365\n",
       "sponsor          546    0       0         400\n",
       "requireactive    524    0       0         524\n",
       "webpack          735    0       0         720\n",
       "opencollective   946    0       1         740\n",
       "href            1377    0     108         780\n",
       "title            287    0     112          21\n",
       "py               206    0     138           0\n",
       "transformer      140    0     140           0\n",
       "ml               211    0     147           0\n",
       "deprecated       180    0     166          11\n",
       "apikey           251    0     248           3\n",
       "ethereum          82   77       3           0\n",
       "frps              78   78       0           0\n",
       "frpc              90   90       0           0\n",
       "etcd             103  100       3           0\n",
       "ini              138  136       2           0\n",
       "golang           332  319       9           0\n",
       "kera             124    0     108           0\n",
       "py               206    0     138           0\n",
       "transformer      140    0     140           0\n",
       "neural           183   12     141           0\n",
       "tensorflow       448    2     146           0\n",
       "ml               211    0     147           0\n",
       "backer           399    0       0         306\n",
       "const            325    0       0         318\n",
       "npm              471    0       0         365\n",
       "sponsor          546    0       0         400\n",
       "requireactive    524    0       0         524\n",
       "webpack          735    0       0         720\n",
       "struct            42   39       0           0\n",
       "geth              43   43       0           0\n",
       "gopher            45   45       0           0\n",
       "lantern           46   46       0           0\n",
       "frps              78   78       0           0\n",
       "frpc              90   90       0           0"
      ]
     },
     "execution_count": 26,
     "metadata": {},
     "output_type": "execute_result"
    }
   ],
   "source": [
    "pd.concat([word_counts[word_counts.go == 0].sort_values(by='javascript').tail(6),\n",
    "           word_counts[word_counts.go == 0].sort_values(by='python').tail(6),\n",
    "          word_counts[word_counts.javascript == 0].sort_values(by='go').tail(6),\n",
    "          word_counts[word_counts.javascript == 0].sort_values(by='python').tail(6),\n",
    "          word_counts[word_counts.python == 0].sort_values(by='javascript').tail(6),\n",
    "           word_counts[word_counts.python == 0].sort_values(by='go').tail(6)\n",
    "          ])"
   ]
  },
  {
   "cell_type": "markdown",
   "metadata": {},
   "source": [
    "- Now we're going to compare the proportions of the most popular words used against our 3 most popular programming languages"
   ]
  },
  {
   "cell_type": "code",
   "execution_count": 27,
   "metadata": {},
   "outputs": [
    {
     "data": {
      "image/png": "[encoded data removed]",
      "text/plain": [
       "<Figure size 1152x576 with 1 Axes>"
      ]
     },
     "metadata": {
      "needs_background": "light"
     },
     "output_type": "display_data"
    }
   ],
   "source": [
    "(word_counts\n",
    " .assign(Go=(word_counts.go / word_counts['all']) * 100,\n",
    "         JavaScript=(word_counts.javascript / word_counts['all']) * 100,\n",
    "        Python=(word_counts.python / word_counts['all']) * 100,\n",
    "        Other=((word_counts['all'] - (word_counts.go + word_counts.python + word_counts.javascript)) / word_counts['all']) * 100)\n",
    " .sort_values(by='all')\n",
    " [['Go', 'JavaScript', 'Python', 'Other']]\n",
    " .tail(20)\n",
    " .sort_values('Go')\n",
    " .plot.barh(stacked=True))\n",
    "\n",
    "plt.title('Proportion of JavaScript vs Go vs Python for the 20 Most Common Words Used in Readme\\'s')\n",
    "plt.ylabel('Words Used')\n",
    "plt.xlabel('% of the Time Word Used in All Observed Languages')\n",
    "plt.legend(bbox_to_anchor=(1.01, 1), loc=2, borderaxespad=0., ncol=1)\n",
    "plt.show()"
   ]
  },
  {
   "cell_type": "markdown",
   "metadata": {},
   "source": [
    "### Most used words visualized"
   ]
  },
  {
   "cell_type": "code",
   "execution_count": 28,
   "metadata": {},
   "outputs": [
    {
     "data": {
      "image/png": "[encoded data removed]",
      "text/plain": [
       "<Figure size 864x504 with 1 Axes>"
      ]
     },
     "metadata": {
      "needs_background": "light"
     },
     "output_type": "display_data"
    }
   ],
   "source": [
    "plt.figure(figsize=(12,7))\n",
    "word_counts[\"all\"].sort_values(ascending=False).head(20).plot.barh(width=.9, ec='black',\n",
    "                                                                  title='20 Most Frequent Words')\n",
    "\n",
    "plt.ylabel('Words From Readme')\n",
    "plt.xlabel('Number of Times Used')\n",
    "plt.show()\n"
   ]
  },
  {
   "cell_type": "markdown",
   "metadata": {},
   "source": [
    "---\n",
    "## Modeling"
   ]
  },
  {
   "cell_type": "code",
   "execution_count": 29,
   "metadata": {},
   "outputs": [],
   "source": [
    "# create evaluation DataFrame\n",
    "evaluation = pd.DataFrame(columns=[\"model_type\", \"train_accuracy\", \"test_accuracy\"])"
   ]
  },
  {
   "cell_type": "markdown",
   "metadata": {},
   "source": [
    "### Model #1: TF-IDF Bigrams Decision Tree"
   ]
  },
  {
   "cell_type": "code",
   "execution_count": 30,
   "metadata": {},
   "outputs": [
    {
     "data": {
      "text/html": [
       "<div>\n",
       "<style scoped>\n",
       "    .dataframe tbody tr th:only-of-type {\n",
       "        vertical-align: middle;\n",
       "    }\n",
       "\n",
       "    .dataframe tbody tr th {\n",
       "        vertical-align: top;\n",
       "    }\n",
       "\n",
       "    .dataframe thead th {\n",
       "        text-align: right;\n",
       "    }\n",
       "</style>\n",
       "<table border=\"1\" class=\"dataframe\">\n",
       "  <thead>\n",
       "    <tr style=\"text-align: right;\">\n",
       "      <th></th>\n",
       "      <th>model_type</th>\n",
       "      <th>train_accuracy</th>\n",
       "      <th>test_accuracy</th>\n",
       "    </tr>\n",
       "  </thead>\n",
       "  <tbody>\n",
       "    <tr>\n",
       "      <th>0</th>\n",
       "      <td>TF-IDF Bigrams Gini, 5</td>\n",
       "      <td>0.405556</td>\n",
       "      <td>0.5</td>\n",
       "    </tr>\n",
       "  </tbody>\n",
       "</table>\n",
       "</div>"
      ],
      "text/plain": [
       "               model_type  train_accuracy  test_accuracy\n",
       "0  TF-IDF Bigrams Gini, 5        0.405556            0.5"
      ]
     },
     "execution_count": 30,
     "metadata": {},
     "output_type": "execute_result"
    }
   ],
   "source": [
    "# create tfidf_bigrams vectorizer object\n",
    "tfidf_bigrams = TfidfVectorizer(ngram_range=(2, 2))\n",
    "\n",
    "# use tfidf_bigrams object to create model features\n",
    "X = tfidf_bigrams.fit_transform(df.clean_readme_contents)\n",
    "\n",
    "# establish model target\n",
    "y = df.language\n",
    "\n",
    "# split data\n",
    "X_train, X_test, y_train, y_test = pp.split_repo_data(X, y)\n",
    "\n",
    "# create model object\n",
    "tree = DecisionTreeClassifier(max_depth=5, random_state=56)\n",
    "\n",
    "# fit model object\n",
    "tree.fit(X_train, y_train)\n",
    "\n",
    "# append evaluation\n",
    "evaluation = ev.append_evaluation(evaluation, model_type=\"TF-IDF Bigrams Gini, 5\", model_object=tree, X_train=X_train, y_train=y_train, X_test=X_test, y_test=y_test)\n",
    "evaluation.sort_values(by=\"test_accuracy\", ascending=False)"
   ]
  },
  {
   "cell_type": "markdown",
   "metadata": {},
   "source": [
    "This more than likely luck that the model performed better on test than train. We can find a better model."
   ]
  },
  {
   "cell_type": "code",
   "execution_count": 31,
   "metadata": {},
   "outputs": [
    {
     "data": {
      "text/html": [
       "<div>\n",
       "<style scoped>\n",
       "    .dataframe tbody tr th:only-of-type {\n",
       "        vertical-align: middle;\n",
       "    }\n",
       "\n",
       "    .dataframe tbody tr th {\n",
       "        vertical-align: top;\n",
       "    }\n",
       "\n",
       "    .dataframe thead th {\n",
       "        text-align: right;\n",
       "    }\n",
       "</style>\n",
       "<table border=\"1\" class=\"dataframe\">\n",
       "  <thead>\n",
       "    <tr style=\"text-align: right;\">\n",
       "      <th></th>\n",
       "      <th>model_type</th>\n",
       "      <th>train_accuracy</th>\n",
       "      <th>test_accuracy</th>\n",
       "    </tr>\n",
       "  </thead>\n",
       "  <tbody>\n",
       "    <tr>\n",
       "      <th>0</th>\n",
       "      <td>TF-IDF Bigrams Gini, 5</td>\n",
       "      <td>0.405556</td>\n",
       "      <td>0.500000</td>\n",
       "    </tr>\n",
       "    <tr>\n",
       "      <th>1</th>\n",
       "      <td>TF-IDF Bigrams Gini, 6</td>\n",
       "      <td>0.450000</td>\n",
       "      <td>0.478261</td>\n",
       "    </tr>\n",
       "  </tbody>\n",
       "</table>\n",
       "</div>"
      ],
      "text/plain": [
       "               model_type  train_accuracy  test_accuracy\n",
       "0  TF-IDF Bigrams Gini, 5        0.405556       0.500000\n",
       "1  TF-IDF Bigrams Gini, 6        0.450000       0.478261"
      ]
     },
     "execution_count": 31,
     "metadata": {},
     "output_type": "execute_result"
    }
   ],
   "source": [
    "# create tfidf_bigrams vectorizer object\n",
    "tfidf_bigrams = TfidfVectorizer(ngram_range=(2, 2))\n",
    "\n",
    "# use tfidf_bigrams object to create model features\n",
    "X = tfidf_bigrams.fit_transform(df.clean_readme_contents)\n",
    "\n",
    "# establish model target\n",
    "y = df.language\n",
    "\n",
    "# split data\n",
    "X_train, X_test, y_train, y_test = pp.split_repo_data(X, y)\n",
    "\n",
    "# create model object\n",
    "tree = DecisionTreeClassifier(max_depth=6, random_state=56)\n",
    "\n",
    "# fit model object\n",
    "tree.fit(X_train, y_train)\n",
    "\n",
    "# append evaluation\n",
    "evaluation = ev.append_evaluation(evaluation, model_type=\"TF-IDF Bigrams Gini, 6\", model_object=tree, X_train=X_train, y_train=y_train, X_test=X_test, y_test=y_test)\n",
    "evaluation.sort_values(by=\"test_accuracy\", ascending=False)"
   ]
  },
  {
   "cell_type": "code",
   "execution_count": 32,
   "metadata": {},
   "outputs": [
    {
     "data": {
      "text/html": [
       "<div>\n",
       "<style scoped>\n",
       "    .dataframe tbody tr th:only-of-type {\n",
       "        vertical-align: middle;\n",
       "    }\n",
       "\n",
       "    .dataframe tbody tr th {\n",
       "        vertical-align: top;\n",
       "    }\n",
       "\n",
       "    .dataframe thead th {\n",
       "        text-align: right;\n",
       "    }\n",
       "</style>\n",
       "<table border=\"1\" class=\"dataframe\">\n",
       "  <thead>\n",
       "    <tr style=\"text-align: right;\">\n",
       "      <th></th>\n",
       "      <th>model_type</th>\n",
       "      <th>train_accuracy</th>\n",
       "      <th>test_accuracy</th>\n",
       "    </tr>\n",
       "  </thead>\n",
       "  <tbody>\n",
       "    <tr>\n",
       "      <th>0</th>\n",
       "      <td>TF-IDF Bigrams Gini, 5</td>\n",
       "      <td>0.405556</td>\n",
       "      <td>0.500000</td>\n",
       "    </tr>\n",
       "    <tr>\n",
       "      <th>1</th>\n",
       "      <td>TF-IDF Bigrams Gini, 6</td>\n",
       "      <td>0.450000</td>\n",
       "      <td>0.478261</td>\n",
       "    </tr>\n",
       "    <tr>\n",
       "      <th>2</th>\n",
       "      <td>TF-IDF Bigrams Entropy, 6</td>\n",
       "      <td>0.550000</td>\n",
       "      <td>0.434783</td>\n",
       "    </tr>\n",
       "  </tbody>\n",
       "</table>\n",
       "</div>"
      ],
      "text/plain": [
       "                  model_type  train_accuracy  test_accuracy\n",
       "0     TF-IDF Bigrams Gini, 5        0.405556       0.500000\n",
       "1     TF-IDF Bigrams Gini, 6        0.450000       0.478261\n",
       "2  TF-IDF Bigrams Entropy, 6        0.550000       0.434783"
      ]
     },
     "execution_count": 32,
     "metadata": {},
     "output_type": "execute_result"
    }
   ],
   "source": [
    "# create tfidf_bigrams vectorizer object\n",
    "tfidf_bigrams = TfidfVectorizer(ngram_range=(2, 2))\n",
    "\n",
    "# use tfidf_bigrams object to create model features\n",
    "X = tfidf_bigrams.fit_transform(df.clean_readme_contents)\n",
    "\n",
    "# establish model target\n",
    "y = df.language\n",
    "\n",
    "# split data\n",
    "X_train, X_test, y_train, y_test = pp.split_repo_data(X, y)\n",
    "\n",
    "# create model object\n",
    "tree = DecisionTreeClassifier(criterion=\"entropy\", max_depth=6, random_state=56)\n",
    "\n",
    "# fit model object\n",
    "tree.fit(X_train, y_train)\n",
    "\n",
    "# append evaluation\n",
    "evaluation = ev.append_evaluation(evaluation, model_type=\"TF-IDF Bigrams Entropy, 6\", model_object=tree, X_train=X_train, y_train=y_train, X_test=X_test, y_test=y_test)\n",
    "evaluation.sort_values(by=\"test_accuracy\", ascending=False)"
   ]
  },
  {
   "cell_type": "markdown",
   "metadata": {},
   "source": [
    "### Model #2: TF-IDF Logistic Regression"
   ]
  },
  {
   "cell_type": "code",
   "execution_count": 33,
   "metadata": {},
   "outputs": [
    {
     "data": {
      "text/html": [
       "<div>\n",
       "<style scoped>\n",
       "    .dataframe tbody tr th:only-of-type {\n",
       "        vertical-align: middle;\n",
       "    }\n",
       "\n",
       "    .dataframe tbody tr th {\n",
       "        vertical-align: top;\n",
       "    }\n",
       "\n",
       "    .dataframe thead th {\n",
       "        text-align: right;\n",
       "    }\n",
       "</style>\n",
       "<table border=\"1\" class=\"dataframe\">\n",
       "  <thead>\n",
       "    <tr style=\"text-align: right;\">\n",
       "      <th></th>\n",
       "      <th>model_type</th>\n",
       "      <th>train_accuracy</th>\n",
       "      <th>test_accuracy</th>\n",
       "    </tr>\n",
       "  </thead>\n",
       "  <tbody>\n",
       "    <tr>\n",
       "      <th>0</th>\n",
       "      <td>TF-IDF Bigrams Gini, 5</td>\n",
       "      <td>0.405556</td>\n",
       "      <td>0.500000</td>\n",
       "    </tr>\n",
       "    <tr>\n",
       "      <th>1</th>\n",
       "      <td>TF-IDF Bigrams Gini, 6</td>\n",
       "      <td>0.450000</td>\n",
       "      <td>0.478261</td>\n",
       "    </tr>\n",
       "    <tr>\n",
       "      <th>3</th>\n",
       "      <td>TF-IDF Logistic Regression</td>\n",
       "      <td>0.605556</td>\n",
       "      <td>0.456522</td>\n",
       "    </tr>\n",
       "    <tr>\n",
       "      <th>2</th>\n",
       "      <td>TF-IDF Bigrams Entropy, 6</td>\n",
       "      <td>0.550000</td>\n",
       "      <td>0.434783</td>\n",
       "    </tr>\n",
       "  </tbody>\n",
       "</table>\n",
       "</div>"
      ],
      "text/plain": [
       "                   model_type  train_accuracy  test_accuracy\n",
       "0      TF-IDF Bigrams Gini, 5        0.405556       0.500000\n",
       "1      TF-IDF Bigrams Gini, 6        0.450000       0.478261\n",
       "3  TF-IDF Logistic Regression        0.605556       0.456522\n",
       "2   TF-IDF Bigrams Entropy, 6        0.550000       0.434783"
      ]
     },
     "execution_count": 33,
     "metadata": {},
     "output_type": "execute_result"
    }
   ],
   "source": [
    "# create tfidf vectorizer object\n",
    "tfidf = TfidfVectorizer()\n",
    "\n",
    "# use tfidf object to create model features\n",
    "X = tfidf.fit_transform(df.clean_readme_contents)\n",
    "\n",
    "# establish model target\n",
    "y = df.language\n",
    "\n",
    "# split data\n",
    "X_train, X_test, y_train, y_test = pp.split_repo_data(X, y)\n",
    "\n",
    "# create model object\n",
    "logit = LogisticRegression(random_state=56)\n",
    "\n",
    "# fit model object\n",
    "logit.fit(X_train, y_train)\n",
    "\n",
    "# append evaluation\n",
    "evaluation = ev.append_evaluation(evaluation, model_type=\"TF-IDF Logistic Regression\", model_object=logit, X_train=X_train, y_train=y_train, X_test=X_test, y_test=y_test)\n",
    "evaluation.sort_values(by=\"test_accuracy\", ascending=False)"
   ]
  },
  {
   "cell_type": "markdown",
   "metadata": {},
   "source": [
    "### Model #3: TF-IDF Naïve Bayes"
   ]
  },
  {
   "cell_type": "code",
   "execution_count": 34,
   "metadata": {},
   "outputs": [
    {
     "data": {
      "text/html": [
       "<div>\n",
       "<style scoped>\n",
       "    .dataframe tbody tr th:only-of-type {\n",
       "        vertical-align: middle;\n",
       "    }\n",
       "\n",
       "    .dataframe tbody tr th {\n",
       "        vertical-align: top;\n",
       "    }\n",
       "\n",
       "    .dataframe thead th {\n",
       "        text-align: right;\n",
       "    }\n",
       "</style>\n",
       "<table border=\"1\" class=\"dataframe\">\n",
       "  <thead>\n",
       "    <tr style=\"text-align: right;\">\n",
       "      <th></th>\n",
       "      <th>model_type</th>\n",
       "      <th>train_accuracy</th>\n",
       "      <th>test_accuracy</th>\n",
       "    </tr>\n",
       "  </thead>\n",
       "  <tbody>\n",
       "    <tr>\n",
       "      <th>0</th>\n",
       "      <td>TF-IDF Bigrams Gini, 5</td>\n",
       "      <td>0.405556</td>\n",
       "      <td>0.500000</td>\n",
       "    </tr>\n",
       "    <tr>\n",
       "      <th>1</th>\n",
       "      <td>TF-IDF Bigrams Gini, 6</td>\n",
       "      <td>0.450000</td>\n",
       "      <td>0.478261</td>\n",
       "    </tr>\n",
       "    <tr>\n",
       "      <th>3</th>\n",
       "      <td>TF-IDF Logistic Regression</td>\n",
       "      <td>0.605556</td>\n",
       "      <td>0.456522</td>\n",
       "    </tr>\n",
       "    <tr>\n",
       "      <th>2</th>\n",
       "      <td>TF-IDF Bigrams Entropy, 6</td>\n",
       "      <td>0.550000</td>\n",
       "      <td>0.434783</td>\n",
       "    </tr>\n",
       "    <tr>\n",
       "      <th>4</th>\n",
       "      <td>TF-IDF Naïve Bayes</td>\n",
       "      <td>0.450000</td>\n",
       "      <td>0.413043</td>\n",
       "    </tr>\n",
       "  </tbody>\n",
       "</table>\n",
       "</div>"
      ],
      "text/plain": [
       "                   model_type  train_accuracy  test_accuracy\n",
       "0      TF-IDF Bigrams Gini, 5        0.405556       0.500000\n",
       "1      TF-IDF Bigrams Gini, 6        0.450000       0.478261\n",
       "3  TF-IDF Logistic Regression        0.605556       0.456522\n",
       "2   TF-IDF Bigrams Entropy, 6        0.550000       0.434783\n",
       "4          TF-IDF Naïve Bayes        0.450000       0.413043"
      ]
     },
     "execution_count": 34,
     "metadata": {},
     "output_type": "execute_result"
    }
   ],
   "source": [
    "# create tfidf vectorizer object\n",
    "tfidf = TfidfVectorizer()\n",
    "\n",
    "# use tfidf object to create model features\n",
    "X = tfidf.fit_transform(df.clean_readme_contents)\n",
    "\n",
    "# establish model target\n",
    "y = df.language\n",
    "\n",
    "# split data\n",
    "X_train, X_test, y_train, y_test = pp.split_repo_data(X, y)\n",
    "\n",
    "# create model object\n",
    "nb = MultinomialNB()\n",
    "\n",
    "# fit model object\n",
    "nb.fit(X_train, y_train)\n",
    "\n",
    "# append evaluation\n",
    "evaluation = ev.append_evaluation(evaluation, model_type=\"TF-IDF Naïve Bayes\", model_object=nb, X_train=X_train, y_train=y_train, X_test=X_test, y_test=y_test)\n",
    "evaluation.sort_values(by=\"test_accuracy\", ascending=False)"
   ]
  },
  {
   "cell_type": "code",
   "execution_count": 35,
   "metadata": {},
   "outputs": [
    {
     "data": {
      "text/html": [
       "<div>\n",
       "<style scoped>\n",
       "    .dataframe tbody tr th:only-of-type {\n",
       "        vertical-align: middle;\n",
       "    }\n",
       "\n",
       "    .dataframe tbody tr th {\n",
       "        vertical-align: top;\n",
       "    }\n",
       "\n",
       "    .dataframe thead th {\n",
       "        text-align: right;\n",
       "    }\n",
       "</style>\n",
       "<table border=\"1\" class=\"dataframe\">\n",
       "  <thead>\n",
       "    <tr style=\"text-align: right;\">\n",
       "      <th></th>\n",
       "      <th>model_type</th>\n",
       "      <th>train_accuracy</th>\n",
       "      <th>test_accuracy</th>\n",
       "    </tr>\n",
       "  </thead>\n",
       "  <tbody>\n",
       "    <tr>\n",
       "      <th>0</th>\n",
       "      <td>TF-IDF Bigrams Gini, 5</td>\n",
       "      <td>0.405556</td>\n",
       "      <td>0.500000</td>\n",
       "    </tr>\n",
       "    <tr>\n",
       "      <th>1</th>\n",
       "      <td>TF-IDF Bigrams Gini, 6</td>\n",
       "      <td>0.450000</td>\n",
       "      <td>0.478261</td>\n",
       "    </tr>\n",
       "    <tr>\n",
       "      <th>3</th>\n",
       "      <td>TF-IDF Logistic Regression</td>\n",
       "      <td>0.605556</td>\n",
       "      <td>0.456522</td>\n",
       "    </tr>\n",
       "    <tr>\n",
       "      <th>2</th>\n",
       "      <td>TF-IDF Bigrams Entropy, 6</td>\n",
       "      <td>0.550000</td>\n",
       "      <td>0.434783</td>\n",
       "    </tr>\n",
       "    <tr>\n",
       "      <th>4</th>\n",
       "      <td>TF-IDF Naïve Bayes</td>\n",
       "      <td>0.450000</td>\n",
       "      <td>0.413043</td>\n",
       "    </tr>\n",
       "    <tr>\n",
       "      <th>5</th>\n",
       "      <td>TF-IDF Bigrams Entropy, 10</td>\n",
       "      <td>0.805556</td>\n",
       "      <td>0.369565</td>\n",
       "    </tr>\n",
       "  </tbody>\n",
       "</table>\n",
       "</div>"
      ],
      "text/plain": [
       "                   model_type  train_accuracy  test_accuracy\n",
       "0      TF-IDF Bigrams Gini, 5        0.405556       0.500000\n",
       "1      TF-IDF Bigrams Gini, 6        0.450000       0.478261\n",
       "3  TF-IDF Logistic Regression        0.605556       0.456522\n",
       "2   TF-IDF Bigrams Entropy, 6        0.550000       0.434783\n",
       "4          TF-IDF Naïve Bayes        0.450000       0.413043\n",
       "5  TF-IDF Bigrams Entropy, 10        0.805556       0.369565"
      ]
     },
     "execution_count": 35,
     "metadata": {},
     "output_type": "execute_result"
    }
   ],
   "source": [
    "# create tfidf_bigrams vectorizer object\n",
    "tfidf_bigrams = TfidfVectorizer(ngram_range=(2, 2))\n",
    "\n",
    "# use tfidf_bigrams object to create model features\n",
    "X = tfidf_bigrams.fit_transform(df.clean_readme_contents)\n",
    "\n",
    "# establish model target\n",
    "y = df.language\n",
    "\n",
    "# split data\n",
    "X_train, X_test, y_train, y_test = pp.split_repo_data(X, y)\n",
    "\n",
    "# create model object\n",
    "tree = DecisionTreeClassifier(criterion=\"entropy\", max_depth=10, random_state=56)\n",
    "\n",
    "# fit model object\n",
    "tree.fit(X_train, y_train)\n",
    "\n",
    "# append evaluation\n",
    "evaluation = ev.append_evaluation(evaluation, model_type=\"TF-IDF Bigrams Entropy, 10\", model_object=tree, X_train=X_train, y_train=y_train, X_test=X_test, y_test=y_test)\n",
    "evaluation.sort_values(by=\"test_accuracy\", ascending=False)"
   ]
  },
  {
   "cell_type": "code",
   "execution_count": 36,
   "metadata": {},
   "outputs": [
    {
     "data": {
      "text/html": [
       "<div>\n",
       "<style scoped>\n",
       "    .dataframe tbody tr th:only-of-type {\n",
       "        vertical-align: middle;\n",
       "    }\n",
       "\n",
       "    .dataframe tbody tr th {\n",
       "        vertical-align: top;\n",
       "    }\n",
       "\n",
       "    .dataframe thead th {\n",
       "        text-align: right;\n",
       "    }\n",
       "</style>\n",
       "<table border=\"1\" class=\"dataframe\">\n",
       "  <thead>\n",
       "    <tr style=\"text-align: right;\">\n",
       "      <th></th>\n",
       "      <th>model_type</th>\n",
       "      <th>train_accuracy</th>\n",
       "      <th>test_accuracy</th>\n",
       "    </tr>\n",
       "  </thead>\n",
       "  <tbody>\n",
       "    <tr>\n",
       "      <th>0</th>\n",
       "      <td>TF-IDF Bigrams Gini, 5</td>\n",
       "      <td>0.405556</td>\n",
       "      <td>0.500000</td>\n",
       "    </tr>\n",
       "    <tr>\n",
       "      <th>1</th>\n",
       "      <td>TF-IDF Bigrams Gini, 6</td>\n",
       "      <td>0.450000</td>\n",
       "      <td>0.478261</td>\n",
       "    </tr>\n",
       "    <tr>\n",
       "      <th>3</th>\n",
       "      <td>TF-IDF Logistic Regression</td>\n",
       "      <td>0.605556</td>\n",
       "      <td>0.456522</td>\n",
       "    </tr>\n",
       "    <tr>\n",
       "      <th>2</th>\n",
       "      <td>TF-IDF Bigrams Entropy, 6</td>\n",
       "      <td>0.550000</td>\n",
       "      <td>0.434783</td>\n",
       "    </tr>\n",
       "    <tr>\n",
       "      <th>6</th>\n",
       "      <td>TF-IDF Bigrams Entropy</td>\n",
       "      <td>1.000000</td>\n",
       "      <td>0.434783</td>\n",
       "    </tr>\n",
       "    <tr>\n",
       "      <th>4</th>\n",
       "      <td>TF-IDF Naïve Bayes</td>\n",
       "      <td>0.450000</td>\n",
       "      <td>0.413043</td>\n",
       "    </tr>\n",
       "    <tr>\n",
       "      <th>5</th>\n",
       "      <td>TF-IDF Bigrams Entropy, 10</td>\n",
       "      <td>0.805556</td>\n",
       "      <td>0.369565</td>\n",
       "    </tr>\n",
       "  </tbody>\n",
       "</table>\n",
       "</div>"
      ],
      "text/plain": [
       "                   model_type  train_accuracy  test_accuracy\n",
       "0      TF-IDF Bigrams Gini, 5        0.405556       0.500000\n",
       "1      TF-IDF Bigrams Gini, 6        0.450000       0.478261\n",
       "3  TF-IDF Logistic Regression        0.605556       0.456522\n",
       "2   TF-IDF Bigrams Entropy, 6        0.550000       0.434783\n",
       "6      TF-IDF Bigrams Entropy        1.000000       0.434783\n",
       "4          TF-IDF Naïve Bayes        0.450000       0.413043\n",
       "5  TF-IDF Bigrams Entropy, 10        0.805556       0.369565"
      ]
     },
     "execution_count": 36,
     "metadata": {},
     "output_type": "execute_result"
    }
   ],
   "source": [
    "# create tfidf_bigrams vectorizer object\n",
    "tfidf_bigrams = TfidfVectorizer(ngram_range=(2, 2))\n",
    "\n",
    "# use tfidf_bigrams object to create model features\n",
    "X = tfidf_bigrams.fit_transform(df.clean_readme_contents)\n",
    "\n",
    "# establish model target\n",
    "y = df.language\n",
    "\n",
    "# split data\n",
    "X_train, X_test, y_train, y_test = pp.split_repo_data(X, y)\n",
    "\n",
    "# create model object\n",
    "tree = DecisionTreeClassifier(criterion=\"entropy\", random_state=56)\n",
    "\n",
    "# fit model object\n",
    "tree.fit(X_train, y_train)\n",
    "\n",
    "# append evaluation\n",
    "evaluation = ev.append_evaluation(evaluation, model_type=\"TF-IDF Bigrams Entropy\", model_object=tree, X_train=X_train, y_train=y_train, X_test=X_test, y_test=y_test)\n",
    "evaluation.sort_values(by=\"test_accuracy\", ascending=False)"
   ]
  },
  {
   "cell_type": "code",
   "execution_count": 37,
   "metadata": {},
   "outputs": [
    {
     "data": {
      "text/html": [
       "<div>\n",
       "<style scoped>\n",
       "    .dataframe tbody tr th:only-of-type {\n",
       "        vertical-align: middle;\n",
       "    }\n",
       "\n",
       "    .dataframe tbody tr th {\n",
       "        vertical-align: top;\n",
       "    }\n",
       "\n",
       "    .dataframe thead th {\n",
       "        text-align: right;\n",
       "    }\n",
       "</style>\n",
       "<table border=\"1\" class=\"dataframe\">\n",
       "  <thead>\n",
       "    <tr style=\"text-align: right;\">\n",
       "      <th></th>\n",
       "      <th>model_type</th>\n",
       "      <th>train_accuracy</th>\n",
       "      <th>test_accuracy</th>\n",
       "    </tr>\n",
       "  </thead>\n",
       "  <tbody>\n",
       "    <tr>\n",
       "      <th>0</th>\n",
       "      <td>TF-IDF Bigrams Gini, 5</td>\n",
       "      <td>0.405556</td>\n",
       "      <td>0.500000</td>\n",
       "    </tr>\n",
       "    <tr>\n",
       "      <th>1</th>\n",
       "      <td>TF-IDF Bigrams Gini, 6</td>\n",
       "      <td>0.450000</td>\n",
       "      <td>0.478261</td>\n",
       "    </tr>\n",
       "    <tr>\n",
       "      <th>7</th>\n",
       "      <td>TF-IDF Unigrams &amp; Bigrams Entropy, 15</td>\n",
       "      <td>1.000000</td>\n",
       "      <td>0.478261</td>\n",
       "    </tr>\n",
       "    <tr>\n",
       "      <th>3</th>\n",
       "      <td>TF-IDF Logistic Regression</td>\n",
       "      <td>0.605556</td>\n",
       "      <td>0.456522</td>\n",
       "    </tr>\n",
       "    <tr>\n",
       "      <th>2</th>\n",
       "      <td>TF-IDF Bigrams Entropy, 6</td>\n",
       "      <td>0.550000</td>\n",
       "      <td>0.434783</td>\n",
       "    </tr>\n",
       "    <tr>\n",
       "      <th>6</th>\n",
       "      <td>TF-IDF Bigrams Entropy</td>\n",
       "      <td>1.000000</td>\n",
       "      <td>0.434783</td>\n",
       "    </tr>\n",
       "    <tr>\n",
       "      <th>4</th>\n",
       "      <td>TF-IDF Naïve Bayes</td>\n",
       "      <td>0.450000</td>\n",
       "      <td>0.413043</td>\n",
       "    </tr>\n",
       "    <tr>\n",
       "      <th>5</th>\n",
       "      <td>TF-IDF Bigrams Entropy, 10</td>\n",
       "      <td>0.805556</td>\n",
       "      <td>0.369565</td>\n",
       "    </tr>\n",
       "  </tbody>\n",
       "</table>\n",
       "</div>"
      ],
      "text/plain": [
       "                              model_type  train_accuracy  test_accuracy\n",
       "0                 TF-IDF Bigrams Gini, 5        0.405556       0.500000\n",
       "1                 TF-IDF Bigrams Gini, 6        0.450000       0.478261\n",
       "7  TF-IDF Unigrams & Bigrams Entropy, 15        1.000000       0.478261\n",
       "3             TF-IDF Logistic Regression        0.605556       0.456522\n",
       "2              TF-IDF Bigrams Entropy, 6        0.550000       0.434783\n",
       "6                 TF-IDF Bigrams Entropy        1.000000       0.434783\n",
       "4                     TF-IDF Naïve Bayes        0.450000       0.413043\n",
       "5             TF-IDF Bigrams Entropy, 10        0.805556       0.369565"
      ]
     },
     "execution_count": 37,
     "metadata": {},
     "output_type": "execute_result"
    }
   ],
   "source": [
    "# create tfidf_bigrams vectorizer object\n",
    "tfidf_bigrams = TfidfVectorizer(ngram_range=(1, 2))\n",
    "\n",
    "# use tfidf_bigrams object to create model features\n",
    "X = tfidf_bigrams.fit_transform(df.clean_readme_contents)\n",
    "\n",
    "# establish model target\n",
    "y = df.language\n",
    "\n",
    "# split data\n",
    "X_train, X_test, y_train, y_test = pp.split_repo_data(X, y)\n",
    "\n",
    "# create model object\n",
    "tree = DecisionTreeClassifier(criterion=\"entropy\", max_depth=15, random_state=56)\n",
    "\n",
    "# fit model object\n",
    "tree.fit(X_train, y_train)\n",
    "\n",
    "# append evaluation\n",
    "evaluation = ev.append_evaluation(evaluation, model_type=\"TF-IDF Unigrams & Bigrams Entropy, 15\", model_object=tree, X_train=X_train, y_train=y_train, X_test=X_test, y_test=y_test)\n",
    "evaluation.sort_values(by=\"test_accuracy\", ascending=False)"
   ]
  },
  {
   "cell_type": "markdown",
   "metadata": {},
   "source": [
    "---\n",
    "## Conclusions\n",
    "1. The Go, Python, and JavaScript communities value documentation more than any other programming language communities.\n",
    "1. Some words can uniquely identify or be used to predict a programming language.\n",
    "1. When it comes to quantifying language, there's lots of room for improvement."
   ]
  }
 ],
 "metadata": {
  "kernelspec": {
   "display_name": "Python 3",
   "language": "python",
   "name": "python3"
  },
  "language_info": {
   "codemirror_mode": {
    "name": "ipython",
    "version": 3
   },
   "file_extension": ".py",
   "mimetype": "text/x-python",
   "name": "python",
   "nbconvert_exporter": "python",
   "pygments_lexer": "ipython3",
   "version": "3.7.4"
  },
  "toc": {
   "base_numbering": 1,
   "nav_menu": {},
   "number_sections": true,
   "sideBar": true,
   "skip_h1_title": false,
   "title_cell": "Table of Contents",
   "title_sidebar": "Contents",
   "toc_cell": false,
   "toc_position": {},
   "toc_section_display": true,
   "toc_window_display": false
  }
 },
 "nbformat": 4,
 "nbformat_minor": 4
}
