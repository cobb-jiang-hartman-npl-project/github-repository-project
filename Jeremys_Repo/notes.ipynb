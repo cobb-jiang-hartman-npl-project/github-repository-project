{
 "cells": [
  {
   "cell_type": "code",
   "execution_count": 103,
   "metadata": {},
   "outputs": [
    {
     "name": "stdout",
     "output_type": "stream",
     "text": [
      "The autoreload extension is already loaded. To reload it, use:\n",
      "  %reload_ext autoreload\n"
     ]
    }
   ],
   "source": [
    "%matplotlib inline\n",
    "%load_ext autoreload\n",
    "%autoreload 2\n",
    "import pandas as pd \n",
    "import numpy as np\n",
    "import matplotlib.pyplot as plt\n",
    "import seaborn as sns\n",
    "\n",
    "import re\n",
    "from pprint import pprint\n",
    "\n",
    "# scraping modules\n",
    "from requests import get\n",
    "from bs4 import BeautifulSoup\n",
    "\n",
    "import unicodedata\n",
    "import re\n",
    "import json\n",
    "\n",
    "from wordcloud import WordCloud\n",
    "\n",
    "import nltk\n",
    "from nltk.tokenize.toktok import ToktokTokenizer\n",
    "from nltk.corpus import stopwords\n",
    "from sklearn.feature_extraction.text import CountVectorizer\n",
    "from sklearn.feature_extraction.text import TfidfVectorizer\n",
    "\n",
    "import warnings\n",
    "warnings.filterwarnings(\"ignore\")\n",
    "\n",
    "import acquire"
   ]
  },
  {
   "cell_type": "code",
   "execution_count": null,
   "metadata": {},
   "outputs": [],
   "source": [
    "plt.rc('figure', figsize=(16,8))\n",
    "plt.rc('font', size=14)\n",
    "plt.style.use('seaborn-darkgrid')"
   ]
  },
  {
   "cell_type": "code",
   "execution_count": 33,
   "metadata": {},
   "outputs": [],
   "source": [
    "df = acquire.scrape_github_data()"
   ]
  },
  {
   "cell_type": "code",
   "execution_count": 34,
   "metadata": {},
   "outputs": [],
   "source": [
    "df = pd.DataFrame(df)"
   ]
  },
  {
   "cell_type": "code",
   "execution_count": 35,
   "metadata": {},
   "outputs": [
    {
     "name": "stdout",
     "output_type": "stream",
     "text": [
      "<class 'pandas.core.frame.DataFrame'>\n",
      "RangeIndex: 3 entries, 0 to 2\n",
      "Data columns (total 3 columns):\n",
      "repo               3 non-null object\n",
      "language           3 non-null object\n",
      "readme_contents    3 non-null object\n",
      "dtypes: object(3)\n",
      "memory usage: 200.0+ bytes\n"
     ]
    }
   ],
   "source": [
    "df.info()"
   ]
  },
  {
   "cell_type": "code",
   "execution_count": 36,
   "metadata": {},
   "outputs": [
    {
     "data": {
      "text/html": [
       "<div>\n",
       "<style scoped>\n",
       "    .dataframe tbody tr th:only-of-type {\n",
       "        vertical-align: middle;\n",
       "    }\n",
       "\n",
       "    .dataframe tbody tr th {\n",
       "        vertical-align: top;\n",
       "    }\n",
       "\n",
       "    .dataframe thead th {\n",
       "        text-align: right;\n",
       "    }\n",
       "</style>\n",
       "<table border=\"1\" class=\"dataframe\">\n",
       "  <thead>\n",
       "    <tr style=\"text-align: right;\">\n",
       "      <th></th>\n",
       "      <th>repo</th>\n",
       "      <th>language</th>\n",
       "      <th>readme_contents</th>\n",
       "    </tr>\n",
       "  </thead>\n",
       "  <tbody>\n",
       "    <tr>\n",
       "      <th>0</th>\n",
       "      <td>gocodeup/codeup-setup-script</td>\n",
       "      <td>Shell</td>\n",
       "      <td># Codeup Setup Script\\n\\nSetup script for Code...</td>\n",
       "    </tr>\n",
       "    <tr>\n",
       "      <th>1</th>\n",
       "      <td>gocodeup/movies-application</td>\n",
       "      <td>JavaScript</td>\n",
       "      <td># Movies Application\\n\\nFor this project, we w...</td>\n",
       "    </tr>\n",
       "    <tr>\n",
       "      <th>2</th>\n",
       "      <td>torvalds/linux</td>\n",
       "      <td>C</td>\n",
       "      <td>Linux kernel\\n============\\n\\nThere are severa...</td>\n",
       "    </tr>\n",
       "  </tbody>\n",
       "</table>\n",
       "</div>"
      ],
      "text/plain": [
       "                           repo    language  \\\n",
       "0  gocodeup/codeup-setup-script       Shell   \n",
       "1   gocodeup/movies-application  JavaScript   \n",
       "2                torvalds/linux           C   \n",
       "\n",
       "                                     readme_contents  \n",
       "0  # Codeup Setup Script\\n\\nSetup script for Code...  \n",
       "1  # Movies Application\\n\\nFor this project, we w...  \n",
       "2  Linux kernel\\n============\\n\\nThere are severa...  "
      ]
     },
     "execution_count": 36,
     "metadata": {},
     "output_type": "execute_result"
    }
   ],
   "source": [
    "df.head()"
   ]
  },
  {
   "cell_type": "markdown",
   "metadata": {},
   "source": [
    "## Distribution of languages used"
   ]
  },
  {
   "cell_type": "code",
   "execution_count": 51,
   "metadata": {},
   "outputs": [],
   "source": [
    "df_lang_count = pd.DataFrame(df.language.value_counts())"
   ]
  },
  {
   "cell_type": "code",
   "execution_count": 53,
   "metadata": {},
   "outputs": [
    {
     "data": {
      "text/html": [
       "<div>\n",
       "<style scoped>\n",
       "    .dataframe tbody tr th:only-of-type {\n",
       "        vertical-align: middle;\n",
       "    }\n",
       "\n",
       "    .dataframe tbody tr th {\n",
       "        vertical-align: top;\n",
       "    }\n",
       "\n",
       "    .dataframe thead th {\n",
       "        text-align: right;\n",
       "    }\n",
       "</style>\n",
       "<table border=\"1\" class=\"dataframe\">\n",
       "  <thead>\n",
       "    <tr style=\"text-align: right;\">\n",
       "      <th></th>\n",
       "      <th>language</th>\n",
       "    </tr>\n",
       "  </thead>\n",
       "  <tbody>\n",
       "    <tr>\n",
       "      <th>C</th>\n",
       "      <td>1</td>\n",
       "    </tr>\n",
       "    <tr>\n",
       "      <th>JavaScript</th>\n",
       "      <td>1</td>\n",
       "    </tr>\n",
       "    <tr>\n",
       "      <th>Shell</th>\n",
       "      <td>1</td>\n",
       "    </tr>\n",
       "  </tbody>\n",
       "</table>\n",
       "</div>"
      ],
      "text/plain": [
       "            language\n",
       "C                  1\n",
       "JavaScript         1\n",
       "Shell              1"
      ]
     },
     "execution_count": 53,
     "metadata": {},
     "output_type": "execute_result"
    }
   ],
   "source": [
    "df_lang_count"
   ]
  },
  {
   "cell_type": "code",
   "execution_count": 57,
   "metadata": {},
   "outputs": [
    {
     "data": {
      "text/plain": [
       "<matplotlib.axes._subplots.AxesSubplot at 0x12baf5510>"
      ]
     },
     "execution_count": 57,
     "metadata": {},
     "output_type": "execute_result"
    },
    {
     "data": {
      "image/png": "[encoded data removed]",
      "text/plain": [
       "<Figure size 1224x576 with 1 Axes>"
      ]
     },
     "metadata": {
      "needs_background": "light"
     },
     "output_type": "display_data"
    }
   ],
   "source": [
    "plt.figure(figsize=(17,8))\n",
    "x = df_lang_count.index\n",
    "y = df_lang_count.language\n",
    "sns.scatterplot(data=df_lang_count, x=x, y=y)"
   ]
  },
  {
   "cell_type": "code",
   "execution_count": 58,
   "metadata": {},
   "outputs": [
    {
     "data": {
      "text/plain": [
       "<matplotlib.axes._subplots.AxesSubplot at 0x12dc672d0>"
      ]
     },
     "execution_count": 58,
     "metadata": {},
     "output_type": "execute_result"
    },
    {
     "data": {
      "image/png": "[encoded data removed]",
      "text/plain": [
       "<Figure size 1224x576 with 1 Axes>"
      ]
     },
     "metadata": {
      "needs_background": "light"
     },
     "output_type": "display_data"
    }
   ],
   "source": [
    "plt.figure(figsize=(17,8))\n",
    "x = df_lang_count.index\n",
    "y = df_lang_count.language\n",
    "sns.boxplot(data=df_lang_count, x=x, y=y)"
   ]
  },
  {
   "cell_type": "markdown",
   "metadata": {},
   "source": [
    "## exploring words used"
   ]
  },
  {
   "cell_type": "code",
   "execution_count": 62,
   "metadata": {},
   "outputs": [],
   "source": [
    "def clean(text: str) -> list:\n",
    "    'A simple function to cleanup text data'\n",
    "    wnl = nltk.stem.WordNetLemmatizer()\n",
    "    stopwords = nltk.corpus.stopwords.words('english')\n",
    "    text = (text.encode('ascii', 'ignore')\n",
    "             .decode('utf-8', 'ignore')\n",
    "             .lower())\n",
    "    words = re.sub(r'[^\\w\\s]', '', text).split() # tokenization\n",
    "    return [wnl.lemmatize(word) for word in words if word not in stopwords]"
   ]
  },
  {
   "cell_type": "code",
   "execution_count": 64,
   "metadata": {},
   "outputs": [],
   "source": [
    "df_clean = clean(' '.join(df.readme_contents))"
   ]
  },
  {
   "cell_type": "code",
   "execution_count": 67,
   "metadata": {
    "scrolled": true
   },
   "outputs": [
    {
     "data": {
      "text/plain": [
       "['codeup',\n",
       " 'setup',\n",
       " 'script',\n",
       " 'setup',\n",
       " 'script',\n",
       " 'codeup',\n",
       " 'student',\n",
       " 'laptop',\n",
       " 'install',\n",
       " 'tool',\n",
       " 'need',\n",
       " 'java',\n",
       " 'course',\n",
       " 'install',\n",
       " 'following',\n",
       " 'xcodehttpsdeveloperapplecomxcodefeatures',\n",
       " 'command',\n",
       " 'line',\n",
       " 'tool',\n",
       " 'mac',\n",
       " 'brewhttpbrewsh',\n",
       " 'package',\n",
       " 'manager',\n",
       " 'mac',\n",
       " 'javahttpsenwikipediaorgwikijava_programming_language',\n",
       " 'tomcathttptomcatapacheorg',\n",
       " 'java',\n",
       " 'webserver',\n",
       " 'mavenhttpsmavenapacheorg',\n",
       " 'java',\n",
       " 'dependency',\n",
       " 'build',\n",
       " 'management',\n",
       " 'tool',\n",
       " 'mysqlhttpswwwmysqlcom',\n",
       " 'database',\n",
       " 'well',\n",
       " 'use',\n",
       " 'class',\n",
       " 'node',\n",
       " 'jshttpsnodejsorgen',\n",
       " 'javascript',\n",
       " 'runtime',\n",
       " 'outside',\n",
       " 'browser',\n",
       " 'npmhttpswwwnpmjscom',\n",
       " 'package',\n",
       " 'manager',\n",
       " 'javascript',\n",
       " 'addition',\n",
       " 'setup',\n",
       " 'ssh',\n",
       " 'key',\n",
       " 'student',\n",
       " 'laptop',\n",
       " 'guide',\n",
       " 'process',\n",
       " 'linking',\n",
       " 'ssh',\n",
       " 'key',\n",
       " 'github',\n",
       " 'account',\n",
       " 'setup',\n",
       " 'global',\n",
       " 'gitignore',\n",
       " 'file',\n",
       " 'set',\n",
       " 'default',\n",
       " 'commit',\n",
       " 'editor',\n",
       " 'nano',\n",
       " 'already',\n",
       " 'set',\n",
       " 'student',\n",
       " 'copy',\n",
       " 'paste',\n",
       " 'following',\n",
       " 'terminal',\n",
       " 'bash',\n",
       " 'c',\n",
       " 'curl',\n",
       " 's',\n",
       " 'httpsrawgithubusercontentcomgocodeupcodeupsetupscriptmasterinstallsh',\n",
       " 'note',\n",
       " 'instructor',\n",
       " 'student',\n",
       " 'already',\n",
       " 'id_rsa',\n",
       " 'ssh',\n",
       " 'key',\n",
       " 'generated',\n",
       " 'script',\n",
       " 'try',\n",
       " 'generate',\n",
       " 'new',\n",
       " 'one',\n",
       " 'need',\n",
       " 'walk',\n",
       " 'process',\n",
       " 'adding',\n",
       " 'existing',\n",
       " 'key',\n",
       " 'github',\n",
       " 'following',\n",
       " 'trick',\n",
       " 'already',\n",
       " 'ssh',\n",
       " 'key',\n",
       " 'pair',\n",
       " 'wired',\n",
       " 'github',\n",
       " 'bash',\n",
       " 'pbcopy',\n",
       " 'sshid_rsapub',\n",
       " 'open',\n",
       " 'httpsgithubcomsettingsssh',\n",
       " 'movie',\n",
       " 'application',\n",
       " 'project',\n",
       " 'building',\n",
       " 'single',\n",
       " 'page',\n",
       " 'movie',\n",
       " 'application',\n",
       " 'spa',\n",
       " 'allow',\n",
       " 'user',\n",
       " 'add',\n",
       " 'edit',\n",
       " 'delete',\n",
       " 'movie',\n",
       " 'well',\n",
       " 'rate',\n",
       " 'using',\n",
       " 'jsonserverhttpsgithubcomtypicodejsonserver',\n",
       " 'mock',\n",
       " 'database',\n",
       " 'backend',\n",
       " 'worry',\n",
       " 'front',\n",
       " 'end',\n",
       " 'ajax',\n",
       " 'request',\n",
       " 'webpack',\n",
       " 'dev',\n",
       " 'server',\n",
       " 'configured',\n",
       " 'watch',\n",
       " 'change',\n",
       " 'javascript',\n",
       " 'source',\n",
       " 'well',\n",
       " 'public',\n",
       " 'directory',\n",
       " 'whenever',\n",
       " 'change',\n",
       " 'detected',\n",
       " 'page',\n",
       " 'reloaded',\n",
       " 'also',\n",
       " 'proxy',\n",
       " 'request',\n",
       " 'start',\n",
       " 'api',\n",
       " 'localhost3000',\n",
       " 'jsonserver',\n",
       " 'configured',\n",
       " 'run',\n",
       " 'jsonserver',\n",
       " 'configured',\n",
       " 'delay',\n",
       " '12',\n",
       " 'second',\n",
       " 'see',\n",
       " 'application',\n",
       " 'might',\n",
       " 'actually',\n",
       " 'look',\n",
       " 'like',\n",
       " 'instead',\n",
       " 'serving',\n",
       " 'instantaneous',\n",
       " 'reponses',\n",
       " 'modify',\n",
       " 'behavior',\n",
       " 'changing',\n",
       " 'removing',\n",
       " 'number',\n",
       " 'flag',\n",
       " 'inside',\n",
       " 'npm',\n",
       " 'dev',\n",
       " 'script',\n",
       " 'setup',\n",
       " '1',\n",
       " 'fork',\n",
       " 'repository',\n",
       " 'github',\n",
       " 'account',\n",
       " 'github',\n",
       " 'organization',\n",
       " '1',\n",
       " 'clone',\n",
       " 'fork',\n",
       " 'locally',\n",
       " 'computer',\n",
       " '1',\n",
       " 'run',\n",
       " 'npm',\n",
       " 'install',\n",
       " '1',\n",
       " 'run',\n",
       " 'npm',\n",
       " 'run',\n",
       " 'build',\n",
       " '1',\n",
       " 'run',\n",
       " 'npm',\n",
       " 'run',\n",
       " 'dev',\n",
       " 'visit',\n",
       " 'httplocalhost1313httplocalhost1313',\n",
       " 'browser',\n",
       " 'open',\n",
       " 'console',\n",
       " 'inspect',\n",
       " 'output',\n",
       " 'development',\n",
       " 'general',\n",
       " 'development',\n",
       " 'web',\n",
       " 'server',\n",
       " 'npm',\n",
       " 'run',\n",
       " 'dev',\n",
       " 'running',\n",
       " 'working',\n",
       " 'project',\n",
       " 'view',\n",
       " 'project',\n",
       " 'httplocalhost1313',\n",
       " 'intellijs',\n",
       " 'web',\n",
       " 'server',\n",
       " 'dragging',\n",
       " 'file',\n",
       " 'chrome',\n",
       " 'make',\n",
       " 'change',\n",
       " 'source',\n",
       " 'file',\n",
       " 'need',\n",
       " 'save',\n",
       " 'file',\n",
       " 'website',\n",
       " 'live',\n",
       " 'reloaded',\n",
       " 'take',\n",
       " 'look',\n",
       " 'srcindexjs',\n",
       " 'file',\n",
       " 'get',\n",
       " 'started',\n",
       " 'notice',\n",
       " 'example',\n",
       " 'importing',\n",
       " 'requiring',\n",
       " 'separate',\n",
       " 'javascript',\n",
       " 'file',\n",
       " 'regardless',\n",
       " 'choose',\n",
       " 'use',\n",
       " 'pick',\n",
       " 'one',\n",
       " 'use',\n",
       " 'throughout',\n",
       " 'code',\n",
       " 'base',\n",
       " 'dont',\n",
       " 'mix',\n",
       " 'match',\n",
       " 'two',\n",
       " 'file',\n",
       " 'srcapijs',\n",
       " 'also',\n",
       " 'contains',\n",
       " 'example',\n",
       " 'api',\n",
       " 'request',\n",
       " 'reference',\n",
       " 'get',\n",
       " 'started',\n",
       " 'building',\n",
       " 'part',\n",
       " 'application',\n",
       " 'interact',\n",
       " 'api',\n",
       " 'dbjson',\n",
       " 'file',\n",
       " 'contains',\n",
       " 'database',\n",
       " 'edit',\n",
       " 'file',\n",
       " 'directly',\n",
       " 'make',\n",
       " 'change',\n",
       " 'data',\n",
       " 'file',\n",
       " 'updated',\n",
       " 'make',\n",
       " 'api',\n",
       " 'request',\n",
       " 'modify',\n",
       " 'data',\n",
       " 'server',\n",
       " 'serve',\n",
       " 'file',\n",
       " 'public',\n",
       " 'directory',\n",
       " 'meaning',\n",
       " 'file',\n",
       " 'outside',\n",
       " 'public',\n",
       " 'visible',\n",
       " 'mean',\n",
       " 'frontend',\n",
       " 'asset',\n",
       " 'eg',\n",
       " 'bootstrap',\n",
       " 'image',\n",
       " 'need',\n",
       " 'public',\n",
       " 'directory',\n",
       " 'specification',\n",
       " 'application',\n",
       " 'page',\n",
       " 'load',\n",
       " 'display',\n",
       " 'loading',\n",
       " 'message',\n",
       " 'make',\n",
       " 'ajax',\n",
       " 'request',\n",
       " 'get',\n",
       " 'listing',\n",
       " 'movie',\n",
       " 'initial',\n",
       " 'ajax',\n",
       " 'request',\n",
       " 'come',\n",
       " 'back',\n",
       " 'remove',\n",
       " 'loading',\n",
       " 'message',\n",
       " 'replace',\n",
       " 'html',\n",
       " 'generated',\n",
       " 'json',\n",
       " 'response',\n",
       " 'code',\n",
       " 'receives',\n",
       " 'allow',\n",
       " 'user',\n",
       " 'add',\n",
       " 'new',\n",
       " 'movie',\n",
       " 'create',\n",
       " 'form',\n",
       " 'adding',\n",
       " 'new',\n",
       " 'movie',\n",
       " 'field',\n",
       " 'movie',\n",
       " 'title',\n",
       " 'rating',\n",
       " 'form',\n",
       " 'submitted',\n",
       " 'page',\n",
       " 'reload',\n",
       " 'refresh',\n",
       " 'instead',\n",
       " 'javascript',\n",
       " 'make',\n",
       " 'post',\n",
       " 'request',\n",
       " 'apimovies',\n",
       " 'information',\n",
       " 'user',\n",
       " 'put',\n",
       " 'form',\n",
       " 'allow',\n",
       " 'user',\n",
       " 'edit',\n",
       " 'existing',\n",
       " 'movie',\n",
       " 'give',\n",
       " 'user',\n",
       " 'option',\n",
       " 'edit',\n",
       " 'existing',\n",
       " 'movie',\n",
       " 'form',\n",
       " 'prepopulated',\n",
       " 'selected',\n",
       " 'movie',\n",
       " 'detail',\n",
       " 'like',\n",
       " 'creating',\n",
       " 'movie',\n",
       " 'involve',\n",
       " 'page',\n",
       " 'reloads',\n",
       " 'instead',\n",
       " 'javascript',\n",
       " 'code',\n",
       " 'make',\n",
       " 'ajax',\n",
       " 'request',\n",
       " 'form',\n",
       " 'submitted',\n",
       " 'delete',\n",
       " 'movie',\n",
       " 'movie',\n",
       " 'delete',\n",
       " 'button',\n",
       " 'button',\n",
       " 'clicked',\n",
       " 'javascript',\n",
       " 'send',\n",
       " 'delete',\n",
       " 'request',\n",
       " 'bonus',\n",
       " 'add',\n",
       " 'disabled',\n",
       " 'attribute',\n",
       " 'button',\n",
       " 'corresponding',\n",
       " 'ajax',\n",
       " 'request',\n",
       " 'still',\n",
       " 'pending',\n",
       " 'show',\n",
       " 'loading',\n",
       " 'animation',\n",
       " 'instead',\n",
       " 'text',\n",
       " 'say',\n",
       " 'loading',\n",
       " 'use',\n",
       " 'modal',\n",
       " 'creating',\n",
       " 'editing',\n",
       " 'movie',\n",
       " 'form',\n",
       " 'add',\n",
       " 'genre',\n",
       " 'property',\n",
       " 'every',\n",
       " 'movie',\n",
       " 'allow',\n",
       " 'user',\n",
       " 'sort',\n",
       " 'movie',\n",
       " 'rating',\n",
       " 'title',\n",
       " 'genre',\n",
       " 'allow',\n",
       " 'user',\n",
       " 'search',\n",
       " 'movie',\n",
       " 'rating',\n",
       " 'title',\n",
       " 'genre',\n",
       " 'helpful',\n",
       " 'hint',\n",
       " 'id',\n",
       " 'property',\n",
       " 'every',\n",
       " 'movie',\n",
       " 'edited',\n",
       " 'hand',\n",
       " 'purpose',\n",
       " 'property',\n",
       " 'uniquely',\n",
       " 'identify',\n",
       " 'particular',\n",
       " 'movie',\n",
       " 'want',\n",
       " 'delete',\n",
       " 'modify',\n",
       " 'existing',\n",
       " 'movie',\n",
       " 'specify',\n",
       " 'movie',\n",
       " 'want',\n",
       " 'change',\n",
       " 'referencing',\n",
       " 'id',\n",
       " 'new',\n",
       " 'movie',\n",
       " 'created',\n",
       " 'ie',\n",
       " 'send',\n",
       " 'post',\n",
       " 'request',\n",
       " 'apimovies',\n",
       " 'title',\n",
       " 'rating',\n",
       " 'server',\n",
       " 'respond',\n",
       " 'movie',\n",
       " 'object',\n",
       " 'created',\n",
       " 'including',\n",
       " 'generated',\n",
       " 'id',\n",
       " 'take',\n",
       " 'look',\n",
       " 'branch',\n",
       " 'repository',\n",
       " 'configurationsetup',\n",
       " 'common',\n",
       " 'scenario',\n",
       " 'including',\n",
       " 'bootstrap',\n",
       " 'application',\n",
       " 'linux',\n",
       " 'kernel',\n",
       " 'several',\n",
       " 'guide',\n",
       " 'kernel',\n",
       " 'developer',\n",
       " 'user',\n",
       " 'guide',\n",
       " 'rendered',\n",
       " 'number',\n",
       " 'format',\n",
       " 'like',\n",
       " 'html',\n",
       " 'pdf',\n",
       " 'please',\n",
       " 'read',\n",
       " 'documentationadminguidereadmerst',\n",
       " 'first',\n",
       " 'order',\n",
       " 'build',\n",
       " 'documentation',\n",
       " 'use',\n",
       " 'make',\n",
       " 'htmldocs',\n",
       " 'make',\n",
       " 'pdfdocs',\n",
       " 'formatted',\n",
       " 'documentation',\n",
       " 'also',\n",
       " 'read',\n",
       " 'online',\n",
       " 'httpswwwkernelorgdochtmllatest',\n",
       " 'various',\n",
       " 'text',\n",
       " 'file',\n",
       " 'documentation',\n",
       " 'subdirectory',\n",
       " 'several',\n",
       " 'using',\n",
       " 'restructured',\n",
       " 'text',\n",
       " 'markup',\n",
       " 'notation',\n",
       " 'please',\n",
       " 'read',\n",
       " 'documentationprocesschangesrst',\n",
       " 'file',\n",
       " 'contains',\n",
       " 'requirement',\n",
       " 'building',\n",
       " 'running',\n",
       " 'kernel',\n",
       " 'information',\n",
       " 'problem',\n",
       " 'may',\n",
       " 'result',\n",
       " 'upgrading',\n",
       " 'kernel']"
      ]
     },
     "execution_count": 67,
     "metadata": {},
     "output_type": "execute_result"
    }
   ],
   "source": [
    "df_clean"
   ]
  },
  {
   "cell_type": "code",
   "execution_count": 69,
   "metadata": {},
   "outputs": [
    {
     "data": {
      "text/plain": [
       "(-0.5, 1199.5, 899.5, -0.5)"
      ]
     },
     "execution_count": 69,
     "metadata": {},
     "output_type": "execute_result"
    },
    {
     "data": {
      "image/png": "[encoded data removed]",
      "text/plain": [
       "<Figure size 432x288 with 1 Axes>"
      ]
     },
     "metadata": {
      "needs_background": "light"
     },
     "output_type": "display_data"
    }
   ],
   "source": [
    "text = ' '.join(df_clean)\n",
    "wc = WordCloud(background_color='white', width=1200, height=900)\n",
    "img = wc.generate(text)\n",
    "\n",
    "plt.imshow(img)\n",
    "plt.axis('off')"
   ]
  },
  {
   "cell_type": "markdown",
   "metadata": {},
   "source": [
    "## most common words in readme\n"
   ]
  },
  {
   "cell_type": "code",
   "execution_count": 75,
   "metadata": {},
   "outputs": [
    {
     "data": {
      "text/plain": [
       "edit            4\n",
       "kernel          4\n",
       "loading         4\n",
       "api             4\n",
       "allow           5\n",
       "use             5\n",
       "change          5\n",
       "ajax            5\n",
       "server          5\n",
       "1               5\n",
       "setup           5\n",
       "key             5\n",
       "github          5\n",
       "page            5\n",
       "npm             5\n",
       "delete          5\n",
       "application     6\n",
       "form            6\n",
       "run             7\n",
       "javascript      7\n",
       "make            8\n",
       "user            8\n",
       "request        11\n",
       "file           14\n",
       "movie          23\n",
       "dtype: int64"
      ]
     },
     "execution_count": 75,
     "metadata": {},
     "output_type": "execute_result"
    }
   ],
   "source": [
    "common_words = pd.Series(df_clean).value_counts()\n",
    "common_words.sort_values().tail(25)"
   ]
  },
  {
   "cell_type": "code",
   "execution_count": 76,
   "metadata": {},
   "outputs": [
    {
     "data": {
      "text/plain": [
       "<matplotlib.axes._subplots.AxesSubplot at 0x106650bd0>"
      ]
     },
     "execution_count": 76,
     "metadata": {},
     "output_type": "execute_result"
    },
    {
     "data": {
      "image/png": "[encoded data removed]",
      "text/plain": [
       "<Figure size 432x288 with 1 Axes>"
      ]
     },
     "metadata": {
      "needs_background": "light"
     },
     "output_type": "display_data"
    }
   ],
   "source": [
    "most_common_words = common_words.sort_values().tail(25)\n",
    "most_common_words.drop(columns='all').plot.barh(width=.9, ec='black', title='25 most common words')"
   ]
  },
  {
   "cell_type": "markdown",
   "metadata": {},
   "source": [
    "## Does the length of the README vary by programming language?"
   ]
  },
  {
   "cell_type": "code",
   "execution_count": 81,
   "metadata": {},
   "outputs": [],
   "source": [
    "df2 = df[['language', 'readme_contents']]"
   ]
  },
  {
   "cell_type": "code",
   "execution_count": 83,
   "metadata": {},
   "outputs": [],
   "source": [
    "df2['readme_contents'] = df2.readme_contents.apply(clean)"
   ]
  },
  {
   "cell_type": "code",
   "execution_count": 88,
   "metadata": {},
   "outputs": [
    {
     "data": {
      "text/html": [
       "<div>\n",
       "<style scoped>\n",
       "    .dataframe tbody tr th:only-of-type {\n",
       "        vertical-align: middle;\n",
       "    }\n",
       "\n",
       "    .dataframe tbody tr th {\n",
       "        vertical-align: top;\n",
       "    }\n",
       "\n",
       "    .dataframe thead th {\n",
       "        text-align: right;\n",
       "    }\n",
       "</style>\n",
       "<table border=\"1\" class=\"dataframe\">\n",
       "  <thead>\n",
       "    <tr style=\"text-align: right;\">\n",
       "      <th></th>\n",
       "      <th>language</th>\n",
       "      <th>readme_contents</th>\n",
       "      <th>length_of_readme</th>\n",
       "    </tr>\n",
       "  </thead>\n",
       "  <tbody>\n",
       "    <tr>\n",
       "      <th>0</th>\n",
       "      <td>Shell</td>\n",
       "      <td>[codeup, setup, script, setup, script, codeup,...</td>\n",
       "      <td>116</td>\n",
       "    </tr>\n",
       "    <tr>\n",
       "      <th>1</th>\n",
       "      <td>JavaScript</td>\n",
       "      <td>[movie, application, project, building, single...</td>\n",
       "      <td>411</td>\n",
       "    </tr>\n",
       "    <tr>\n",
       "      <th>2</th>\n",
       "      <td>C</td>\n",
       "      <td>[linux, kernel, several, guide, kernel, develo...</td>\n",
       "      <td>58</td>\n",
       "    </tr>\n",
       "  </tbody>\n",
       "</table>\n",
       "</div>"
      ],
      "text/plain": [
       "     language                                    readme_contents  \\\n",
       "0       Shell  [codeup, setup, script, setup, script, codeup,...   \n",
       "1  JavaScript  [movie, application, project, building, single...   \n",
       "2           C  [linux, kernel, several, guide, kernel, develo...   \n",
       "\n",
       "   length_of_readme  \n",
       "0               116  \n",
       "1               411  \n",
       "2                58  "
      ]
     },
     "execution_count": 88,
     "metadata": {},
     "output_type": "execute_result"
    }
   ],
   "source": [
    "df2['length_of_readme'] = df2.readme_contents.apply(len)\n",
    "df2.head()"
   ]
  },
  {
   "cell_type": "markdown",
   "metadata": {},
   "source": [
    "> Scatter plot where length of readme is y-axis, x-axis is how many programming languages and hue is label of programming language"
   ]
  },
  {
   "cell_type": "code",
   "execution_count": 96,
   "metadata": {},
   "outputs": [
    {
     "data": {
      "image/png": "[encoded data removed]",
      "text/plain": [
       "<Figure size 1224x576 with 1 Axes>"
      ]
     },
     "metadata": {
      "needs_background": "light"
     },
     "output_type": "display_data"
    }
   ],
   "source": [
    "plt.figure(figsize=(17,8))\n",
    "plt.title('Length of README files for each programming language')\n",
    "x\n",
    "x = df2.language.count()\n",
    "y = df2.length_of_readme\n",
    "hue = df2.language\n",
    "sns.scatterplot(data=df_lang_count, x=x, y=y, hue=hue)\n",
    "plt.ylabel('Length of Readme')\n",
    "plt.xlabel('Number of Readme\\'s')\n",
    "plt.show()\n"
   ]
  },
  {
   "cell_type": "markdown",
   "metadata": {},
   "source": [
    "## What does the distribution of IDFs look like for the most common words?\n"
   ]
  },
  {
   "cell_type": "code",
   "execution_count": 114,
   "metadata": {},
   "outputs": [],
   "source": [
    "cv = CountVectorizer()\n",
    "bag_of_words = cv.fit_transform(df_clean)"
   ]
  },
  {
   "cell_type": "code",
   "execution_count": 115,
   "metadata": {},
   "outputs": [],
   "source": [
    "tfidf = TfidfVectorizer()\n",
    "bag_of_words = tfidf.fit_transform(df_clean)"
   ]
  },
  {
   "cell_type": "code",
   "execution_count": 116,
   "metadata": {},
   "outputs": [
    {
     "data": {
      "text/plain": [
       "movie                                                   4.195266\n",
       "file                                                    4.665270\n",
       "request                                                 4.888413\n",
       "make                                                    5.176095\n",
       "user                                                    5.176095\n",
       "                                                          ...   \n",
       "involve                                                 6.680173\n",
       "javahttpsenwikipediaorgwikijava_programming_language    6.680173\n",
       "jshttpsnodejsorgen                                      6.680173\n",
       "ie                                                      6.680173\n",
       "xcodehttpsdeveloperapplecomxcodefeatures                6.680173\n",
       "Length: 306, dtype: float64"
      ]
     },
     "execution_count": 116,
     "metadata": {},
     "output_type": "execute_result"
    }
   ],
   "source": [
    "pd.Series(dict(zip(tfidf.get_feature_names(), tfidf.idf_))).sort_values()"
   ]
  },
  {
   "cell_type": "code",
   "execution_count": 118,
   "metadata": {},
   "outputs": [],
   "source": [
    "df3 = pd.DataFrame(bag_of_words.todense(), columns=cv.get_feature_names()).T"
   ]
  },
  {
   "cell_type": "code",
   "execution_count": 124,
   "metadata": {},
   "outputs": [
    {
     "ename": "TypeError",
     "evalue": "sort_values() missing 1 required positional argument: 'by'",
     "output_type": "error",
     "traceback": [
      "\u001b[0;31m---------------------------------------------------------------------------\u001b[0m",
      "\u001b[0;31mTypeError\u001b[0m                                 Traceback (most recent call last)",
      "\u001b[0;32m<ipython-input-124-a2da5f67acf4>\u001b[0m in \u001b[0;36m<module>\u001b[0;34m\u001b[0m\n\u001b[0;32m----> 1\u001b[0;31m \u001b[0mdf3\u001b[0m\u001b[0;34m.\u001b[0m\u001b[0msort_values\u001b[0m\u001b[0;34m(\u001b[0m\u001b[0;34m)\u001b[0m\u001b[0;34m\u001b[0m\u001b[0;34m\u001b[0m\u001b[0m\n\u001b[0m",
      "\u001b[0;31mTypeError\u001b[0m: sort_values() missing 1 required positional argument: 'by'"
     ]
    }
   ],
   "source": [
    "df3.sort_values()"
   ]
  },
  {
   "cell_type": "markdown",
   "metadata": {},
   "source": [
    "### Do different programming languages use a different number of unique words?"
   ]
  }
 ],
 "metadata": {
  "kernelspec": {
   "display_name": "Python 3",
   "language": "python",
   "name": "python3"
  },
  "language_info": {
   "codemirror_mode": {
    "name": "ipython",
    "version": 3
   },
   "file_extension": ".py",
   "mimetype": "text/x-python",
   "name": "python",
   "nbconvert_exporter": "python",
   "pygments_lexer": "ipython3",
   "version": "3.7.4"
  }
 },
 "nbformat": 4,
 "nbformat_minor": 4
}
