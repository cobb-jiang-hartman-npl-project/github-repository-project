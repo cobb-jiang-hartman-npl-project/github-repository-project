{
 "cells": [
  {
   "cell_type": "code",
   "execution_count": 1,
   "metadata": {},
   "outputs": [],
   "source": [
    "import numpy as np\n",
    "import pandas as pd\n",
    "\n",
    "import unicodedata\n",
    "\n",
    "import re\n",
    "\n",
    "import json\n",
    "\n",
    "import nltk\n",
    "from nltk.tokenize.toktok import ToktokTokenizer\n",
    "from nltk.corpus import stopwords\n",
    "\n",
    "import og_acquire as og_ac\n",
    "import acquire as ac\n",
    "import prepare as pr"
   ]
  },
  {
   "cell_type": "code",
   "execution_count": 2,
   "metadata": {},
   "outputs": [
    {
     "data": {
      "text/html": [
       "<div>\n",
       "<style scoped>\n",
       "    .dataframe tbody tr th:only-of-type {\n",
       "        vertical-align: middle;\n",
       "    }\n",
       "\n",
       "    .dataframe tbody tr th {\n",
       "        vertical-align: top;\n",
       "    }\n",
       "\n",
       "    .dataframe thead th {\n",
       "        text-align: right;\n",
       "    }\n",
       "</style>\n",
       "<table border=\"1\" class=\"dataframe\">\n",
       "  <thead>\n",
       "    <tr style=\"text-align: right;\">\n",
       "      <th></th>\n",
       "      <th>repo</th>\n",
       "      <th>language</th>\n",
       "      <th>readme_contents</th>\n",
       "    </tr>\n",
       "  </thead>\n",
       "  <tbody>\n",
       "    <tr>\n",
       "      <th>0</th>\n",
       "      <td>gocodeup/codeup-setup-script</td>\n",
       "      <td>Shell</td>\n",
       "      <td># Codeup Setup Script\\n\\nSetup script for Code...</td>\n",
       "    </tr>\n",
       "    <tr>\n",
       "      <th>1</th>\n",
       "      <td>gocodeup/movies-application</td>\n",
       "      <td>JavaScript</td>\n",
       "      <td># Movies Application\\n\\nFor this project, we w...</td>\n",
       "    </tr>\n",
       "    <tr>\n",
       "      <th>2</th>\n",
       "      <td>torvalds/linux</td>\n",
       "      <td>C</td>\n",
       "      <td>Linux kernel\\n============\\n\\nThere are severa...</td>\n",
       "    </tr>\n",
       "  </tbody>\n",
       "</table>\n",
       "</div>"
      ],
      "text/plain": [
       "                           repo    language  \\\n",
       "0  gocodeup/codeup-setup-script       Shell   \n",
       "1   gocodeup/movies-application  JavaScript   \n",
       "2                torvalds/linux           C   \n",
       "\n",
       "                                     readme_contents  \n",
       "0  # Codeup Setup Script\\n\\nSetup script for Code...  \n",
       "1  # Movies Application\\n\\nFor this project, we w...  \n",
       "2  Linux kernel\\n============\\n\\nThere are severa...  "
      ]
     },
     "execution_count": 2,
     "metadata": {},
     "output_type": "execute_result"
    }
   ],
   "source": [
    "df = pd.DataFrame(og_ac.scrape_github_data())\n",
    "df"
   ]
  },
  {
   "cell_type": "code",
   "execution_count": 3,
   "metadata": {},
   "outputs": [],
   "source": [
    "list_of_dicts = og_ac.scrape_github_data()"
   ]
  },
  {
   "cell_type": "code",
   "execution_count": 4,
   "metadata": {},
   "outputs": [
    {
     "data": {
      "text/plain": [
       "{'repo': 'gocodeup/codeup-setup-script',\n",
       " 'language': 'Shell',\n",
       " 'readme_contents': '# Codeup Setup Script\\n\\nSetup script for Codeup students\\' laptops to install the all the tools we will\\nneed for the java course. We will install the following:\\n\\n- [xcode](https://developer.apple.com/xcode/features/): command line tools for\\n  macs\\n- [brew](http://brew.sh/): package manager for macs\\n- [java](https://en.wikipedia.org/wiki/Java_(programming_language))\\n- [tomcat](http://tomcat.apache.org/): the java webserver\\n- [maven](https://maven.apache.org/): a java dependency and build management tool\\n- [mysql](https://www.mysql.com/): the database we\\'ll use for the class\\n- [node js](https://nodejs.org/en/): a JavaScript runtime outside of the browser\\n- [npm](https://www.npmjs.com/): a package manager for JavaScript\\n\\nIn addition, we will:\\n\\n- setup ssh keys for the student\\'s laptop and guide them through the process of\\n  linking their ssh key to their Github account.\\n- Setup a global gitignore file and set the default commit editor to `nano`\\n  (only if these are not already set)\\n\\n## For Students\\n\\nCopy and paste the following in your terminal:\\n\\n```\\nbash -c \"$(curl -sS https://raw.githubusercontent.com/gocodeup/codeup-setup-script/master/install.sh)\"\\n```\\n\\n## Note for Instructors\\n\\nIf students already have and `id_rsa` ssh key generated the script will *not*\\ntry to generate a new ones, and you will need to walk them through the process\\nof adding their existing key to Github.\\n\\nThe following should do the trick if they already have a ssh key pair, but it\\'s\\nnot wired up to Github.\\n\\n```bash\\npbcopy < ~/.ssh/id_rsa.pub\\nopen https://github.com/settings/ssh\\n```\\n'}"
      ]
     },
     "execution_count": 4,
     "metadata": {},
     "output_type": "execute_result"
    }
   ],
   "source": [
    "list_of_dicts[0]"
   ]
  },
  {
   "cell_type": "code",
   "execution_count": 5,
   "metadata": {},
   "outputs": [
    {
     "data": {
      "text/plain": [
       "{'repo': 'gocodeup/codeup-setup-script',\n",
       " 'language': 'Shell',\n",
       " 'readme_contents': '# Codeup Setup Script\\n\\nSetup script for Codeup students\\' laptops to install the all the tools we will\\nneed for the java course. We will install the following:\\n\\n- [xcode](https://developer.apple.com/xcode/features/): command line tools for\\n  macs\\n- [brew](http://brew.sh/): package manager for macs\\n- [java](https://en.wikipedia.org/wiki/Java_(programming_language))\\n- [tomcat](http://tomcat.apache.org/): the java webserver\\n- [maven](https://maven.apache.org/): a java dependency and build management tool\\n- [mysql](https://www.mysql.com/): the database we\\'ll use for the class\\n- [node js](https://nodejs.org/en/): a JavaScript runtime outside of the browser\\n- [npm](https://www.npmjs.com/): a package manager for JavaScript\\n\\nIn addition, we will:\\n\\n- setup ssh keys for the student\\'s laptop and guide them through the process of\\n  linking their ssh key to their Github account.\\n- Setup a global gitignore file and set the default commit editor to `nano`\\n  (only if these are not already set)\\n\\n## For Students\\n\\nCopy and paste the following in your terminal:\\n\\n```\\nbash -c \"$(curl -sS https://raw.githubusercontent.com/gocodeup/codeup-setup-script/master/install.sh)\"\\n```\\n\\n## Note for Instructors\\n\\nIf students already have and `id_rsa` ssh key generated the script will *not*\\ntry to generate a new ones, and you will need to walk them through the process\\nof adding their existing key to Github.\\n\\nThe following should do the trick if they already have a ssh key pair, but it\\'s\\nnot wired up to Github.\\n\\n```bash\\npbcopy < ~/.ssh/id_rsa.pub\\nopen https://github.com/settings/ssh\\n```\\n',\n",
       " 'clean_readme_contents': 'codeup setup script setup script codeup student laptop install tool need java course install following xcodehttpsdeveloperapplecomxcodefeatures command line tool mac brewhttpbrewsh package manager mac javahttpsenwikipediaorgwikijavaprogramminglanguage tomcathttptomcatapacheorg java webserver mavenhttpsmavenapacheorg java dependency build management tool mysqlhttpswwwmysqlcom database well use class node jshttpsnodejsorgen javascript runtime outside browser npmhttpswwwnpmjscom package manager javascript addition setup ssh key student laptop guide process linking ssh key github account setup global gitignore file set default commit editor nano already set student copy paste following terminal bash c curl httpsrawgithubusercontentcomgocodeupcodeupsetupscriptmasterinstallsh note instructor student already idrsa ssh key generated script try generate new one need walk process adding existing key github following trick already ssh key pair wired github bash pbcopy sshidrsapub open httpsgithubcomsettingsssh'}"
      ]
     },
     "execution_count": 5,
     "metadata": {},
     "output_type": "execute_result"
    }
   ],
   "source": [
    "updated_dict = pr.prep_readme(dictionary=list_of_dicts[0], key=\"readme_contents\")\n",
    "updated_dict"
   ]
  },
  {
   "cell_type": "code",
   "execution_count": 6,
   "metadata": {},
   "outputs": [
    {
     "data": {
      "text/html": [
       "<div>\n",
       "<style scoped>\n",
       "    .dataframe tbody tr th:only-of-type {\n",
       "        vertical-align: middle;\n",
       "    }\n",
       "\n",
       "    .dataframe tbody tr th {\n",
       "        vertical-align: top;\n",
       "    }\n",
       "\n",
       "    .dataframe thead th {\n",
       "        text-align: right;\n",
       "    }\n",
       "</style>\n",
       "<table border=\"1\" class=\"dataframe\">\n",
       "  <thead>\n",
       "    <tr style=\"text-align: right;\">\n",
       "      <th></th>\n",
       "      <th>repo</th>\n",
       "      <th>language</th>\n",
       "      <th>readme_contents</th>\n",
       "      <th>clean_readme_contents</th>\n",
       "    </tr>\n",
       "  </thead>\n",
       "  <tbody>\n",
       "    <tr>\n",
       "      <th>0</th>\n",
       "      <td>rdpeng/ProgrammingAssignment2</td>\n",
       "      <td>R</td>\n",
       "      <td>### Introduction\\n\\nThis second programming as...</td>\n",
       "      <td>introduction second programming assignment req...</td>\n",
       "    </tr>\n",
       "    <tr>\n",
       "      <th>1</th>\n",
       "      <td>octocat/Spoon-Knife</td>\n",
       "      <td>HTML</td>\n",
       "      <td>### Well hello there!\\n\\nThis repository is me...</td>\n",
       "      <td>well hello repository meant provide example fo...</td>\n",
       "    </tr>\n",
       "    <tr>\n",
       "      <th>2</th>\n",
       "      <td>tensorflow/tensorflow</td>\n",
       "      <td>C++</td>\n",
       "      <td>&lt;div align=\"center\"&gt;\\n  &lt;img src=\"https://www....</td>\n",
       "      <td>div aligncenter img srchttpswwwtensorfloworgim...</td>\n",
       "    </tr>\n",
       "    <tr>\n",
       "      <th>3</th>\n",
       "      <td>SmartThingsCommunity/SmartThingsPublic</td>\n",
       "      <td>Groovy</td>\n",
       "      <td># SmartThings Public GitHub Repo\\n\\nAn officia...</td>\n",
       "      <td>smartthings public github repo official list s...</td>\n",
       "    </tr>\n",
       "    <tr>\n",
       "      <th>4</th>\n",
       "      <td>twbs/bootstrap</td>\n",
       "      <td>JavaScript</td>\n",
       "      <td>&lt;p align=\"center\"&gt;\\n  &lt;a href=\"https://getboot...</td>\n",
       "      <td>p aligncenter hrefhttpsgetbootstrapcom img src...</td>\n",
       "    </tr>\n",
       "    <tr>\n",
       "      <th>...</th>\n",
       "      <td>...</td>\n",
       "      <td>...</td>\n",
       "      <td>...</td>\n",
       "      <td>...</td>\n",
       "    </tr>\n",
       "    <tr>\n",
       "      <th>220</th>\n",
       "      <td>akveo/ngx-admin</td>\n",
       "      <td>TypeScript</td>\n",
       "      <td># ngx-admin [&lt;img src=\"https://i.imgur.com/oMc...</td>\n",
       "      <td>ngxadmin img srchttpsiimgurcomomcxwz0png altev...</td>\n",
       "    </tr>\n",
       "    <tr>\n",
       "      <th>221</th>\n",
       "      <td>swirldev/swirl_courses</td>\n",
       "      <td>R</td>\n",
       "      <td># swirl courses\\n\\nThis is a collection of int...</td>\n",
       "      <td>swirl course collection interactive course use...</td>\n",
       "    </tr>\n",
       "    <tr>\n",
       "      <th>222</th>\n",
       "      <td>jrowberg/i2cdevlib</td>\n",
       "      <td>C++</td>\n",
       "      <td>Jennic platform added!\\n\\n====================...</td>\n",
       "      <td>jennic platform added note detail project plea...</td>\n",
       "    </tr>\n",
       "    <tr>\n",
       "      <th>223</th>\n",
       "      <td>etcd-io/etcd</td>\n",
       "      <td>Go</td>\n",
       "      <td># etcd\\n\\n[![Go Report Card](https://goreportc...</td>\n",
       "      <td>etcd go report cardhttpsgoreportcardcombadgegi...</td>\n",
       "    </tr>\n",
       "    <tr>\n",
       "      <th>224</th>\n",
       "      <td>sahat/hackathon-starter</td>\n",
       "      <td>JavaScript</td>\n",
       "      <td>![](https://lh4.googleusercontent.com/-PVw-ZUM...</td>\n",
       "      <td>httpslh4googleusercontentcompvwzum9vv8uuweh51o...</td>\n",
       "    </tr>\n",
       "  </tbody>\n",
       "</table>\n",
       "<p>225 rows × 4 columns</p>\n",
       "</div>"
      ],
      "text/plain": [
       "                                       repo    language  \\\n",
       "0             rdpeng/ProgrammingAssignment2           R   \n",
       "1                       octocat/Spoon-Knife        HTML   \n",
       "2                     tensorflow/tensorflow         C++   \n",
       "3    SmartThingsCommunity/SmartThingsPublic      Groovy   \n",
       "4                            twbs/bootstrap  JavaScript   \n",
       "..                                      ...         ...   \n",
       "220                         akveo/ngx-admin  TypeScript   \n",
       "221                  swirldev/swirl_courses           R   \n",
       "222                      jrowberg/i2cdevlib         C++   \n",
       "223                            etcd-io/etcd          Go   \n",
       "224                 sahat/hackathon-starter  JavaScript   \n",
       "\n",
       "                                       readme_contents  \\\n",
       "0    ### Introduction\\n\\nThis second programming as...   \n",
       "1    ### Well hello there!\\n\\nThis repository is me...   \n",
       "2    <div align=\"center\">\\n  <img src=\"https://www....   \n",
       "3    # SmartThings Public GitHub Repo\\n\\nAn officia...   \n",
       "4    <p align=\"center\">\\n  <a href=\"https://getboot...   \n",
       "..                                                 ...   \n",
       "220  # ngx-admin [<img src=\"https://i.imgur.com/oMc...   \n",
       "221  # swirl courses\\n\\nThis is a collection of int...   \n",
       "222  Jennic platform added!\\n\\n====================...   \n",
       "223  # etcd\\n\\n[![Go Report Card](https://goreportc...   \n",
       "224  ![](https://lh4.googleusercontent.com/-PVw-ZUM...   \n",
       "\n",
       "                                 clean_readme_contents  \n",
       "0    introduction second programming assignment req...  \n",
       "1    well hello repository meant provide example fo...  \n",
       "2    div aligncenter img srchttpswwwtensorfloworgim...  \n",
       "3    smartthings public github repo official list s...  \n",
       "4    p aligncenter hrefhttpsgetbootstrapcom img src...  \n",
       "..                                                 ...  \n",
       "220  ngxadmin img srchttpsiimgurcomomcxwz0png altev...  \n",
       "221  swirl course collection interactive course use...  \n",
       "222  jennic platform added note detail project plea...  \n",
       "223  etcd go report cardhttpsgoreportcardcombadgegi...  \n",
       "224  httpslh4googleusercontentcompvwzum9vv8uuweh51o...  \n",
       "\n",
       "[225 rows x 4 columns]"
      ]
     },
     "execution_count": 6,
     "metadata": {},
     "output_type": "execute_result"
    }
   ],
   "source": [
    "df = pr.wrangle_readme_data(extra_stopwords=[], exclude_stopwords=[])\n",
    "df"
   ]
  },
  {
   "cell_type": "code",
   "execution_count": 7,
   "metadata": {},
   "outputs": [],
   "source": [
    "# df.language.value_counts(dropna=False)"
   ]
  },
  {
   "cell_type": "code",
   "execution_count": 8,
   "metadata": {},
   "outputs": [],
   "source": [
    "# df[df.language.isna() == True].shape"
   ]
  },
  {
   "cell_type": "code",
   "execution_count": 9,
   "metadata": {},
   "outputs": [],
   "source": [
    "# df[df.repo.isna() == True]"
   ]
  },
  {
   "cell_type": "code",
   "execution_count": 10,
   "metadata": {},
   "outputs": [],
   "source": [
    "# df[df.readme_contents.isna() == True]"
   ]
  },
  {
   "cell_type": "code",
   "execution_count": 11,
   "metadata": {},
   "outputs": [],
   "source": [
    "# df = df[df.language.isna() == False]\n",
    "# df"
   ]
  },
  {
   "cell_type": "code",
   "execution_count": 12,
   "metadata": {},
   "outputs": [],
   "source": [
    "# df.reset_index(inplace=True)"
   ]
  },
  {
   "cell_type": "code",
   "execution_count": 13,
   "metadata": {},
   "outputs": [],
   "source": [
    "# df.drop(columns=[\"index\"], inplace=True)"
   ]
  },
  {
   "cell_type": "code",
   "execution_count": 14,
   "metadata": {},
   "outputs": [],
   "source": [
    "# df"
   ]
  },
  {
   "cell_type": "code",
   "execution_count": null,
   "metadata": {},
   "outputs": [],
   "source": []
  }
 ],
 "metadata": {
  "kernelspec": {
   "display_name": "Python 3",
   "language": "python",
   "name": "python3"
  },
  "language_info": {
   "codemirror_mode": {
    "name": "ipython",
    "version": 3
   },
   "file_extension": ".py",
   "mimetype": "text/x-python",
   "name": "python",
   "nbconvert_exporter": "python",
   "pygments_lexer": "ipython3",
   "version": "3.7.4"
  }
 },
 "nbformat": 4,
 "nbformat_minor": 2
}
