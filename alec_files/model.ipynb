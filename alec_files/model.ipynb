{
 "cells": [
  {
   "cell_type": "markdown",
   "metadata": {},
   "source": [
    "# Modeling"
   ]
  },
  {
   "cell_type": "code",
   "execution_count": 1,
   "metadata": {},
   "outputs": [],
   "source": [
    "import numpy as np\n",
    "import pandas as pd\n",
    "\n",
    "from pprint import pprint\n",
    "\n",
    "import unicodedata\n",
    "\n",
    "import re\n",
    "\n",
    "import json\n",
    "\n",
    "import nltk\n",
    "from nltk.tokenize.toktok import ToktokTokenizer\n",
    "from nltk.corpus import stopwords\n",
    "\n",
    "from sklearn.feature_extraction.text import CountVectorizer, TfidfVectorizer\n",
    "\n",
    "from sklearn.model_selection import train_test_split\n",
    "from sklearn.tree import DecisionTreeClassifier\n",
    "from sklearn.linear_model import LogisticRegression\n",
    "\n",
    "import acquire as ac\n",
    "import prepare as pr\n",
    "import preprocessing as pp\n",
    "import evaluate as ev"
   ]
  },
  {
   "cell_type": "markdown",
   "metadata": {},
   "source": [
    "---\n",
    "## Wrangle"
   ]
  },
  {
   "cell_type": "code",
   "execution_count": 2,
   "metadata": {},
   "outputs": [
    {
     "data": {
      "text/html": [
       "<div>\n",
       "<style scoped>\n",
       "    .dataframe tbody tr th:only-of-type {\n",
       "        vertical-align: middle;\n",
       "    }\n",
       "\n",
       "    .dataframe tbody tr th {\n",
       "        vertical-align: top;\n",
       "    }\n",
       "\n",
       "    .dataframe thead th {\n",
       "        text-align: right;\n",
       "    }\n",
       "</style>\n",
       "<table border=\"1\" class=\"dataframe\">\n",
       "  <thead>\n",
       "    <tr style=\"text-align: right;\">\n",
       "      <th></th>\n",
       "      <th>repo</th>\n",
       "      <th>language</th>\n",
       "      <th>readme_contents</th>\n",
       "      <th>clean_readme_contents</th>\n",
       "      <th>len_of_clean_readme_contents</th>\n",
       "    </tr>\n",
       "  </thead>\n",
       "  <tbody>\n",
       "    <tr>\n",
       "      <th>0</th>\n",
       "      <td>rdpeng/ProgrammingAssignment2</td>\n",
       "      <td>R</td>\n",
       "      <td>### Introduction\\n\\nThis second programming as...</td>\n",
       "      <td>introduction second programming assignment req...</td>\n",
       "      <td>332</td>\n",
       "    </tr>\n",
       "    <tr>\n",
       "      <th>1</th>\n",
       "      <td>octocat/Spoon-Knife</td>\n",
       "      <td>HTML</td>\n",
       "      <td>### Well hello there!\\n\\nThis repository is me...</td>\n",
       "      <td>well hello repository meant provide example fo...</td>\n",
       "      <td>62</td>\n",
       "    </tr>\n",
       "    <tr>\n",
       "      <th>2</th>\n",
       "      <td>tensorflow/tensorflow</td>\n",
       "      <td>C++</td>\n",
       "      <td>&lt;div align=\"center\"&gt;\\n  &lt;img src=\"https://www....</td>\n",
       "      <td>div aligncenter srchttpswwwtensorfloworgimages...</td>\n",
       "      <td>434</td>\n",
       "    </tr>\n",
       "    <tr>\n",
       "      <th>3</th>\n",
       "      <td>SmartThingsCommunity/SmartThingsPublic</td>\n",
       "      <td>Groovy</td>\n",
       "      <td># SmartThings Public GitHub Repo\\n\\nAn officia...</td>\n",
       "      <td>smartthings public github repo official list s...</td>\n",
       "      <td>32</td>\n",
       "    </tr>\n",
       "    <tr>\n",
       "      <th>4</th>\n",
       "      <td>twbs/bootstrap</td>\n",
       "      <td>JavaScript</td>\n",
       "      <td>&lt;p align=\"center\"&gt;\\n  &lt;a href=\"https://getboot...</td>\n",
       "      <td>p aligncenter hrefhttpsgetbootstrapcom srchttp...</td>\n",
       "      <td>567</td>\n",
       "    </tr>\n",
       "    <tr>\n",
       "      <th>...</th>\n",
       "      <td>...</td>\n",
       "      <td>...</td>\n",
       "      <td>...</td>\n",
       "      <td>...</td>\n",
       "      <td>...</td>\n",
       "    </tr>\n",
       "    <tr>\n",
       "      <th>209</th>\n",
       "      <td>akveo/ngx-admin</td>\n",
       "      <td>TypeScript</td>\n",
       "      <td># ngx-admin [&lt;img src=\"https://i.imgur.com/oMc...</td>\n",
       "      <td>ngxadmin srchttpsiimgurcomomcxwz0png alteva de...</td>\n",
       "      <td>300</td>\n",
       "    </tr>\n",
       "    <tr>\n",
       "      <th>210</th>\n",
       "      <td>swirldev/swirl_courses</td>\n",
       "      <td>R</td>\n",
       "      <td># swirl courses\\n\\nThis is a collection of int...</td>\n",
       "      <td>swirl course collection interactive course use...</td>\n",
       "      <td>393</td>\n",
       "    </tr>\n",
       "    <tr>\n",
       "      <th>211</th>\n",
       "      <td>jrowberg/i2cdevlib</td>\n",
       "      <td>C++</td>\n",
       "      <td>Jennic platform added!\\n\\n====================...</td>\n",
       "      <td>jennic platform added note detail project plea...</td>\n",
       "      <td>250</td>\n",
       "    </tr>\n",
       "    <tr>\n",
       "      <th>212</th>\n",
       "      <td>etcd-io/etcd</td>\n",
       "      <td>Go</td>\n",
       "      <td># etcd\\n\\n[![Go Report Card](https://goreportc...</td>\n",
       "      <td>etcd go report cardhttpsgoreportcardcombadgegi...</td>\n",
       "      <td>630</td>\n",
       "    </tr>\n",
       "    <tr>\n",
       "      <th>213</th>\n",
       "      <td>sahat/hackathon-starter</td>\n",
       "      <td>JavaScript</td>\n",
       "      <td>![](https://lh4.googleusercontent.com/-PVw-ZUM...</td>\n",
       "      <td>httpslh4googleusercontentcompvwzum9vv8uuweh51o...</td>\n",
       "      <td>5682</td>\n",
       "    </tr>\n",
       "  </tbody>\n",
       "</table>\n",
       "<p>214 rows × 5 columns</p>\n",
       "</div>"
      ],
      "text/plain": [
       "                                       repo    language  \\\n",
       "0             rdpeng/ProgrammingAssignment2           R   \n",
       "1                       octocat/Spoon-Knife        HTML   \n",
       "2                     tensorflow/tensorflow         C++   \n",
       "3    SmartThingsCommunity/SmartThingsPublic      Groovy   \n",
       "4                            twbs/bootstrap  JavaScript   \n",
       "..                                      ...         ...   \n",
       "209                         akveo/ngx-admin  TypeScript   \n",
       "210                  swirldev/swirl_courses           R   \n",
       "211                      jrowberg/i2cdevlib         C++   \n",
       "212                            etcd-io/etcd          Go   \n",
       "213                 sahat/hackathon-starter  JavaScript   \n",
       "\n",
       "                                       readme_contents  \\\n",
       "0    ### Introduction\\n\\nThis second programming as...   \n",
       "1    ### Well hello there!\\n\\nThis repository is me...   \n",
       "2    <div align=\"center\">\\n  <img src=\"https://www....   \n",
       "3    # SmartThings Public GitHub Repo\\n\\nAn officia...   \n",
       "4    <p align=\"center\">\\n  <a href=\"https://getboot...   \n",
       "..                                                 ...   \n",
       "209  # ngx-admin [<img src=\"https://i.imgur.com/oMc...   \n",
       "210  # swirl courses\\n\\nThis is a collection of int...   \n",
       "211  Jennic platform added!\\n\\n====================...   \n",
       "212  # etcd\\n\\n[![Go Report Card](https://goreportc...   \n",
       "213  ![](https://lh4.googleusercontent.com/-PVw-ZUM...   \n",
       "\n",
       "                                 clean_readme_contents  \\\n",
       "0    introduction second programming assignment req...   \n",
       "1    well hello repository meant provide example fo...   \n",
       "2    div aligncenter srchttpswwwtensorfloworgimages...   \n",
       "3    smartthings public github repo official list s...   \n",
       "4    p aligncenter hrefhttpsgetbootstrapcom srchttp...   \n",
       "..                                                 ...   \n",
       "209  ngxadmin srchttpsiimgurcomomcxwz0png alteva de...   \n",
       "210  swirl course collection interactive course use...   \n",
       "211  jennic platform added note detail project plea...   \n",
       "212  etcd go report cardhttpsgoreportcardcombadgegi...   \n",
       "213  httpslh4googleusercontentcompvwzum9vv8uuweh51o...   \n",
       "\n",
       "     len_of_clean_readme_contents  \n",
       "0                             332  \n",
       "1                              62  \n",
       "2                             434  \n",
       "3                              32  \n",
       "4                             567  \n",
       "..                            ...  \n",
       "209                           300  \n",
       "210                           393  \n",
       "211                           250  \n",
       "212                           630  \n",
       "213                          5682  \n",
       "\n",
       "[214 rows x 5 columns]"
      ]
     },
     "execution_count": 2,
     "metadata": {},
     "output_type": "execute_result"
    }
   ],
   "source": [
    "df = pr.wrangle_readme_data()\n",
    "df"
   ]
  },
  {
   "cell_type": "code",
   "execution_count": 3,
   "metadata": {},
   "outputs": [
    {
     "data": {
      "text/plain": [
       "Index(['repo', 'language', 'readme_contents', 'clean_readme_contents',\n",
       "       'len_of_clean_readme_contents'],\n",
       "      dtype='object')"
      ]
     },
     "execution_count": 3,
     "metadata": {},
     "output_type": "execute_result"
    }
   ],
   "source": [
    "df.columns"
   ]
  },
  {
   "cell_type": "code",
   "execution_count": 4,
   "metadata": {},
   "outputs": [
    {
     "data": {
      "text/plain": [
       "crossoverJie/JCSprout                                                          2\n",
       "tensorflow/models                                                              2\n",
       "soimort/you-get                                                                2\n",
       "tensorflow/tensorflow                                                          2\n",
       "rust-lang/rust                                                                 2\n",
       "SmartThingsCommunity/SmartThingsPublic                                         2\n",
       "phonegap/phonegap-start                                                        2\n",
       "woocommerce/woocommerce                                                        2\n",
       "axios/axios                                                                    2\n",
       "octocat/Spoon-Knife                                                            2\n",
       "apache/incubator-mxnet                                                         2\n",
       "rdpeng/ProgrammingAssignment2                                                  2\n",
       "arduino/Arduino                                                                2\n",
       "twbs/bootstrap                                                                 2\n",
       "nightscout/cgm-remote-monitor                                                  2\n",
       "CamDavidsonPilon/Probabilistic-Programming-and-Bayesian-Methods-for-Hackers    2\n",
       "fengdu78/Coursera-ML-AndrewNg-Notes                                            2\n",
       "jakevdp/PythonDataScienceHandbook                                              1\n",
       "Name: repo, dtype: int64"
      ]
     },
     "execution_count": 4,
     "metadata": {},
     "output_type": "execute_result"
    }
   ],
   "source": [
    "df.repo.value_counts().head(18)"
   ]
  },
  {
   "cell_type": "code",
   "execution_count": 5,
   "metadata": {},
   "outputs": [
    {
     "data": {
      "text/plain": [
       "discourse/discourse          1\n",
       "grafana/grafana              1\n",
       "elastic/elasticsearch        1\n",
       "scikit-learn/scikit-learn    1\n",
       "mdn/learning-area            1\n",
       "Name: repo, dtype: int64"
      ]
     },
     "execution_count": 5,
     "metadata": {},
     "output_type": "execute_result"
    }
   ],
   "source": [
    "df.repo.value_counts().tail()"
   ]
  },
  {
   "cell_type": "code",
   "execution_count": 6,
   "metadata": {},
   "outputs": [
    {
     "data": {
      "text/plain": [
       "197"
      ]
     },
     "execution_count": 6,
     "metadata": {},
     "output_type": "execute_result"
    }
   ],
   "source": [
    "len(df.repo.unique())"
   ]
  },
  {
   "cell_type": "code",
   "execution_count": 7,
   "metadata": {},
   "outputs": [
    {
     "data": {
      "text/plain": [
       "JavaScript          45\n",
       "Java                35\n",
       "Python              29\n",
       "C++                 18\n",
       "HTML                16\n",
       "PHP                  9\n",
       "Jupyter Notebook     9\n",
       "Go                   9\n",
       "TypeScript           7\n",
       "Ruby                 7\n",
       "CSS                  6\n",
       "C                    5\n",
       "Rust                 3\n",
       "Vue                  3\n",
       "R                    3\n",
       "PowerShell           2\n",
       "C#                   2\n",
       "Kotlin               2\n",
       "Groovy               2\n",
       "Shell                2\n",
       "Name: language, dtype: int64"
      ]
     },
     "execution_count": 7,
     "metadata": {},
     "output_type": "execute_result"
    }
   ],
   "source": [
    "# stratification base on language using train_test_split won't work unless we have more than one observation\n",
    "# per language\n",
    "df.language.value_counts()"
   ]
  },
  {
   "cell_type": "markdown",
   "metadata": {},
   "source": [
    "---\n",
    "## Model"
   ]
  },
  {
   "cell_type": "markdown",
   "metadata": {},
   "source": [
    "---\n",
    "### Outlier Detour"
   ]
  },
  {
   "cell_type": "code",
   "execution_count": 8,
   "metadata": {},
   "outputs": [],
   "source": [
    "# lemmas\n",
    "# list_of_readmes = df.clean_readme_contents.tolist()\n",
    "# list_of_readmes"
   ]
  },
  {
   "cell_type": "code",
   "execution_count": 9,
   "metadata": {},
   "outputs": [],
   "source": [
    "# for index in range(len(list_of_readmes)):\n",
    "#     list_of_readmes[index] = list_of_readmes[index].split()\n",
    "    \n",
    "\n",
    "# print(list_of_readmes)"
   ]
  },
  {
   "cell_type": "code",
   "execution_count": 10,
   "metadata": {},
   "outputs": [],
   "source": [
    "# list_of_list_of_lemmas = [lemma.split() for lemmas in list_of_lemmas]\n",
    "# list_of_list_of_lemmas"
   ]
  },
  {
   "cell_type": "code",
   "execution_count": 11,
   "metadata": {},
   "outputs": [],
   "source": [
    "# len(list_of_readmes[0])"
   ]
  },
  {
   "cell_type": "code",
   "execution_count": 12,
   "metadata": {},
   "outputs": [],
   "source": [
    "# len(list_of_readmes[-1])"
   ]
  },
  {
   "cell_type": "code",
   "execution_count": 13,
   "metadata": {},
   "outputs": [],
   "source": [
    "# len_of_readmes = [len(readme) for readme in list_of_readmes]\n",
    "# len_of_readmes"
   ]
  },
  {
   "cell_type": "code",
   "execution_count": 14,
   "metadata": {},
   "outputs": [],
   "source": [
    "# len_of_readmes.sort()"
   ]
  },
  {
   "cell_type": "code",
   "execution_count": 15,
   "metadata": {},
   "outputs": [],
   "source": [
    "# print(len_of_readmes)"
   ]
  },
  {
   "cell_type": "markdown",
   "metadata": {},
   "source": [
    "**Cutoff for length of words in readme = 10**"
   ]
  },
  {
   "cell_type": "code",
   "execution_count": 16,
   "metadata": {},
   "outputs": [
    {
     "data": {
      "text/plain": [
       "['smartthings public github repo official list smartapps device type smartthings link help get started coding right away githubspecific documentationhttpdocssmartthingscomenlatesttoolsandidegithubintegrationhtml full documentationhttpdocssmartthingscom ide simulatorhttpidesmartthingscom community forumshttpcommunitysmartthingscom follow u web twitter httptwittercomsmartthingsdev facebook httpfacebookcomsmartthingsdevelopers']"
      ]
     },
     "execution_count": 16,
     "metadata": {},
     "output_type": "execute_result"
    }
   ],
   "source": [
    "index_three_list = df[df.index == 3].clean_readme_contents.values.tolist()\n",
    "index_three_list"
   ]
  },
  {
   "cell_type": "code",
   "execution_count": 17,
   "metadata": {
    "scrolled": true
   },
   "outputs": [
    {
     "data": {
      "text/plain": [
       "3    32\n",
       "Name: len_of_clean_readme_contents, dtype: int64"
      ]
     },
     "execution_count": 17,
     "metadata": {},
     "output_type": "execute_result"
    }
   ],
   "source": [
    "df[df.index == 3].len_of_clean_readme_contents"
   ]
  },
  {
   "cell_type": "markdown",
   "metadata": {},
   "source": [
    "**len_of_clean_readme_contents seems to be working**"
   ]
  },
  {
   "cell_type": "code",
   "execution_count": 18,
   "metadata": {},
   "outputs": [
    {
     "data": {
      "text/plain": [
       "10       1\n",
       "13       2\n",
       "14       1\n",
       "30       2\n",
       "32       2\n",
       "        ..\n",
       "5682     1\n",
       "7278     1\n",
       "8039     1\n",
       "10293    1\n",
       "16635    1\n",
       "Name: len_of_clean_readme_contents, Length: 179, dtype: int64"
      ]
     },
     "execution_count": 18,
     "metadata": {},
     "output_type": "execute_result"
    }
   ],
   "source": [
    "df.len_of_clean_readme_contents.value_counts().sort_index()"
   ]
  },
  {
   "cell_type": "code",
   "execution_count": 19,
   "metadata": {},
   "outputs": [
    {
     "data": {
      "text/plain": [
       "(214, 5)"
      ]
     },
     "execution_count": 19,
     "metadata": {},
     "output_type": "execute_result"
    }
   ],
   "source": [
    "df.shape"
   ]
  },
  {
   "cell_type": "markdown",
   "metadata": {},
   "source": [
    "**225 observations before outlier removal; should have 219 after**"
   ]
  },
  {
   "cell_type": "markdown",
   "metadata": {},
   "source": [
    "**CHECK**"
   ]
  },
  {
   "cell_type": "markdown",
   "metadata": {},
   "source": [
    "---\n",
    "### Back on Model Track"
   ]
  },
  {
   "cell_type": "markdown",
   "metadata": {},
   "source": [
    "#### Train/Test Split"
   ]
  },
  {
   "cell_type": "code",
   "execution_count": 20,
   "metadata": {},
   "outputs": [
    {
     "name": "stdout",
     "output_type": "stream",
     "text": [
      "(214, 5)\n"
     ]
    },
    {
     "data": {
      "text/html": [
       "<div>\n",
       "<style scoped>\n",
       "    .dataframe tbody tr th:only-of-type {\n",
       "        vertical-align: middle;\n",
       "    }\n",
       "\n",
       "    .dataframe tbody tr th {\n",
       "        vertical-align: top;\n",
       "    }\n",
       "\n",
       "    .dataframe thead th {\n",
       "        text-align: right;\n",
       "    }\n",
       "</style>\n",
       "<table border=\"1\" class=\"dataframe\">\n",
       "  <thead>\n",
       "    <tr style=\"text-align: right;\">\n",
       "      <th></th>\n",
       "      <th>repo</th>\n",
       "      <th>language</th>\n",
       "      <th>readme_contents</th>\n",
       "      <th>clean_readme_contents</th>\n",
       "      <th>len_of_clean_readme_contents</th>\n",
       "    </tr>\n",
       "  </thead>\n",
       "  <tbody>\n",
       "    <tr>\n",
       "      <th>0</th>\n",
       "      <td>rdpeng/ProgrammingAssignment2</td>\n",
       "      <td>R</td>\n",
       "      <td>### Introduction\\n\\nThis second programming as...</td>\n",
       "      <td>introduction second programming assignment req...</td>\n",
       "      <td>332</td>\n",
       "    </tr>\n",
       "    <tr>\n",
       "      <th>1</th>\n",
       "      <td>octocat/Spoon-Knife</td>\n",
       "      <td>HTML</td>\n",
       "      <td>### Well hello there!\\n\\nThis repository is me...</td>\n",
       "      <td>well hello repository meant provide example fo...</td>\n",
       "      <td>62</td>\n",
       "    </tr>\n",
       "    <tr>\n",
       "      <th>2</th>\n",
       "      <td>tensorflow/tensorflow</td>\n",
       "      <td>C++</td>\n",
       "      <td>&lt;div align=\"center\"&gt;\\n  &lt;img src=\"https://www....</td>\n",
       "      <td>div aligncenter srchttpswwwtensorfloworgimages...</td>\n",
       "      <td>434</td>\n",
       "    </tr>\n",
       "    <tr>\n",
       "      <th>3</th>\n",
       "      <td>SmartThingsCommunity/SmartThingsPublic</td>\n",
       "      <td>Groovy</td>\n",
       "      <td># SmartThings Public GitHub Repo\\n\\nAn officia...</td>\n",
       "      <td>smartthings public github repo official list s...</td>\n",
       "      <td>32</td>\n",
       "    </tr>\n",
       "    <tr>\n",
       "      <th>4</th>\n",
       "      <td>twbs/bootstrap</td>\n",
       "      <td>JavaScript</td>\n",
       "      <td>&lt;p align=\"center\"&gt;\\n  &lt;a href=\"https://getboot...</td>\n",
       "      <td>p aligncenter hrefhttpsgetbootstrapcom srchttp...</td>\n",
       "      <td>567</td>\n",
       "    </tr>\n",
       "  </tbody>\n",
       "</table>\n",
       "</div>"
      ],
      "text/plain": [
       "                                     repo    language  \\\n",
       "0           rdpeng/ProgrammingAssignment2           R   \n",
       "1                     octocat/Spoon-Knife        HTML   \n",
       "2                   tensorflow/tensorflow         C++   \n",
       "3  SmartThingsCommunity/SmartThingsPublic      Groovy   \n",
       "4                          twbs/bootstrap  JavaScript   \n",
       "\n",
       "                                     readme_contents  \\\n",
       "0  ### Introduction\\n\\nThis second programming as...   \n",
       "1  ### Well hello there!\\n\\nThis repository is me...   \n",
       "2  <div align=\"center\">\\n  <img src=\"https://www....   \n",
       "3  # SmartThings Public GitHub Repo\\n\\nAn officia...   \n",
       "4  <p align=\"center\">\\n  <a href=\"https://getboot...   \n",
       "\n",
       "                               clean_readme_contents  \\\n",
       "0  introduction second programming assignment req...   \n",
       "1  well hello repository meant provide example fo...   \n",
       "2  div aligncenter srchttpswwwtensorfloworgimages...   \n",
       "3  smartthings public github repo official list s...   \n",
       "4  p aligncenter hrefhttpsgetbootstrapcom srchttp...   \n",
       "\n",
       "   len_of_clean_readme_contents  \n",
       "0                           332  \n",
       "1                            62  \n",
       "2                           434  \n",
       "3                            32  \n",
       "4                           567  "
      ]
     },
     "execution_count": 20,
     "metadata": {},
     "output_type": "execute_result"
    }
   ],
   "source": [
    "df = pr.wrangle_readme_data()\n",
    "print(df.shape)\n",
    "df.head()"
   ]
  },
  {
   "cell_type": "markdown",
   "metadata": {},
   "source": [
    "## Modeling\n",
    "\n",
    "Transform your documents into a form that can be used in a machine learning model. You should use the programming language of the repository as the label to predict.\n",
    "\n",
    "Try fitting several different models and using several different representations of the text (e.g. a simple bag of words, then also the TF-IDF values for each).\n",
    "\n",
    "Build a function that will take in the text of a README file, and tries to predict the programming language."
   ]
  },
  {
   "cell_type": "markdown",
   "metadata": {},
   "source": [
    "**CountVectorizer**"
   ]
  },
  {
   "cell_type": "code",
   "execution_count": 21,
   "metadata": {},
   "outputs": [],
   "source": [
    "# create cv object\n",
    "cv = CountVectorizer()"
   ]
  },
  {
   "cell_type": "code",
   "execution_count": 22,
   "metadata": {},
   "outputs": [],
   "source": [
    "# fit and use the cv object\n",
    "cv_bag_of_words = cv.fit_transform(df.clean_readme_contents)"
   ]
  },
  {
   "cell_type": "code",
   "execution_count": 23,
   "metadata": {},
   "outputs": [
    {
     "data": {
      "text/plain": [
       "<214x35012 sparse matrix of type '<class 'numpy.int64'>'\n",
       "\twith 76820 stored elements in Compressed Sparse Row format>"
      ]
     },
     "execution_count": 23,
     "metadata": {},
     "output_type": "execute_result"
    }
   ],
   "source": [
    "cv_bag_of_words"
   ]
  },
  {
   "cell_type": "markdown",
   "metadata": {},
   "source": [
    "**TF-IDF**"
   ]
  },
  {
   "cell_type": "code",
   "execution_count": 24,
   "metadata": {},
   "outputs": [],
   "source": [
    "# create tfidf vectorizer object\n",
    "tfidf = TfidfVectorizer()"
   ]
  },
  {
   "cell_type": "code",
   "execution_count": 25,
   "metadata": {},
   "outputs": [],
   "source": [
    "tfidf_bag_of_words = tfidf.fit_transform(df.clean_readme_contents)"
   ]
  },
  {
   "cell_type": "code",
   "execution_count": 26,
   "metadata": {},
   "outputs": [
    {
     "data": {
      "text/plain": [
       "<214x35012 sparse matrix of type '<class 'numpy.float64'>'\n",
       "\twith 76820 stored elements in Compressed Sparse Row format>"
      ]
     },
     "execution_count": 26,
     "metadata": {},
     "output_type": "execute_result"
    }
   ],
   "source": [
    "tfidf_bag_of_words"
   ]
  },
  {
   "cell_type": "markdown",
   "metadata": {},
   "source": [
    "**CountVectorizer Bag of Bigrams**"
   ]
  },
  {
   "cell_type": "code",
   "execution_count": 27,
   "metadata": {},
   "outputs": [],
   "source": [
    "# create cv for bigrams\n",
    "cv_bigrams = CountVectorizer(ngram_range=(2, 2))"
   ]
  },
  {
   "cell_type": "code",
   "execution_count": 28,
   "metadata": {},
   "outputs": [],
   "source": [
    "cv_bag_of_bigrams = cv_bigrams.fit_transform(df.clean_readme_contents)"
   ]
  },
  {
   "cell_type": "code",
   "execution_count": 29,
   "metadata": {},
   "outputs": [
    {
     "data": {
      "text/plain": [
       "<214x116381 sparse matrix of type '<class 'numpy.int64'>'\n",
       "\twith 136876 stored elements in Compressed Sparse Row format>"
      ]
     },
     "execution_count": 29,
     "metadata": {},
     "output_type": "execute_result"
    }
   ],
   "source": [
    "cv_bag_of_bigrams"
   ]
  },
  {
   "cell_type": "markdown",
   "metadata": {},
   "source": [
    "**TF-IDF Bag of Bigrams**"
   ]
  },
  {
   "cell_type": "code",
   "execution_count": 30,
   "metadata": {},
   "outputs": [],
   "source": [
    "tfidf_bigrams = TfidfVectorizer(ngram_range=(2, 2))"
   ]
  },
  {
   "cell_type": "code",
   "execution_count": 31,
   "metadata": {},
   "outputs": [],
   "source": [
    "tfidf_bag_of_bigrams = tfidf_bigrams.fit_transform(df.clean_readme_contents)"
   ]
  },
  {
   "cell_type": "code",
   "execution_count": 32,
   "metadata": {},
   "outputs": [
    {
     "data": {
      "text/plain": [
       "<214x116381 sparse matrix of type '<class 'numpy.float64'>'\n",
       "\twith 136876 stored elements in Compressed Sparse Row format>"
      ]
     },
     "execution_count": 32,
     "metadata": {},
     "output_type": "execute_result"
    }
   ],
   "source": [
    "tfidf_bag_of_bigrams"
   ]
  },
  {
   "cell_type": "markdown",
   "metadata": {},
   "source": [
    "___"
   ]
  },
  {
   "cell_type": "code",
   "execution_count": 33,
   "metadata": {},
   "outputs": [],
   "source": [
    "# establish features and target for CountVectorizer model\n",
    "X = cv.fit_transform(df.clean_readme_contents)\n",
    "y = df.language"
   ]
  },
  {
   "cell_type": "code",
   "execution_count": 34,
   "metadata": {},
   "outputs": [],
   "source": [
    "X_train, X_test, y_train, y_test = pp.split_repo_data(X, y)"
   ]
  },
  {
   "cell_type": "code",
   "execution_count": 35,
   "metadata": {
    "scrolled": true
   },
   "outputs": [
    {
     "name": "stdout",
     "output_type": "stream",
     "text": [
      "(171, 35012)\n",
      "(171,)\n",
      "0.7990654205607477\n",
      "0.7990654205607477\n"
     ]
    }
   ],
   "source": [
    "print(X_train.shape)\n",
    "print(y_train.shape)\n",
    "print(X_train.shape[0]/df.shape[0])\n",
    "print(y_train.shape[0]/df.shape[0])"
   ]
  },
  {
   "cell_type": "code",
   "execution_count": 36,
   "metadata": {},
   "outputs": [
    {
     "name": "stdout",
     "output_type": "stream",
     "text": [
      "(43, 35012)\n",
      "(43,)\n",
      "0.20093457943925233\n",
      "0.20093457943925233\n"
     ]
    }
   ],
   "source": [
    "print(X_test.shape)\n",
    "print(y_test.shape)\n",
    "print(X_test.shape[0]/df.shape[0])\n",
    "print(y_test.shape[0]/df.shape[0])"
   ]
  },
  {
   "cell_type": "code",
   "execution_count": 37,
   "metadata": {},
   "outputs": [
    {
     "data": {
      "text/html": [
       "<div>\n",
       "<style scoped>\n",
       "    .dataframe tbody tr th:only-of-type {\n",
       "        vertical-align: middle;\n",
       "    }\n",
       "\n",
       "    .dataframe tbody tr th {\n",
       "        vertical-align: top;\n",
       "    }\n",
       "\n",
       "    .dataframe thead th {\n",
       "        text-align: right;\n",
       "    }\n",
       "</style>\n",
       "<table border=\"1\" class=\"dataframe\">\n",
       "  <thead>\n",
       "    <tr style=\"text-align: right;\">\n",
       "      <th></th>\n",
       "      <th>000</th>\n",
       "      <th>0000</th>\n",
       "      <th>00000</th>\n",
       "      <th>00042</th>\n",
       "      <th>001</th>\n",
       "      <th>002</th>\n",
       "      <th>003</th>\n",
       "      <th>006</th>\n",
       "      <th>007231863956341798</th>\n",
       "      <th>00d2d2</th>\n",
       "      <th>...</th>\n",
       "      <th>zxingbased</th>\n",
       "      <th>zxingcpphttpsgithubcomglassechidnazxingcpp</th>\n",
       "      <th>zxingcpprbhttpsgithubcomglassechidnazxingcpprb</th>\n",
       "      <th>zxingjslibraryhttpsgithubcomzxingjslibrary</th>\n",
       "      <th>zxingnet</th>\n",
       "      <th>zxingobjchttpsgithubcomthelevelupzxingobjc</th>\n",
       "      <th>zxingorg</th>\n",
       "      <th>zynga</th>\n",
       "      <th>zypper</th>\n",
       "      <th>zyszyshttpsgithubcomzyszys</th>\n",
       "    </tr>\n",
       "  </thead>\n",
       "  <tbody>\n",
       "    <tr>\n",
       "      <th>0</th>\n",
       "      <td>0</td>\n",
       "      <td>0</td>\n",
       "      <td>0</td>\n",
       "      <td>0</td>\n",
       "      <td>0</td>\n",
       "      <td>0</td>\n",
       "      <td>0</td>\n",
       "      <td>0</td>\n",
       "      <td>0</td>\n",
       "      <td>0</td>\n",
       "      <td>...</td>\n",
       "      <td>0</td>\n",
       "      <td>0</td>\n",
       "      <td>0</td>\n",
       "      <td>0</td>\n",
       "      <td>0</td>\n",
       "      <td>0</td>\n",
       "      <td>0</td>\n",
       "      <td>0</td>\n",
       "      <td>0</td>\n",
       "      <td>0</td>\n",
       "    </tr>\n",
       "    <tr>\n",
       "      <th>1</th>\n",
       "      <td>0</td>\n",
       "      <td>0</td>\n",
       "      <td>0</td>\n",
       "      <td>0</td>\n",
       "      <td>0</td>\n",
       "      <td>0</td>\n",
       "      <td>0</td>\n",
       "      <td>0</td>\n",
       "      <td>0</td>\n",
       "      <td>0</td>\n",
       "      <td>...</td>\n",
       "      <td>0</td>\n",
       "      <td>0</td>\n",
       "      <td>0</td>\n",
       "      <td>0</td>\n",
       "      <td>0</td>\n",
       "      <td>0</td>\n",
       "      <td>0</td>\n",
       "      <td>0</td>\n",
       "      <td>0</td>\n",
       "      <td>0</td>\n",
       "    </tr>\n",
       "    <tr>\n",
       "      <th>2</th>\n",
       "      <td>0</td>\n",
       "      <td>0</td>\n",
       "      <td>0</td>\n",
       "      <td>0</td>\n",
       "      <td>0</td>\n",
       "      <td>0</td>\n",
       "      <td>0</td>\n",
       "      <td>0</td>\n",
       "      <td>0</td>\n",
       "      <td>0</td>\n",
       "      <td>...</td>\n",
       "      <td>0</td>\n",
       "      <td>0</td>\n",
       "      <td>0</td>\n",
       "      <td>0</td>\n",
       "      <td>0</td>\n",
       "      <td>0</td>\n",
       "      <td>0</td>\n",
       "      <td>0</td>\n",
       "      <td>0</td>\n",
       "      <td>0</td>\n",
       "    </tr>\n",
       "    <tr>\n",
       "      <th>3</th>\n",
       "      <td>0</td>\n",
       "      <td>0</td>\n",
       "      <td>0</td>\n",
       "      <td>0</td>\n",
       "      <td>0</td>\n",
       "      <td>0</td>\n",
       "      <td>0</td>\n",
       "      <td>0</td>\n",
       "      <td>0</td>\n",
       "      <td>0</td>\n",
       "      <td>...</td>\n",
       "      <td>0</td>\n",
       "      <td>0</td>\n",
       "      <td>0</td>\n",
       "      <td>0</td>\n",
       "      <td>0</td>\n",
       "      <td>0</td>\n",
       "      <td>0</td>\n",
       "      <td>0</td>\n",
       "      <td>0</td>\n",
       "      <td>0</td>\n",
       "    </tr>\n",
       "    <tr>\n",
       "      <th>4</th>\n",
       "      <td>0</td>\n",
       "      <td>0</td>\n",
       "      <td>0</td>\n",
       "      <td>0</td>\n",
       "      <td>0</td>\n",
       "      <td>0</td>\n",
       "      <td>0</td>\n",
       "      <td>0</td>\n",
       "      <td>0</td>\n",
       "      <td>0</td>\n",
       "      <td>...</td>\n",
       "      <td>0</td>\n",
       "      <td>0</td>\n",
       "      <td>0</td>\n",
       "      <td>0</td>\n",
       "      <td>0</td>\n",
       "      <td>0</td>\n",
       "      <td>0</td>\n",
       "      <td>0</td>\n",
       "      <td>0</td>\n",
       "      <td>0</td>\n",
       "    </tr>\n",
       "  </tbody>\n",
       "</table>\n",
       "<p>5 rows × 35012 columns</p>\n",
       "</div>"
      ],
      "text/plain": [
       "   000  0000  00000  00042  001  002  003  006  007231863956341798  00d2d2  \\\n",
       "0    0     0      0      0    0    0    0    0                   0       0   \n",
       "1    0     0      0      0    0    0    0    0                   0       0   \n",
       "2    0     0      0      0    0    0    0    0                   0       0   \n",
       "3    0     0      0      0    0    0    0    0                   0       0   \n",
       "4    0     0      0      0    0    0    0    0                   0       0   \n",
       "\n",
       "   ...  zxingbased  zxingcpphttpsgithubcomglassechidnazxingcpp  \\\n",
       "0  ...           0                                           0   \n",
       "1  ...           0                                           0   \n",
       "2  ...           0                                           0   \n",
       "3  ...           0                                           0   \n",
       "4  ...           0                                           0   \n",
       "\n",
       "   zxingcpprbhttpsgithubcomglassechidnazxingcpprb  \\\n",
       "0                                               0   \n",
       "1                                               0   \n",
       "2                                               0   \n",
       "3                                               0   \n",
       "4                                               0   \n",
       "\n",
       "   zxingjslibraryhttpsgithubcomzxingjslibrary  zxingnet  \\\n",
       "0                                           0         0   \n",
       "1                                           0         0   \n",
       "2                                           0         0   \n",
       "3                                           0         0   \n",
       "4                                           0         0   \n",
       "\n",
       "   zxingobjchttpsgithubcomthelevelupzxingobjc  zxingorg  zynga  zypper  \\\n",
       "0                                           0         0      0       0   \n",
       "1                                           0         0      0       0   \n",
       "2                                           0         0      0       0   \n",
       "3                                           0         0      0       0   \n",
       "4                                           0         0      0       0   \n",
       "\n",
       "   zyszyshttpsgithubcomzyszys  \n",
       "0                           0  \n",
       "1                           0  \n",
       "2                           0  \n",
       "3                           0  \n",
       "4                           0  \n",
       "\n",
       "[5 rows x 35012 columns]"
      ]
     },
     "execution_count": 37,
     "metadata": {},
     "output_type": "execute_result"
    }
   ],
   "source": [
    "pd.DataFrame(X_train[:5, :].todense(), columns=cv.get_feature_names())"
   ]
  },
  {
   "cell_type": "markdown",
   "metadata": {},
   "source": [
    "**Model #1: Standard CV**"
   ]
  },
  {
   "cell_type": "code",
   "execution_count": 38,
   "metadata": {},
   "outputs": [],
   "source": [
    "# create evaluation DataFrame\n",
    "evaluation = pd.DataFrame(columns=[\"model_type\", \"accuracy\"])"
   ]
  },
  {
   "cell_type": "code",
   "execution_count": 39,
   "metadata": {},
   "outputs": [
    {
     "name": "stdout",
     "output_type": "stream",
     "text": [
      "CV model accuracy score = 0.626\n"
     ]
    }
   ],
   "source": [
    "# create model object\n",
    "tree = DecisionTreeClassifier(max_depth=5, random_state=56)\n",
    "\n",
    "# fit model object\n",
    "tree.fit(X_train, y_train)\n",
    "\n",
    "# accuracy score\n",
    "print(f\"CV model accuracy score = {tree.score(X_train, y_train):.3}\")\n",
    "\n",
    "# append evaluation\n",
    "evaluation = ev.append_evaluation(evaluation, model_type=\"CV Gini, 5\", model_object=tree, X=X_train, y=y_train)"
   ]
  },
  {
   "cell_type": "markdown",
   "metadata": {},
   "source": [
    "**Model #2: TF-IDF**"
   ]
  },
  {
   "cell_type": "code",
   "execution_count": 40,
   "metadata": {},
   "outputs": [
    {
     "name": "stdout",
     "output_type": "stream",
     "text": [
      "TF-IDF model accuracy score = 0.602\n"
     ]
    }
   ],
   "source": [
    "# establish features and target for tfidf model\n",
    "\n",
    "# create tfidf vectorizer object\n",
    "tfidf = TfidfVectorizer()\n",
    "\n",
    "# use tfidf object to create model features\n",
    "X = tfidf.fit_transform(df.clean_readme_contents)\n",
    "\n",
    "# establish model target\n",
    "y = df.language\n",
    "\n",
    "# split data\n",
    "X_train, X_test, y_train, y_test = pp.split_repo_data(X, y)\n",
    "\n",
    "# create model object\n",
    "tree = DecisionTreeClassifier(max_depth=5, random_state=56)\n",
    "\n",
    "# fit model object\n",
    "tree.fit(X_train, y_train)\n",
    "\n",
    "# accuracy score\n",
    "print(f\"TF-IDF model accuracy score = {tree.score(X_train, y_train):.3}\")\n",
    "\n",
    "# append evaluation\n",
    "evaluation = ev.append_evaluation(evaluation, model_type=\"TF-IDF Gini, 5\", model_object=tree, X=X_train, y=y_train)"
   ]
  },
  {
   "cell_type": "markdown",
   "metadata": {},
   "source": [
    "**Model #3: CV Bigrams**"
   ]
  },
  {
   "cell_type": "code",
   "execution_count": 41,
   "metadata": {},
   "outputs": [
    {
     "name": "stdout",
     "output_type": "stream",
     "text": [
      "CV Bigrams model accuracy score = 0.386\n"
     ]
    }
   ],
   "source": [
    "# establish features and target for cv model\n",
    "\n",
    "# create cv_bigrams vectorizer object\n",
    "cv_bigrams = CountVectorizer(ngram_range=(2, 2))\n",
    "\n",
    "# use tfidf object to create model features\n",
    "X = cv_bigrams.fit_transform(df.clean_readme_contents)\n",
    "\n",
    "# establish model target\n",
    "y = df.language\n",
    "\n",
    "# split data\n",
    "X_train, X_test, y_train, y_test = pp.split_repo_data(X, y)\n",
    "\n",
    "# create model object\n",
    "tree = DecisionTreeClassifier(max_depth=5, random_state=56)\n",
    "\n",
    "# fit model object\n",
    "tree.fit(X_train, y_train)\n",
    "\n",
    "# accuracy score\n",
    "print(f\"CV Bigrams model accuracy score = {tree.score(X_train, y_train):.3}\")\n",
    "\n",
    "# append evaluation\n",
    "evaluation = ev.append_evaluation(evaluation, model_type=\"CV Bigrams Gini, 5\", model_object=tree, X=X_train, y=y_train)"
   ]
  },
  {
   "cell_type": "markdown",
   "metadata": {},
   "source": [
    "**Model #4: TF-IDF Bigrams**"
   ]
  },
  {
   "cell_type": "code",
   "execution_count": 42,
   "metadata": {},
   "outputs": [
    {
     "name": "stdout",
     "output_type": "stream",
     "text": [
      "TF-IDF Bigrams model accuracy score = 0.386\n"
     ]
    }
   ],
   "source": [
    "# establish features and target for tfidf model\n",
    "\n",
    "# create cv_bigrams vectorizer object\n",
    "tfidf_bigrams = TfidfVectorizer(ngram_range=(2, 2))\n",
    "\n",
    "# use tfidf object to create model features\n",
    "X = tfidf_bigrams.fit_transform(df.clean_readme_contents)\n",
    "\n",
    "# establish model target\n",
    "y = df.language\n",
    "\n",
    "# split data\n",
    "X_train, X_test, y_train, y_test = pp.split_repo_data(X, y)\n",
    "\n",
    "# create model object\n",
    "tree = DecisionTreeClassifier(max_depth=5, random_state=56)\n",
    "\n",
    "# fit model object\n",
    "tree.fit(X_train, y_train)\n",
    "\n",
    "# accuracy score\n",
    "print(f\"TF-IDF Bigrams model accuracy score = {tree.score(X_train, y_train):.3}\")\n",
    "\n",
    "# append evaluation\n",
    "evaluation = ev.append_evaluation(evaluation, model_type=\"TF-IDF Bigrams Gini, 5\", model_object=tree, X=X_train, y=y_train)"
   ]
  },
  {
   "cell_type": "markdown",
   "metadata": {},
   "source": [
    "**Model #5: TF-IDF Unigrams & Bigrams**"
   ]
  },
  {
   "cell_type": "code",
   "execution_count": 43,
   "metadata": {},
   "outputs": [
    {
     "name": "stdout",
     "output_type": "stream",
     "text": [
      "TF-IDF Unigrams & Bigrams model accuracy score = 0.591\n"
     ]
    }
   ],
   "source": [
    "# establish features and target for tfidf model\n",
    "\n",
    "# create cv_bigrams vectorizer object\n",
    "tfidf_unigrams_and_bigrams = TfidfVectorizer(ngram_range=(1, 2))\n",
    "\n",
    "# use tfidf object to create model features\n",
    "X = tfidf_unigrams_and_bigrams.fit_transform(df.clean_readme_contents)\n",
    "\n",
    "# establish model target\n",
    "y = df.language\n",
    "\n",
    "# split data\n",
    "X_train, X_test, y_train, y_test = pp.split_repo_data(X, y)\n",
    "\n",
    "# create model object\n",
    "tree = DecisionTreeClassifier(max_depth=5, random_state=56)\n",
    "\n",
    "# fit model object\n",
    "tree.fit(X_train, y_train)\n",
    "\n",
    "# accuracy score\n",
    "print(f\"TF-IDF Unigrams & Bigrams model accuracy score = {tree.score(X_train, y_train):.3}\")\n",
    "\n",
    "# append evaluation\n",
    "evaluation = ev.append_evaluation(evaluation, model_type=\"TF-IDF Unigrams & Bigrams Gini, 5\", model_object=tree, X=X_train, y=y_train)"
   ]
  },
  {
   "cell_type": "markdown",
   "metadata": {},
   "source": [
    "---\n",
    "\n",
    "**Create a function to append evaluation metrics (accuracy) to evaluation dataframe**\n",
    "\n",
    "\n",
    "**CHECK**\n",
    "\n",
    "---"
   ]
  },
  {
   "cell_type": "markdown",
   "metadata": {},
   "source": [
    "**Model #6: TF-IDF Logistic Regression**"
   ]
  },
  {
   "cell_type": "code",
   "execution_count": 44,
   "metadata": {},
   "outputs": [
    {
     "name": "stdout",
     "output_type": "stream",
     "text": [
      "TF-IDF Logistic Regression model accuracy score in-sample data = 0.667\n"
     ]
    }
   ],
   "source": [
    "# establish features and target for tfidf logit model\n",
    "\n",
    "# create cv_bigrams vectorizer object\n",
    "tfidf = TfidfVectorizer()\n",
    "\n",
    "# use tfidf object to create model features\n",
    "X = tfidf.fit_transform(df.clean_readme_contents)\n",
    "\n",
    "# establish model target\n",
    "y = df.language\n",
    "\n",
    "# split data\n",
    "X_train, X_test, y_train, y_test = pp.split_repo_data(X, y)\n",
    "\n",
    "# create model object\n",
    "logit = LogisticRegression(random_state=56)\n",
    "\n",
    "# fit model object\n",
    "logit.fit(X_train, y_train)\n",
    "\n",
    "# accuracy score\n",
    "print(f\"TF-IDF Logistic Regression model accuracy score in-sample data = {logit.score(X_train, y_train):.3}\")\n",
    "\n",
    "# append evaluation\n",
    "evaluation = ev.append_evaluation(evaluation, model_type=\"TF-IDF Logistic Regression\", model_object=logit, X=X_train, y=y_train)"
   ]
  },
  {
   "cell_type": "markdown",
   "metadata": {},
   "source": [
    "**Model #7: TF-IDF Hyperparameters**"
   ]
  },
  {
   "cell_type": "code",
   "execution_count": 45,
   "metadata": {},
   "outputs": [
    {
     "name": "stdout",
     "output_type": "stream",
     "text": [
      "TF-IDF Hyperparameters model accuracy score for in-sample data = 0.644\n"
     ]
    }
   ],
   "source": [
    "# establish features and target for tfidf model\n",
    "\n",
    "# create tfidf vectorizer object\n",
    "tfidf = TfidfVectorizer()\n",
    "\n",
    "# use tfidf object to create model features\n",
    "X = tfidf.fit_transform(df.clean_readme_contents)\n",
    "\n",
    "# establish model target\n",
    "y = df.language\n",
    "\n",
    "# split data\n",
    "X_train, X_test, y_train, y_test = pp.split_repo_data(X, y, train_size=.7, test_size=.3)\n",
    "\n",
    "# create model object\n",
    "tree = DecisionTreeClassifier(criterion=\"entropy\", max_depth=5, min_samples_leaf=2,random_state=56)\n",
    "\n",
    "# fit model object\n",
    "tree.fit(X_train, y_train)\n",
    "\n",
    "# accuracy score\n",
    "print(f\"TF-IDF Hyperparameters model accuracy score for in-sample data = {tree.score(X_train, y_train):.3}\")\n",
    "\n",
    "# append evaluation\n",
    "evaluation = ev.append_evaluation(evaluation, model_type=\"TF-IDF Entropy, 5, 2, Train 70%\", model_object=tree, X=X_train, y=y_train)"
   ]
  },
  {
   "cell_type": "code",
   "execution_count": 46,
   "metadata": {},
   "outputs": [
    {
     "data": {
      "text/html": [
       "<div>\n",
       "<style scoped>\n",
       "    .dataframe tbody tr th:only-of-type {\n",
       "        vertical-align: middle;\n",
       "    }\n",
       "\n",
       "    .dataframe tbody tr th {\n",
       "        vertical-align: top;\n",
       "    }\n",
       "\n",
       "    .dataframe thead th {\n",
       "        text-align: right;\n",
       "    }\n",
       "</style>\n",
       "<table border=\"1\" class=\"dataframe\">\n",
       "  <thead>\n",
       "    <tr style=\"text-align: right;\">\n",
       "      <th></th>\n",
       "      <th>model_type</th>\n",
       "      <th>accuracy</th>\n",
       "    </tr>\n",
       "  </thead>\n",
       "  <tbody>\n",
       "    <tr>\n",
       "      <th>5</th>\n",
       "      <td>TF-IDF Logistic Regression</td>\n",
       "      <td>0.666667</td>\n",
       "    </tr>\n",
       "    <tr>\n",
       "      <th>6</th>\n",
       "      <td>TF-IDF Entropy, 5, 2, Train 70%</td>\n",
       "      <td>0.644295</td>\n",
       "    </tr>\n",
       "    <tr>\n",
       "      <th>0</th>\n",
       "      <td>CV Gini, 5</td>\n",
       "      <td>0.625731</td>\n",
       "    </tr>\n",
       "    <tr>\n",
       "      <th>1</th>\n",
       "      <td>TF-IDF Gini, 5</td>\n",
       "      <td>0.602339</td>\n",
       "    </tr>\n",
       "    <tr>\n",
       "      <th>4</th>\n",
       "      <td>TF-IDF Unigrams &amp; Bigrams Gini, 5</td>\n",
       "      <td>0.590643</td>\n",
       "    </tr>\n",
       "    <tr>\n",
       "      <th>2</th>\n",
       "      <td>CV Bigrams Gini, 5</td>\n",
       "      <td>0.385965</td>\n",
       "    </tr>\n",
       "    <tr>\n",
       "      <th>3</th>\n",
       "      <td>TF-IDF Bigrams Gini, 5</td>\n",
       "      <td>0.385965</td>\n",
       "    </tr>\n",
       "  </tbody>\n",
       "</table>\n",
       "</div>"
      ],
      "text/plain": [
       "                          model_type  accuracy\n",
       "5         TF-IDF Logistic Regression  0.666667\n",
       "6    TF-IDF Entropy, 5, 2, Train 70%  0.644295\n",
       "0                         CV Gini, 5  0.625731\n",
       "1                     TF-IDF Gini, 5  0.602339\n",
       "4  TF-IDF Unigrams & Bigrams Gini, 5  0.590643\n",
       "2                 CV Bigrams Gini, 5  0.385965\n",
       "3             TF-IDF Bigrams Gini, 5  0.385965"
      ]
     },
     "execution_count": 46,
     "metadata": {},
     "output_type": "execute_result"
    }
   ],
   "source": [
    "evaluation.sort_values(by=\"accuracy\", ascending=False)"
   ]
  },
  {
   "cell_type": "markdown",
   "metadata": {},
   "source": [
    "---\n",
    "**What words are appearing most frequently depending on language?**\n",
    "\n",
    "---"
   ]
  },
  {
   "cell_type": "markdown",
   "metadata": {},
   "source": [
    "**Check out min_leaf_samples hyperparameter**"
   ]
  },
  {
   "cell_type": "markdown",
   "metadata": {},
   "source": [
    "### Stratification Detour"
   ]
  },
  {
   "cell_type": "code",
   "execution_count": 47,
   "metadata": {},
   "outputs": [],
   "source": [
    "# df.shape"
   ]
  },
  {
   "cell_type": "code",
   "execution_count": 48,
   "metadata": {},
   "outputs": [],
   "source": [
    "# df.language.value_counts() >= 2"
   ]
  },
  {
   "cell_type": "code",
   "execution_count": 49,
   "metadata": {},
   "outputs": [],
   "source": [
    "# df.groupby('language').filter(lambda x : len(x) >= 2)"
   ]
  },
  {
   "cell_type": "code",
   "execution_count": 50,
   "metadata": {},
   "outputs": [],
   "source": [
    "# df.groupby(\"language\").language.agg([\"count\"]).sort_values(by=\"count\") "
   ]
  },
  {
   "cell_type": "code",
   "execution_count": 51,
   "metadata": {},
   "outputs": [],
   "source": [
    "# df[df.groupby(\"language\").language.transform(\"count\") >= 2]"
   ]
  },
  {
   "cell_type": "code",
   "execution_count": 52,
   "metadata": {},
   "outputs": [],
   "source": [
    "# df = df[df.groupby(\"language\").language.transform(\"count\") >= 2]"
   ]
  },
  {
   "cell_type": "code",
   "execution_count": 53,
   "metadata": {},
   "outputs": [],
   "source": [
    "# df[df.language == \"ApacheConf\"]"
   ]
  },
  {
   "cell_type": "code",
   "execution_count": null,
   "metadata": {},
   "outputs": [],
   "source": []
  }
 ],
 "metadata": {
  "kernelspec": {
   "display_name": "Python 3",
   "language": "python",
   "name": "python3"
  },
  "language_info": {
   "codemirror_mode": {
    "name": "ipython",
    "version": 3
   },
   "file_extension": ".py",
   "mimetype": "text/x-python",
   "name": "python",
   "nbconvert_exporter": "python",
   "pygments_lexer": "ipython3",
   "version": "3.7.4"
  }
 },
 "nbformat": 4,
 "nbformat_minor": 2
}
