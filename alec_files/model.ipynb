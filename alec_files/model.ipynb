{
 "cells": [
  {
   "cell_type": "code",
   "execution_count": 1,
   "metadata": {},
   "outputs": [],
   "source": [
    "import numpy as np\n",
    "import pandas as pd\n",
    "\n",
    "import unicodedata\n",
    "\n",
    "import re\n",
    "\n",
    "import json\n",
    "\n",
    "import nltk\n",
    "from nltk.tokenize.toktok import ToktokTokenizer\n",
    "from nltk.corpus import stopwords\n",
    "\n",
    "import acquire as ac\n",
    "import prepare as pr"
   ]
  },
  {
   "cell_type": "code",
   "execution_count": 2,
   "metadata": {},
   "outputs": [
    {
     "data": {
      "text/html": [
       "<div>\n",
       "<style scoped>\n",
       "    .dataframe tbody tr th:only-of-type {\n",
       "        vertical-align: middle;\n",
       "    }\n",
       "\n",
       "    .dataframe tbody tr th {\n",
       "        vertical-align: top;\n",
       "    }\n",
       "\n",
       "    .dataframe thead th {\n",
       "        text-align: right;\n",
       "    }\n",
       "</style>\n",
       "<table border=\"1\" class=\"dataframe\">\n",
       "  <thead>\n",
       "    <tr style=\"text-align: right;\">\n",
       "      <th></th>\n",
       "      <th>repo</th>\n",
       "      <th>language</th>\n",
       "      <th>readme_contents</th>\n",
       "      <th>clean_readme_contents</th>\n",
       "    </tr>\n",
       "  </thead>\n",
       "  <tbody>\n",
       "    <tr>\n",
       "      <th>0</th>\n",
       "      <td>rdpeng/ProgrammingAssignment2</td>\n",
       "      <td>R</td>\n",
       "      <td>### Introduction\\n\\nThis second programming as...</td>\n",
       "      <td>introduction second programming assignment req...</td>\n",
       "    </tr>\n",
       "    <tr>\n",
       "      <th>1</th>\n",
       "      <td>octocat/Spoon-Knife</td>\n",
       "      <td>HTML</td>\n",
       "      <td>### Well hello there!\\n\\nThis repository is me...</td>\n",
       "      <td>well hello repository meant provide example fo...</td>\n",
       "    </tr>\n",
       "    <tr>\n",
       "      <th>2</th>\n",
       "      <td>tensorflow/tensorflow</td>\n",
       "      <td>C++</td>\n",
       "      <td>&lt;div align=\"center\"&gt;\\n  &lt;img src=\"https://www....</td>\n",
       "      <td>div aligncenter img srchttpswwwtensorfloworgim...</td>\n",
       "    </tr>\n",
       "    <tr>\n",
       "      <th>3</th>\n",
       "      <td>SmartThingsCommunity/SmartThingsPublic</td>\n",
       "      <td>Groovy</td>\n",
       "      <td># SmartThings Public GitHub Repo\\n\\nAn officia...</td>\n",
       "      <td>smartthings public github repo official list s...</td>\n",
       "    </tr>\n",
       "    <tr>\n",
       "      <th>4</th>\n",
       "      <td>twbs/bootstrap</td>\n",
       "      <td>JavaScript</td>\n",
       "      <td>&lt;p align=\"center\"&gt;\\n  &lt;a href=\"https://getboot...</td>\n",
       "      <td>p aligncenter hrefhttpsgetbootstrapcom img src...</td>\n",
       "    </tr>\n",
       "    <tr>\n",
       "      <th>...</th>\n",
       "      <td>...</td>\n",
       "      <td>...</td>\n",
       "      <td>...</td>\n",
       "      <td>...</td>\n",
       "    </tr>\n",
       "    <tr>\n",
       "      <th>220</th>\n",
       "      <td>akveo/ngx-admin</td>\n",
       "      <td>TypeScript</td>\n",
       "      <td># ngx-admin [&lt;img src=\"https://i.imgur.com/oMc...</td>\n",
       "      <td>ngxadmin img srchttpsiimgurcomomcxwz0png altev...</td>\n",
       "    </tr>\n",
       "    <tr>\n",
       "      <th>221</th>\n",
       "      <td>swirldev/swirl_courses</td>\n",
       "      <td>R</td>\n",
       "      <td># swirl courses\\n\\nThis is a collection of int...</td>\n",
       "      <td>swirl course collection interactive course use...</td>\n",
       "    </tr>\n",
       "    <tr>\n",
       "      <th>222</th>\n",
       "      <td>jrowberg/i2cdevlib</td>\n",
       "      <td>C++</td>\n",
       "      <td>Jennic platform added!\\n\\n====================...</td>\n",
       "      <td>jennic platform added note detail project plea...</td>\n",
       "    </tr>\n",
       "    <tr>\n",
       "      <th>223</th>\n",
       "      <td>etcd-io/etcd</td>\n",
       "      <td>Go</td>\n",
       "      <td># etcd\\n\\n[![Go Report Card](https://goreportc...</td>\n",
       "      <td>etcd go report cardhttpsgoreportcardcombadgegi...</td>\n",
       "    </tr>\n",
       "    <tr>\n",
       "      <th>224</th>\n",
       "      <td>sahat/hackathon-starter</td>\n",
       "      <td>JavaScript</td>\n",
       "      <td>![](https://lh4.googleusercontent.com/-PVw-ZUM...</td>\n",
       "      <td>httpslh4googleusercontentcompvwzum9vv8uuweh51o...</td>\n",
       "    </tr>\n",
       "  </tbody>\n",
       "</table>\n",
       "<p>225 rows × 4 columns</p>\n",
       "</div>"
      ],
      "text/plain": [
       "                                       repo    language  \\\n",
       "0             rdpeng/ProgrammingAssignment2           R   \n",
       "1                       octocat/Spoon-Knife        HTML   \n",
       "2                     tensorflow/tensorflow         C++   \n",
       "3    SmartThingsCommunity/SmartThingsPublic      Groovy   \n",
       "4                            twbs/bootstrap  JavaScript   \n",
       "..                                      ...         ...   \n",
       "220                         akveo/ngx-admin  TypeScript   \n",
       "221                  swirldev/swirl_courses           R   \n",
       "222                      jrowberg/i2cdevlib         C++   \n",
       "223                            etcd-io/etcd          Go   \n",
       "224                 sahat/hackathon-starter  JavaScript   \n",
       "\n",
       "                                       readme_contents  \\\n",
       "0    ### Introduction\\n\\nThis second programming as...   \n",
       "1    ### Well hello there!\\n\\nThis repository is me...   \n",
       "2    <div align=\"center\">\\n  <img src=\"https://www....   \n",
       "3    # SmartThings Public GitHub Repo\\n\\nAn officia...   \n",
       "4    <p align=\"center\">\\n  <a href=\"https://getboot...   \n",
       "..                                                 ...   \n",
       "220  # ngx-admin [<img src=\"https://i.imgur.com/oMc...   \n",
       "221  # swirl courses\\n\\nThis is a collection of int...   \n",
       "222  Jennic platform added!\\n\\n====================...   \n",
       "223  # etcd\\n\\n[![Go Report Card](https://goreportc...   \n",
       "224  ![](https://lh4.googleusercontent.com/-PVw-ZUM...   \n",
       "\n",
       "                                 clean_readme_contents  \n",
       "0    introduction second programming assignment req...  \n",
       "1    well hello repository meant provide example fo...  \n",
       "2    div aligncenter img srchttpswwwtensorfloworgim...  \n",
       "3    smartthings public github repo official list s...  \n",
       "4    p aligncenter hrefhttpsgetbootstrapcom img src...  \n",
       "..                                                 ...  \n",
       "220  ngxadmin img srchttpsiimgurcomomcxwz0png altev...  \n",
       "221  swirl course collection interactive course use...  \n",
       "222  jennic platform added note detail project plea...  \n",
       "223  etcd go report cardhttpsgoreportcardcombadgegi...  \n",
       "224  httpslh4googleusercontentcompvwzum9vv8uuweh51o...  \n",
       "\n",
       "[225 rows x 4 columns]"
      ]
     },
     "execution_count": 2,
     "metadata": {},
     "output_type": "execute_result"
    }
   ],
   "source": [
    "df = pr.wrangle_readme_data()\n",
    "df"
   ]
  },
  {
   "cell_type": "code",
   "execution_count": 3,
   "metadata": {},
   "outputs": [
    {
     "data": {
      "text/plain": [
       "Index(['repo', 'language', 'readme_contents', 'clean_readme_contents'], dtype='object')"
      ]
     },
     "execution_count": 3,
     "metadata": {},
     "output_type": "execute_result"
    }
   ],
   "source": [
    "df.columns"
   ]
  },
  {
   "cell_type": "code",
   "execution_count": 4,
   "metadata": {},
   "outputs": [
    {
     "data": {
      "text/plain": [
       "crossoverJie/JCSprout                                                          2\n",
       "tensorflow/tensorflow                                                          2\n",
       "CamDavidsonPilon/Probabilistic-Programming-and-Bayesian-Methods-for-Hackers    2\n",
       "tensorflow/models                                                              2\n",
       "twbs/bootstrap                                                                 2\n",
       "arduino/Arduino                                                                2\n",
       "SmartThingsCommunity/SmartThingsPublic                                         2\n",
       "axios/axios                                                                    2\n",
       "soimort/you-get                                                                2\n",
       "rust-lang/rust                                                                 2\n",
       "apache/incubator-mxnet                                                         2\n",
       "phonegap/phonegap-start                                                        2\n",
       "nightscout/cgm-remote-monitor                                                  2\n",
       "fengdu78/Coursera-ML-AndrewNg-Notes                                            2\n",
       "rdpeng/ProgrammingAssignment2                                                  2\n",
       "woocommerce/woocommerce                                                        2\n",
       "octocat/Spoon-Knife                                                            2\n",
       "Blankj/AndroidUtilCode                                                         1\n",
       "Name: repo, dtype: int64"
      ]
     },
     "execution_count": 4,
     "metadata": {},
     "output_type": "execute_result"
    }
   ],
   "source": [
    "df.repo.value_counts().head(18)"
   ]
  },
  {
   "cell_type": "code",
   "execution_count": 5,
   "metadata": {},
   "outputs": [
    {
     "data": {
      "text/plain": [
       "jlord/patchwork                          1\n",
       "mui-org/material-ui                      1\n",
       "Snailclimb/JavaGuide                     1\n",
       "josephmisiti/awesome-machine-learning    1\n",
       "coolsnowwolf/lede                        1\n",
       "Name: repo, dtype: int64"
      ]
     },
     "execution_count": 5,
     "metadata": {},
     "output_type": "execute_result"
    }
   ],
   "source": [
    "df.repo.value_counts().tail()"
   ]
  },
  {
   "cell_type": "code",
   "execution_count": 6,
   "metadata": {},
   "outputs": [
    {
     "data": {
      "text/plain": [
       "208"
      ]
     },
     "execution_count": 6,
     "metadata": {},
     "output_type": "execute_result"
    }
   ],
   "source": [
    "len(df.repo.unique())"
   ]
  },
  {
   "cell_type": "code",
   "execution_count": null,
   "metadata": {},
   "outputs": [],
   "source": []
  }
 ],
 "metadata": {
  "kernelspec": {
   "display_name": "Python 3",
   "language": "python",
   "name": "python3"
  },
  "language_info": {
   "codemirror_mode": {
    "name": "ipython",
    "version": 3
   },
   "file_extension": ".py",
   "mimetype": "text/x-python",
   "name": "python",
   "nbconvert_exporter": "python",
   "pygments_lexer": "ipython3",
   "version": "3.7.4"
  }
 },
 "nbformat": 4,
 "nbformat_minor": 2
}
