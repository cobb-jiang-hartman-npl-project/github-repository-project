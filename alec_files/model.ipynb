{
 "cells": [
  {
   "cell_type": "markdown",
   "metadata": {},
   "source": [
    "# Modeling"
   ]
  },
  {
   "cell_type": "code",
   "execution_count": 1,
   "metadata": {},
   "outputs": [],
   "source": [
    "import numpy as np\n",
    "import pandas as pd\n",
    "\n",
    "from pprint import pprint\n",
    "\n",
    "import unicodedata\n",
    "\n",
    "import re\n",
    "\n",
    "import json\n",
    "\n",
    "import nltk\n",
    "from nltk.tokenize.toktok import ToktokTokenizer\n",
    "from nltk.corpus import stopwords\n",
    "\n",
    "from sklearn.feature_extraction.text import CountVectorizer, TfidfVectorizer\n",
    "\n",
    "from sklearn.model_selection import train_test_split\n",
    "from sklearn.tree import DecisionTreeClassifier\n",
    "from sklearn.linear_model import LogisticRegression\n",
    "\n",
    "import acquire as ac\n",
    "import prepare as pr\n",
    "import preprocessing as pp"
   ]
  },
  {
   "cell_type": "markdown",
   "metadata": {},
   "source": [
    "---\n",
    "## Wrangle"
   ]
  },
  {
   "cell_type": "code",
   "execution_count": 2,
   "metadata": {},
   "outputs": [
    {
     "data": {
      "text/html": [
       "<div>\n",
       "<style scoped>\n",
       "    .dataframe tbody tr th:only-of-type {\n",
       "        vertical-align: middle;\n",
       "    }\n",
       "\n",
       "    .dataframe tbody tr th {\n",
       "        vertical-align: top;\n",
       "    }\n",
       "\n",
       "    .dataframe thead th {\n",
       "        text-align: right;\n",
       "    }\n",
       "</style>\n",
       "<table border=\"1\" class=\"dataframe\">\n",
       "  <thead>\n",
       "    <tr style=\"text-align: right;\">\n",
       "      <th></th>\n",
       "      <th>repo</th>\n",
       "      <th>language</th>\n",
       "      <th>readme_contents</th>\n",
       "      <th>clean_readme_contents</th>\n",
       "      <th>len_of_clean_readme_contents</th>\n",
       "    </tr>\n",
       "  </thead>\n",
       "  <tbody>\n",
       "    <tr>\n",
       "      <th>0</th>\n",
       "      <td>rdpeng/ProgrammingAssignment2</td>\n",
       "      <td>R</td>\n",
       "      <td>### Introduction\\n\\nThis second programming as...</td>\n",
       "      <td>introduction second programming assignment req...</td>\n",
       "      <td>332</td>\n",
       "    </tr>\n",
       "    <tr>\n",
       "      <th>1</th>\n",
       "      <td>octocat/Spoon-Knife</td>\n",
       "      <td>HTML</td>\n",
       "      <td>### Well hello there!\\n\\nThis repository is me...</td>\n",
       "      <td>well hello repository meant provide example fo...</td>\n",
       "      <td>62</td>\n",
       "    </tr>\n",
       "    <tr>\n",
       "      <th>2</th>\n",
       "      <td>tensorflow/tensorflow</td>\n",
       "      <td>C++</td>\n",
       "      <td>&lt;div align=\"center\"&gt;\\n  &lt;img src=\"https://www....</td>\n",
       "      <td>div aligncenter srchttpswwwtensorfloworgimages...</td>\n",
       "      <td>434</td>\n",
       "    </tr>\n",
       "    <tr>\n",
       "      <th>3</th>\n",
       "      <td>SmartThingsCommunity/SmartThingsPublic</td>\n",
       "      <td>Groovy</td>\n",
       "      <td># SmartThings Public GitHub Repo\\n\\nAn officia...</td>\n",
       "      <td>smartthings public github repo official list s...</td>\n",
       "      <td>32</td>\n",
       "    </tr>\n",
       "    <tr>\n",
       "      <th>4</th>\n",
       "      <td>twbs/bootstrap</td>\n",
       "      <td>JavaScript</td>\n",
       "      <td>&lt;p align=\"center\"&gt;\\n  &lt;a href=\"https://getboot...</td>\n",
       "      <td>p aligncenter hrefhttpsgetbootstrapcom srchttp...</td>\n",
       "      <td>567</td>\n",
       "    </tr>\n",
       "    <tr>\n",
       "      <th>...</th>\n",
       "      <td>...</td>\n",
       "      <td>...</td>\n",
       "      <td>...</td>\n",
       "      <td>...</td>\n",
       "      <td>...</td>\n",
       "    </tr>\n",
       "    <tr>\n",
       "      <th>214</th>\n",
       "      <td>akveo/ngx-admin</td>\n",
       "      <td>TypeScript</td>\n",
       "      <td># ngx-admin [&lt;img src=\"https://i.imgur.com/oMc...</td>\n",
       "      <td>ngxadmin srchttpsiimgurcomomcxwz0png alteva de...</td>\n",
       "      <td>300</td>\n",
       "    </tr>\n",
       "    <tr>\n",
       "      <th>215</th>\n",
       "      <td>swirldev/swirl_courses</td>\n",
       "      <td>R</td>\n",
       "      <td># swirl courses\\n\\nThis is a collection of int...</td>\n",
       "      <td>swirl course collection interactive course use...</td>\n",
       "      <td>393</td>\n",
       "    </tr>\n",
       "    <tr>\n",
       "      <th>216</th>\n",
       "      <td>jrowberg/i2cdevlib</td>\n",
       "      <td>C++</td>\n",
       "      <td>Jennic platform added!\\n\\n====================...</td>\n",
       "      <td>jennic platform added note detail project plea...</td>\n",
       "      <td>250</td>\n",
       "    </tr>\n",
       "    <tr>\n",
       "      <th>217</th>\n",
       "      <td>etcd-io/etcd</td>\n",
       "      <td>Go</td>\n",
       "      <td># etcd\\n\\n[![Go Report Card](https://goreportc...</td>\n",
       "      <td>etcd go report cardhttpsgoreportcardcombadgegi...</td>\n",
       "      <td>630</td>\n",
       "    </tr>\n",
       "    <tr>\n",
       "      <th>218</th>\n",
       "      <td>sahat/hackathon-starter</td>\n",
       "      <td>JavaScript</td>\n",
       "      <td>![](https://lh4.googleusercontent.com/-PVw-ZUM...</td>\n",
       "      <td>httpslh4googleusercontentcompvwzum9vv8uuweh51o...</td>\n",
       "      <td>5682</td>\n",
       "    </tr>\n",
       "  </tbody>\n",
       "</table>\n",
       "<p>219 rows × 5 columns</p>\n",
       "</div>"
      ],
      "text/plain": [
       "                                       repo    language  \\\n",
       "0             rdpeng/ProgrammingAssignment2           R   \n",
       "1                       octocat/Spoon-Knife        HTML   \n",
       "2                     tensorflow/tensorflow         C++   \n",
       "3    SmartThingsCommunity/SmartThingsPublic      Groovy   \n",
       "4                            twbs/bootstrap  JavaScript   \n",
       "..                                      ...         ...   \n",
       "214                         akveo/ngx-admin  TypeScript   \n",
       "215                  swirldev/swirl_courses           R   \n",
       "216                      jrowberg/i2cdevlib         C++   \n",
       "217                            etcd-io/etcd          Go   \n",
       "218                 sahat/hackathon-starter  JavaScript   \n",
       "\n",
       "                                       readme_contents  \\\n",
       "0    ### Introduction\\n\\nThis second programming as...   \n",
       "1    ### Well hello there!\\n\\nThis repository is me...   \n",
       "2    <div align=\"center\">\\n  <img src=\"https://www....   \n",
       "3    # SmartThings Public GitHub Repo\\n\\nAn officia...   \n",
       "4    <p align=\"center\">\\n  <a href=\"https://getboot...   \n",
       "..                                                 ...   \n",
       "214  # ngx-admin [<img src=\"https://i.imgur.com/oMc...   \n",
       "215  # swirl courses\\n\\nThis is a collection of int...   \n",
       "216  Jennic platform added!\\n\\n====================...   \n",
       "217  # etcd\\n\\n[![Go Report Card](https://goreportc...   \n",
       "218  ![](https://lh4.googleusercontent.com/-PVw-ZUM...   \n",
       "\n",
       "                                 clean_readme_contents  \\\n",
       "0    introduction second programming assignment req...   \n",
       "1    well hello repository meant provide example fo...   \n",
       "2    div aligncenter srchttpswwwtensorfloworgimages...   \n",
       "3    smartthings public github repo official list s...   \n",
       "4    p aligncenter hrefhttpsgetbootstrapcom srchttp...   \n",
       "..                                                 ...   \n",
       "214  ngxadmin srchttpsiimgurcomomcxwz0png alteva de...   \n",
       "215  swirl course collection interactive course use...   \n",
       "216  jennic platform added note detail project plea...   \n",
       "217  etcd go report cardhttpsgoreportcardcombadgegi...   \n",
       "218  httpslh4googleusercontentcompvwzum9vv8uuweh51o...   \n",
       "\n",
       "     len_of_clean_readme_contents  \n",
       "0                             332  \n",
       "1                              62  \n",
       "2                             434  \n",
       "3                              32  \n",
       "4                             567  \n",
       "..                            ...  \n",
       "214                           300  \n",
       "215                           393  \n",
       "216                           250  \n",
       "217                           630  \n",
       "218                          5682  \n",
       "\n",
       "[219 rows x 5 columns]"
      ]
     },
     "execution_count": 2,
     "metadata": {},
     "output_type": "execute_result"
    }
   ],
   "source": [
    "df = pr.wrangle_readme_data()\n",
    "df"
   ]
  },
  {
   "cell_type": "code",
   "execution_count": 3,
   "metadata": {},
   "outputs": [
    {
     "data": {
      "text/plain": [
       "Index(['repo', 'language', 'readme_contents', 'clean_readme_contents',\n",
       "       'len_of_clean_readme_contents'],\n",
       "      dtype='object')"
      ]
     },
     "execution_count": 3,
     "metadata": {},
     "output_type": "execute_result"
    }
   ],
   "source": [
    "df.columns"
   ]
  },
  {
   "cell_type": "code",
   "execution_count": 4,
   "metadata": {},
   "outputs": [
    {
     "data": {
      "text/plain": [
       "SmartThingsCommunity/SmartThingsPublic                                         2\n",
       "nightscout/cgm-remote-monitor                                                  2\n",
       "rust-lang/rust                                                                 2\n",
       "fengdu78/Coursera-ML-AndrewNg-Notes                                            2\n",
       "arduino/Arduino                                                                2\n",
       "apache/incubator-mxnet                                                         2\n",
       "axios/axios                                                                    2\n",
       "CamDavidsonPilon/Probabilistic-Programming-and-Bayesian-Methods-for-Hackers    2\n",
       "twbs/bootstrap                                                                 2\n",
       "woocommerce/woocommerce                                                        2\n",
       "octocat/Spoon-Knife                                                            2\n",
       "rdpeng/ProgrammingAssignment2                                                  2\n",
       "tensorflow/models                                                              2\n",
       "phonegap/phonegap-start                                                        2\n",
       "crossoverJie/JCSprout                                                          2\n",
       "tensorflow/tensorflow                                                          2\n",
       "soimort/you-get                                                                2\n",
       "avelino/awesome-go                                                             1\n",
       "Name: repo, dtype: int64"
      ]
     },
     "execution_count": 4,
     "metadata": {},
     "output_type": "execute_result"
    }
   ],
   "source": [
    "df.repo.value_counts().head(18)"
   ]
  },
  {
   "cell_type": "code",
   "execution_count": 5,
   "metadata": {},
   "outputs": [
    {
     "data": {
      "text/plain": [
       "zxing/zxing              1\n",
       "kubernetes/kubernetes    1\n",
       "microsoft/vscode         1\n",
       "vinta/awesome-python     1\n",
       "bcit-ci/CodeIgniter      1\n",
       "Name: repo, dtype: int64"
      ]
     },
     "execution_count": 5,
     "metadata": {},
     "output_type": "execute_result"
    }
   ],
   "source": [
    "df.repo.value_counts().tail()"
   ]
  },
  {
   "cell_type": "code",
   "execution_count": 6,
   "metadata": {},
   "outputs": [
    {
     "data": {
      "text/plain": [
       "202"
      ]
     },
     "execution_count": 6,
     "metadata": {},
     "output_type": "execute_result"
    }
   ],
   "source": [
    "len(df.repo.unique())"
   ]
  },
  {
   "cell_type": "code",
   "execution_count": 7,
   "metadata": {},
   "outputs": [
    {
     "data": {
      "text/plain": [
       "JavaScript          45\n",
       "Java                35\n",
       "Python              29\n",
       "C++                 18\n",
       "HTML                16\n",
       "Go                   9\n",
       "Jupyter Notebook     9\n",
       "PHP                  9\n",
       "Ruby                 7\n",
       "TypeScript           7\n",
       "CSS                  6\n",
       "C                    5\n",
       "Vue                  3\n",
       "R                    3\n",
       "Rust                 3\n",
       "PowerShell           2\n",
       "C#                   2\n",
       "Groovy               2\n",
       "Kotlin               2\n",
       "Shell                2\n",
       "Objective-C          1\n",
       "Scala                1\n",
       "ApacheConf           1\n",
       "Swift                1\n",
       "TeX                  1\n",
       "Name: language, dtype: int64"
      ]
     },
     "execution_count": 7,
     "metadata": {},
     "output_type": "execute_result"
    }
   ],
   "source": [
    "# stratification base on language using train_test_split won't work unless we have more than one observation\n",
    "# per language\n",
    "df.language.value_counts()"
   ]
  },
  {
   "cell_type": "markdown",
   "metadata": {},
   "source": [
    "---\n",
    "## Model"
   ]
  },
  {
   "cell_type": "markdown",
   "metadata": {},
   "source": [
    "---\n",
    "### Outlier Detour"
   ]
  },
  {
   "cell_type": "code",
   "execution_count": 8,
   "metadata": {},
   "outputs": [],
   "source": [
    "# lemmas\n",
    "# list_of_readmes = df.clean_readme_contents.tolist()\n",
    "# list_of_readmes"
   ]
  },
  {
   "cell_type": "code",
   "execution_count": 9,
   "metadata": {},
   "outputs": [],
   "source": [
    "# for index in range(len(list_of_readmes)):\n",
    "#     list_of_readmes[index] = list_of_readmes[index].split()\n",
    "    \n",
    "\n",
    "# print(list_of_readmes)"
   ]
  },
  {
   "cell_type": "code",
   "execution_count": 10,
   "metadata": {},
   "outputs": [],
   "source": [
    "# list_of_list_of_lemmas = [lemma.split() for lemmas in list_of_lemmas]\n",
    "# list_of_list_of_lemmas"
   ]
  },
  {
   "cell_type": "code",
   "execution_count": 11,
   "metadata": {},
   "outputs": [],
   "source": [
    "# len(list_of_readmes[0])"
   ]
  },
  {
   "cell_type": "code",
   "execution_count": 12,
   "metadata": {},
   "outputs": [],
   "source": [
    "# len(list_of_readmes[-1])"
   ]
  },
  {
   "cell_type": "code",
   "execution_count": 13,
   "metadata": {},
   "outputs": [],
   "source": [
    "# len_of_readmes = [len(readme) for readme in list_of_readmes]\n",
    "# len_of_readmes"
   ]
  },
  {
   "cell_type": "code",
   "execution_count": 14,
   "metadata": {},
   "outputs": [],
   "source": [
    "# len_of_readmes.sort()"
   ]
  },
  {
   "cell_type": "code",
   "execution_count": 15,
   "metadata": {},
   "outputs": [],
   "source": [
    "# print(len_of_readmes)"
   ]
  },
  {
   "cell_type": "markdown",
   "metadata": {},
   "source": [
    "**Cutoff for length of words in readme = 10**"
   ]
  },
  {
   "cell_type": "code",
   "execution_count": 16,
   "metadata": {},
   "outputs": [
    {
     "data": {
      "text/plain": [
       "['smartthings public github repo official list smartapps device type smartthings link help get started coding right away githubspecific documentationhttpdocssmartthingscomenlatesttoolsandidegithubintegrationhtml full documentationhttpdocssmartthingscom ide simulatorhttpidesmartthingscom community forumshttpcommunitysmartthingscom follow u web twitter httptwittercomsmartthingsdev facebook httpfacebookcomsmartthingsdevelopers']"
      ]
     },
     "execution_count": 16,
     "metadata": {},
     "output_type": "execute_result"
    }
   ],
   "source": [
    "index_three_list = df[df.index == 3].clean_readme_contents.values.tolist()\n",
    "index_three_list"
   ]
  },
  {
   "cell_type": "code",
   "execution_count": 17,
   "metadata": {
    "scrolled": true
   },
   "outputs": [
    {
     "data": {
      "text/plain": [
       "3    32\n",
       "Name: len_of_clean_readme_contents, dtype: int64"
      ]
     },
     "execution_count": 17,
     "metadata": {},
     "output_type": "execute_result"
    }
   ],
   "source": [
    "df[df.index == 3].len_of_clean_readme_contents"
   ]
  },
  {
   "cell_type": "markdown",
   "metadata": {},
   "source": [
    "**len_of_clean_readme_contents seems to be working**"
   ]
  },
  {
   "cell_type": "code",
   "execution_count": 18,
   "metadata": {},
   "outputs": [
    {
     "data": {
      "text/plain": [
       "10       1\n",
       "13       2\n",
       "14       2\n",
       "30       2\n",
       "32       2\n",
       "        ..\n",
       "5682     1\n",
       "7278     1\n",
       "8039     1\n",
       "10293    1\n",
       "16635    1\n",
       "Name: len_of_clean_readme_contents, Length: 182, dtype: int64"
      ]
     },
     "execution_count": 18,
     "metadata": {},
     "output_type": "execute_result"
    }
   ],
   "source": [
    "df.len_of_clean_readme_contents.value_counts().sort_index()"
   ]
  },
  {
   "cell_type": "code",
   "execution_count": 19,
   "metadata": {},
   "outputs": [
    {
     "data": {
      "text/plain": [
       "(219, 5)"
      ]
     },
     "execution_count": 19,
     "metadata": {},
     "output_type": "execute_result"
    }
   ],
   "source": [
    "df.shape"
   ]
  },
  {
   "cell_type": "markdown",
   "metadata": {},
   "source": [
    "**225 observations before outlier removal; should have 219 after**"
   ]
  },
  {
   "cell_type": "markdown",
   "metadata": {},
   "source": [
    "**CHECK**"
   ]
  },
  {
   "cell_type": "markdown",
   "metadata": {},
   "source": [
    "---\n",
    "### Back on Model Track"
   ]
  },
  {
   "cell_type": "markdown",
   "metadata": {},
   "source": [
    "#### Train/Test Split"
   ]
  },
  {
   "cell_type": "code",
   "execution_count": 20,
   "metadata": {},
   "outputs": [],
   "source": [
    "df = pr.wrangle_readme_data()\n",
    "train, test = pp.split_repo_data(df)"
   ]
  },
  {
   "cell_type": "code",
   "execution_count": 21,
   "metadata": {},
   "outputs": [
    {
     "name": "stdout",
     "output_type": "stream",
     "text": [
      "0.7990867579908676\n"
     ]
    }
   ],
   "source": [
    "print(train.shape[0]/df.shape[0])"
   ]
  },
  {
   "cell_type": "code",
   "execution_count": 22,
   "metadata": {},
   "outputs": [
    {
     "name": "stdout",
     "output_type": "stream",
     "text": [
      "0.2009132420091324\n"
     ]
    }
   ],
   "source": [
    "print(test.shape[0]/df.shape[0])"
   ]
  },
  {
   "cell_type": "code",
   "execution_count": null,
   "metadata": {},
   "outputs": [],
   "source": []
  }
 ],
 "metadata": {
  "kernelspec": {
   "display_name": "Python 3",
   "language": "python",
   "name": "python3"
  },
  "language_info": {
   "codemirror_mode": {
    "name": "ipython",
    "version": 3
   },
   "file_extension": ".py",
   "mimetype": "text/x-python",
   "name": "python",
   "nbconvert_exporter": "python",
   "pygments_lexer": "ipython3",
   "version": "3.7.4"
  }
 },
 "nbformat": 4,
 "nbformat_minor": 2
}
